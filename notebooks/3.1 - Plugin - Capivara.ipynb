{
 "cells": [
  {
   "cell_type": "code",
   "execution_count": 2,
   "id": "55de9dcb",
   "metadata": {},
   "outputs": [],
   "source": [
    "import requests\n",
    "import libs.plugin_converter.semantic_kernel_v0_to_openai_function as semantic_kernel_v0_to_openai_function\n",
    "import libs.plugin_converter.openai_function_to_tool as openai_function_to_tool\n",
    "from libs.plugins.plugin_capivara import PluginCapivaraAlert"
   ]
  },
  {
   "cell_type": "code",
   "execution_count": 3,
   "id": "616c73f5",
   "metadata": {},
   "outputs": [],
   "source": [
    "alerts = [\n",
    "    {\n",
    "        'title': \"Defective product\",\n",
    "        'description': \"I ordered a Handstückschlauch, but it came already broken\",\n",
    "        'severity': \"Medium\",\n",
    "    },\n",
    "    {\n",
    "        'title': \"Help needed during installation\",\n",
    "        'description': \"I'm having trouble installing the Clean Reinigungsgerät, could you send someone to help me?\",\n",
    "        'severity': \"High\",\n",
    "        'conversation_customer': [\n",
    "            {'user': 'John', 'message': 'hello, any update?'},\n",
    "        ]\n",
    "    },\n",
    "    {\n",
    "        'title': \"Order more\",\n",
    "        'description': \"I want to buy more of the same gloves I bought last time, could you send 100 more?\",\n",
    "        'severity': \"Low\",\n",
    "        'state': \"closed\",\n",
    "        'conversation_customer': [\n",
    "            {'user': 'Leonardo Benitez', 'message': 'I have placed the order as requested, you can follow the status in the order page.'},\n",
    "        ]\n",
    "    },\n",
    "]"
   ]
  },
  {
   "cell_type": "code",
   "execution_count": 7,
   "id": "dbc740d2",
   "metadata": {},
   "outputs": [
    {
     "data": {
      "text/plain": [
       "{'title': 'Defective product',\n",
       " 'description': 'I ordered a Handstückschlauch, but it came already broken',\n",
       " 'severity': 'Medium'}"
      ]
     },
     "execution_count": 7,
     "metadata": {},
     "output_type": "execute_result"
    }
   ],
   "source": [
    "a = next(a for a in alerts)\n",
    "a"
   ]
  },
  {
   "cell_type": "code",
   "execution_count": 9,
   "id": "cef664d4",
   "metadata": {},
   "outputs": [],
   "source": [
    "import requests\n",
    "\n",
    "response = requests.post('http://capivara:80/v1/public-api-create-incidents', json=alerts)\n",
    "assert response.status_code == 200\n",
    "assert all([r[0] == 200 for r in response.json()])\n",
    "alert_id = response.json()[0][1]\n",
    "assert type(alert_id) == str\n",
    "assert len(alert_id) > 0"
   ]
  },
  {
   "cell_type": "code",
   "execution_count": 12,
   "id": "7bb3c5a9",
   "metadata": {},
   "outputs": [
    {
     "data": {
      "text/plain": [
       "'new'"
      ]
     },
     "execution_count": 12,
     "metadata": {},
     "output_type": "execute_result"
    }
   ],
   "source": [
    "response = requests.post('http://capivara:80/v1/public-api-read-incidents', json=[alert_id])\n",
    "assert response.status_code == 200\n",
    "assert all([r[0] == 200 for r in response.json()])\n",
    "response.json()[0][1]['state']"
   ]
  },
  {
   "cell_type": "code",
   "execution_count": 13,
   "id": "85c07c9c-aef6-4d60-bf74-85aebb7a3ab5",
   "metadata": {},
   "outputs": [
    {
     "name": "stdout",
     "output_type": "stream",
     "text": [
      "Ticket closed successfully\n"
     ]
    }
   ],
   "source": [
    "plugin = PluginCapivaraAlert(\n",
    "    capivara_base_url='http://capivara:80',\n",
    "    alert_id=alert_id,\n",
    ")\n",
    "print(plugin.close_ticket(semantic_kernel_v0_to_openai_function.make_context({})))"
   ]
  },
  {
   "cell_type": "code",
   "execution_count": 14,
   "id": "a01980b5",
   "metadata": {},
   "outputs": [
    {
     "data": {
      "text/plain": [
       "'closed'"
      ]
     },
     "execution_count": 14,
     "metadata": {},
     "output_type": "execute_result"
    }
   ],
   "source": [
    "response = requests.post('http://capivara:80/v1/public-api-read-incidents', json=[alert_id])\n",
    "assert response.status_code == 200\n",
    "assert all([r[0] == 200 for r in response.json()])\n",
    "response.json()[0][1]['state']"
   ]
  }
 ],
 "metadata": {
  "kernelspec": {
   "display_name": "Python 3 (ipykernel)",
   "language": "python",
   "name": "python3"
  }
 },
 "nbformat": 4,
 "nbformat_minor": 5
}
