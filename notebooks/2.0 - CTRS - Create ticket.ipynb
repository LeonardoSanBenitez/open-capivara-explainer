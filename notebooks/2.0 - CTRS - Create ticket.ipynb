{
 "cells": [
  {
   "cell_type": "code",
   "execution_count": 1,
   "id": "99ccec1e-22d0-452a-badd-0f0cff074f4c",
   "metadata": {},
   "outputs": [],
   "source": [
    "from libs.CTRS.models import Alert"
   ]
  },
  {
   "cell_type": "code",
   "execution_count": 2,
   "id": "323e679a-172a-4c94-96a1-2524156a5381",
   "metadata": {},
   "outputs": [
    {
     "data": {
      "text/plain": [
       "Alert(id='7d568d3d-166a-4058-8fca-f340b5e964b2', alert_id=None, incident_id=None, severity='High', category=None, state='new', version=None, source='sentinel', groups=[], results=[], decision=Decision(passed=False, classification=None, details=''), execution_time=None, signatures=None, workspace_id=None, timestamp=None, timestamp_orchestration=None, timestamp_generated=None, timestamp_closed=None, timestamp_first_activity=None, timestamp_last_activity=None, timestamp_first_modified=None, timestamp_last_modified=None, title='Not enough food', alert_name=None, description='The capivaras are starving, where is our breakfast!!!', provider_name=None, vendor_name=None, vendor_original_id=None, resource_id=None, source_compute_id=None, alert_type=None, confidence_level=None, confidence_score=None, remediation_steps=None, extended_properties={}, entities=[], source_system=None, extended_links=[], product_name=None, product_component_name=None, alert_link=None, compromised_entity=None, tactics=None, techniques=None, labels=[], classification=None, classification_comment=None, classification_reason=None, owner=None, provider_incident_id=None, incident_number=None, related_analytic_rule_ids=[])"
      ]
     },
     "execution_count": 2,
     "metadata": {},
     "output_type": "execute_result"
    }
   ],
   "source": [
    "Alert(\n",
    "    title = 'Not enough food',\n",
    "    description = 'The capivaras are starving, where is our breakfast!!!',\n",
    "    severity = 'High',\n",
    ")"
   ]
  }
 ],
 "metadata": {
  "kernelspec": {
   "display_name": "Python 3 (ipykernel)",
   "language": "python",
   "name": "python3"
  },
  "language_info": {
   "codemirror_mode": {
    "name": "ipython",
    "version": 3
   },
   "file_extension": ".py",
   "mimetype": "text/x-python",
   "name": "python",
   "nbconvert_exporter": "python",
   "pygments_lexer": "ipython3",
   "version": "3.10.12"
  }
 },
 "nbformat": 4,
 "nbformat_minor": 5
}
