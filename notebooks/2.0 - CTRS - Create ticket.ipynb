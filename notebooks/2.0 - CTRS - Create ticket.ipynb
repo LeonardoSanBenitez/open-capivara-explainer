{
 "cells": [
  {
   "cell_type": "code",
   "execution_count": 1,
   "id": "99ccec1e-22d0-452a-badd-0f0cff074f4c",
   "metadata": {},
   "outputs": [],
   "source": [
    "from libs.CTRS.models import Alert"
   ]
  },
  {
   "cell_type": "code",
   "execution_count": 2,
   "id": "323e679a-172a-4c94-96a1-2524156a5381",
   "metadata": {},
   "outputs": [
    {
     "data": {
      "text/plain": [
       "Alert(id='460db3ba-2f6c-4b44-be0a-54a32416cd4e', alert_id=None, incident_id=None, severity='High', category=None, state='new', version=None, source='sentinel', groups=[], decision=Decision(passed=False, classification=None, details=''), results=[], execution_time=None, signatures=None, workspace_id=None, timestamp=None, timestamp_orchestration=None, timestamp_generated=None, timestamp_closed=None, timestamp_first_activity=None, timestamp_last_activity=None, timestamp_first_modified=None, timestamp_last_modified=None, title='Not enough food', alert_name=None, description='The capivaras are starving, where is our breakfast!!!', provider_name=None, vendor_name=None, vendor_original_id=None, resource_id=None, source_compute_id=None, alert_type=None, confidence_level=None, confidence_score=None, remediation_steps=None, extended_properties={}, entities=[], source_system=None, extended_links=[], product_name=None, product_component_name=None, alert_link=None, compromised_entity=None, tactics=None, techniques=None, labels=[], classification=None, classification_comment=None, classification_reason=None, owner=None, provider_incident_id=None, incident_number=None, related_analytic_rule_ids=[])"
      ]
     },
     "execution_count": 2,
     "metadata": {},
     "output_type": "execute_result"
    }
   ],
   "source": [
    "Alert(\n",
    "    title = 'Not enough food',\n",
    "    description = 'The capivaras are starving, where is our breakfast!!!',\n",
    "    severity = 'High',\n",
    ")"
   ]
  },
  {
   "cell_type": "code",
   "execution_count": null,
   "id": "3304c6b3",
   "metadata": {},
   "outputs": [],
   "source": []
  },
  {
   "cell_type": "code",
   "execution_count": 4,
   "id": "106cd524",
   "metadata": {},
   "outputs": [
    {
     "data": {
      "text/plain": [
       "<Response [200]>"
      ]
     },
     "execution_count": 4,
     "metadata": {},
     "output_type": "execute_result"
    }
   ],
   "source": [
    "import requests\n",
    "\n",
    "requests.post('http://capivara:80/v1/availability-test')"
   ]
  },
  {
   "cell_type": "code",
   "execution_count": 7,
   "id": "34150b23",
   "metadata": {},
   "outputs": [],
   "source": [
    "import requests\n",
    "\n",
    "response = requests.post('http://capivara:80/v1/public-api-create-incidents', json=[\n",
    "    {\n",
    "        \"title\": \"Not enough food\",\n",
    "        \"description\": \"The capivaras are starving, where is our breakfast!!!\",\n",
    "        \"severity\": \"High\"\n",
    "    }\n",
    "])\n",
    "assert response.status_code == 200\n",
    "assert all([r[0] == 200 for r in response.json()])\n",
    "incident_id = response.json()[0][1]\n",
    "assert type(incident_id) == str\n",
    "assert len(incident_id) > 0"
   ]
  },
  {
   "cell_type": "code",
   "execution_count": 8,
   "id": "73b83432",
   "metadata": {},
   "outputs": [
    {
     "data": {
      "text/plain": [
       "Alert(id='9d7b5420-66c8-452f-a26a-833f46913ed0', alert_id=None, incident_id=None, severity='High', category=None, state='new', version=None, source='sentinel', groups=[], decision=Decision(passed=False, classification=None, details=''), results=[], execution_time=None, signatures=None, workspace_id=None, timestamp=None, timestamp_orchestration=None, timestamp_generated=None, timestamp_closed=None, timestamp_first_activity=None, timestamp_last_activity=None, timestamp_first_modified=None, timestamp_last_modified=None, title='Not enough food', alert_name=None, description='The capivaras are starving, where is our breakfast!!!', provider_name=None, vendor_name=None, vendor_original_id=None, resource_id=None, source_compute_id=None, alert_type=None, confidence_level=None, confidence_score=None, remediation_steps=None, extended_properties={}, entities=[], source_system=None, extended_links=[], product_name=None, product_component_name=None, alert_link=None, compromised_entity=None, tactics=None, techniques=None, labels=[], classification=None, classification_comment=None, classification_reason=None, owner=None, provider_incident_id=None, incident_number=None, related_analytic_rule_ids=[])"
      ]
     },
     "execution_count": 8,
     "metadata": {},
     "output_type": "execute_result"
    }
   ],
   "source": [
    "response = requests.post('http://capivara:80/v1/public-api-read-incidents', json=[incident_id])\n",
    "assert response.status_code == 200\n",
    "assert all([r[0] == 200 for r in response.json()])\n",
    "Alert(**response.json()[0][1])"
   ]
  },
  {
   "cell_type": "code",
   "execution_count": 9,
   "id": "8c079a30",
   "metadata": {},
   "outputs": [],
   "source": [
    "response = requests.post('http://capivara:80/v1/public-api-update-incidents', json=[\n",
    "    {\n",
    "        \"id\": incident_id,\n",
    "        \"state\": \"closed\",\n",
    "    }\n",
    "])\n",
    "assert response.status_code == 200\n",
    "assert all([r[0] == 200 for r in response.json()])"
   ]
  },
  {
   "cell_type": "code",
   "execution_count": 11,
   "id": "db9d9c3a",
   "metadata": {},
   "outputs": [
    {
     "data": {
      "text/plain": [
       "'closed'"
      ]
     },
     "execution_count": 11,
     "metadata": {},
     "output_type": "execute_result"
    }
   ],
   "source": [
    "response = requests.post('http://capivara:80/v1/public-api-read-incidents', json=[incident_id])\n",
    "assert response.status_code == 200\n",
    "assert all([r[0] == 200 for r in response.json()])\n",
    "Alert(**response.json()[0][1]).state"
   ]
  }
 ],
 "metadata": {
  "kernelspec": {
   "display_name": "Python 3 (ipykernel)",
   "language": "python",
   "name": "python3"
  }
 },
 "nbformat": 4,
 "nbformat_minor": 5
}
