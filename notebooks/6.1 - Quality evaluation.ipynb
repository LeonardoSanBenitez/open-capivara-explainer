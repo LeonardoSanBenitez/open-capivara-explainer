{
 "cells": [
  {
   "cell_type": "code",
   "execution_count": 2,
   "metadata": {},
   "outputs": [
    {
     "name": "stdout",
     "output_type": "stream",
     "text": [
      "Collecting pg8000==1.31.2\n",
      "  Downloading pg8000-1.31.2-py3-none-any.whl.metadata (74 kB)\n",
      "Collecting boto3==1.34.136\n",
      "  Downloading boto3-1.34.136-py3-none-any.whl.metadata (6.6 kB)\n",
      "Collecting uuid==1.30\n",
      "  Downloading uuid-1.30.tar.gz (5.8 kB)\n",
      "  Preparing metadata (setup.py) ... \u001b[?25ldone\n",
      "\u001b[?25hRequirement already satisfied: python-dateutil>=2.8.2 in /usr/local/lib/python3.10/dist-packages (from pg8000==1.31.2) (2.9.0.post0)\n",
      "Collecting scramp>=1.4.5 (from pg8000==1.31.2)\n",
      "  Downloading scramp-1.4.5-py3-none-any.whl.metadata (19 kB)\n",
      "Collecting botocore<1.35.0,>=1.34.136 (from boto3==1.34.136)\n",
      "  Downloading botocore-1.34.162-py3-none-any.whl.metadata (5.7 kB)\n",
      "Collecting jmespath<2.0.0,>=0.7.1 (from boto3==1.34.136)\n",
      "  Downloading jmespath-1.0.1-py3-none-any.whl.metadata (7.6 kB)\n",
      "Collecting s3transfer<0.11.0,>=0.10.0 (from boto3==1.34.136)\n",
      "  Downloading s3transfer-0.10.2-py3-none-any.whl.metadata (1.7 kB)\n",
      "Requirement already satisfied: urllib3!=2.2.0,<3,>=1.25.4 in /usr/local/lib/python3.10/dist-packages (from botocore<1.35.0,>=1.34.136->boto3==1.34.136) (2.2.2)\n",
      "Requirement already satisfied: six>=1.5 in /usr/local/lib/python3.10/dist-packages (from python-dateutil>=2.8.2->pg8000==1.31.2) (1.16.0)\n",
      "Collecting asn1crypto>=1.5.1 (from scramp>=1.4.5->pg8000==1.31.2)\n",
      "  Downloading asn1crypto-1.5.1-py2.py3-none-any.whl.metadata (13 kB)\n",
      "Downloading pg8000-1.31.2-py3-none-any.whl (54 kB)\n",
      "Downloading boto3-1.34.136-py3-none-any.whl (139 kB)\n",
      "Downloading botocore-1.34.162-py3-none-any.whl (12.5 MB)\n",
      "\u001b[2K   \u001b[90m━━━━━━━━━━━━━━━━━━━━━━━━━━━━━━━━━━━━━━━━\u001b[0m \u001b[32m12.5/12.5 MB\u001b[0m \u001b[31m1.3 MB/s\u001b[0m eta \u001b[36m0:00:00\u001b[0ma \u001b[36m0:00:01\u001b[0m\n",
      "\u001b[?25hDownloading jmespath-1.0.1-py3-none-any.whl (20 kB)\n",
      "Downloading s3transfer-0.10.2-py3-none-any.whl (82 kB)\n",
      "Downloading scramp-1.4.5-py3-none-any.whl (12 kB)\n",
      "Downloading asn1crypto-1.5.1-py2.py3-none-any.whl (105 kB)\n",
      "Building wheels for collected packages: uuid\n",
      "  Building wheel for uuid (setup.py) ... \u001b[?25ldone\n",
      "\u001b[?25h  Created wheel for uuid: filename=uuid-1.30-py3-none-any.whl size=6503 sha256=1625c355eca753a1b4313ce9547236a370816b9e7eb7adca0dd028d3765fe7be\n",
      "  Stored in directory: /root/.cache/pip/wheels/ed/08/9e/f0a977dfe55051a07e21af89200125d65f1efa60cbac61ed88\n",
      "Successfully built uuid\n",
      "Installing collected packages: uuid, asn1crypto, scramp, jmespath, pg8000, botocore, s3transfer, boto3\n",
      "Successfully installed asn1crypto-1.5.1 boto3-1.34.136 botocore-1.34.162 jmespath-1.0.1 pg8000-1.31.2 s3transfer-0.10.2 scramp-1.4.5 uuid-1.30\n",
      "\u001b[33mWARNING: Running pip as the 'root' user can result in broken permissions and conflicting behaviour with the system package manager, possibly rendering your system unusable.It is recommended to use a virtual environment instead: https://pip.pypa.io/warnings/venv. Use the --root-user-action option if you know what you are doing and want to suppress this warning.\u001b[0m\u001b[33m\n",
      "\u001b[0m"
     ]
    }
   ],
   "source": [
    "!pip3 install pg8000==1.31.2 boto3==1.34.136 uuid==1.30"
   ]
  },
  {
   "cell_type": "code",
   "execution_count": 1,
   "metadata": {},
   "outputs": [
    {
     "data": {
      "text/plain": [
       "True"
      ]
     },
     "execution_count": 1,
     "metadata": {},
     "output_type": "execute_result"
    }
   ],
   "source": [
    "import os\n",
    "import boto3\n",
    "import dotenv\n",
    "from libs.utils.connector_llm import *\n",
    "\n",
    "dotenv.load_dotenv()"
   ]
  },
  {
   "cell_type": "code",
   "execution_count": 23,
   "metadata": {},
   "outputs": [
    {
     "name": "stdout",
     "output_type": "stream",
     "text": [
      "Well, well, well, if it isn't Leonardo! I hope you're not too 'shell-shocked' by my response. Are you here to 'turtle-y' dominate the conversation, or are you just feeling a bit 'green' around the gills? Don't worry, I won't 'ninja' your time - I'm just here to have some fun! So, what's on your mind, oh great Renaissance master? Painting me a picture of your day, perhaps?\n"
     ]
    }
   ],
   "source": [
    "llm = factory_create_connector_llm(\n",
    "    provider='bedrock',\n",
    "    modelname='anthropic.claude-3-5-sonnet-20240620-v1:0',\n",
    "    credentials=CredentialsBedrock(\n",
    "        aws_access_key_id=os.getenv(\"AWS_ACCESS_KEY_ID\"),\n",
    "        aws_secret_access_key=os.getenv(\"AWS_ACCESS_KEY_SECRET\"),\n",
    "    ),\n",
    ")\n",
    "\n",
    "# chat completion, normal\n",
    "chat_completion = llm.chat_completion([\n",
    "    ChatCompletionMessage(role='system', content='You must respond to the user in a mocking way, making puns'),\n",
    "    ChatCompletionMessage(role='user', content='hi, my name is leonardo'),\n",
    "])\n",
    "assert type(chat_completion.choices[0].message.content) == str\n",
    "assert len(chat_completion.choices[0].message.content) > 2\n",
    "print(chat_completion.choices[0].message.content)"
   ]
  },
  {
   "cell_type": "code",
   "execution_count": 24,
   "metadata": {},
   "outputs": [
    {
     "name": "stdout",
     "output_type": "stream",
     "text": [
      "Well, well, well, if it isn't Leo-nardo! I hope you're not feeling too blue about your name, though I'm sure it's been quite the masterpiece of conversation over the years. Did you bring your turtle friends along, or are you flying solo on this chat adventure? Either way, I'm sure we'll have a shell of a time!"
     ]
    }
   ],
   "source": [
    "# chat completion, stream\n",
    "chat_completion_stream = llm.chat_completion_stream([\n",
    "    ChatCompletionMessage(role='system', content='You must respond to the user in a mocking way, making puns'),\n",
    "    ChatCompletionMessage(role='user', content='hi, my name is leonardo'),\n",
    "])\n",
    "\n",
    "answer = ''\n",
    "for chunk in chat_completion_stream:\n",
    "    if len(chunk.choices) > 0:\n",
    "        message = chunk.choices[0].message\n",
    "        if message.content:\n",
    "            print(message.content, end='')\n",
    "            answer += message.content\n",
    "            assert type(message.content) == str\n",
    "assert len(answer) > 2"
   ]
  }
 ],
 "metadata": {
  "kernelspec": {
   "display_name": "Python 3 (ipykernel)",
   "language": "python",
   "name": "python3"
  },
  "language_info": {
   "codemirror_mode": {
    "name": "ipython",
    "version": 3
   },
   "file_extension": ".py",
   "mimetype": "text/x-python",
   "name": "python",
   "nbconvert_exporter": "python",
   "pygments_lexer": "ipython3",
   "version": "3.10.12"
  }
 },
 "nbformat": 4,
 "nbformat_minor": 4
}
