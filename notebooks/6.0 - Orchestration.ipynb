{
 "cells": [
  {
   "cell_type": "code",
   "execution_count": 1,
   "id": "4cd99a2b",
   "metadata": {},
   "outputs": [
    {
     "data": {
      "text/plain": [
       "True"
      ]
     },
     "execution_count": 1,
     "metadata": {},
     "output_type": "execute_result"
    }
   ],
   "source": [
    "from libs.plugin_converter.semantic_kernel_v0_to_openai_function import generate_callables, generate_definitions, make_context\n",
    "from libs.plugins.plugin_capital import PluginCapital\n",
    "from libs.plugins.plugin_salesforce import PluginSalesforce\n",
    "from libs.plugins.plugin_sap import PluginSAP\n",
    "from libs.plugins.plugin_capivara import PluginCapivaraAlert\n",
    "import libs.plugin_converter.semantic_kernel_v0_to_openai_function as semantic_kernel_v0_to_openai_function\n",
    "import libs.plugin_converter.openai_function_to_tool as openai_function_to_tool\n",
    "\n",
    "import time\n",
    "import os\n",
    "from libs.utils.connector_llm import *\n",
    "from libs.plugins.plugin_capital import PluginCapital\n",
    "import libs.plugin_converter.semantic_kernel_v0_to_openai_function as semantic_kernel_v0_to_openai_function\n",
    "import libs.plugin_converter.openai_function_to_tool as openai_function_to_tool\n",
    "from libs.plugin_orchestrator.implementation_tool import OrchestratorWithTool\n",
    "from libs.plugin_orchestrator.implementation_bare import OrchestratorBare\n",
    "\n",
    "import dotenv\n",
    "dotenv.load_dotenv()"
   ]
  },
  {
   "cell_type": "code",
   "execution_count": 2,
   "id": "d58af37f",
   "metadata": {},
   "outputs": [],
   "source": [
    "#semantic_kernel_v0_to_openai_function.generate_callables([(PluginSAP(), \"PluginSAP\")])"
   ]
  },
  {
   "cell_type": "code",
   "execution_count": 3,
   "id": "5c94c005-eb0e-4fef-9c12-1fede9d5f2c5",
   "metadata": {},
   "outputs": [
    {
     "name": "stdout",
     "output_type": "stream",
     "text": [
      "Requirement already satisfied: tabulate in /usr/local/lib/python3.10/dist-packages (0.9.0)\n",
      "\u001b[33mWARNING: Running pip as the 'root' user can result in broken permissions and conflicting behaviour with the system package manager, possibly rendering your system unusable.It is recommended to use a virtual environment instead: https://pip.pypa.io/warnings/venv. Use the --root-user-action option if you know what you are doing and want to suppress this warning.\u001b[0m\u001b[33m\n",
      "\u001b[0m"
     ]
    }
   ],
   "source": [
    "!pip install tabulate"
   ]
  },
  {
   "cell_type": "code",
   "execution_count": null,
   "id": "a9b01535-ac75-4d2b-b1e1-9819d636902d",
   "metadata": {},
   "outputs": [],
   "source": []
  },
  {
   "cell_type": "code",
   "execution_count": 4,
   "id": "e50c4e71",
   "metadata": {},
   "outputs": [
    {
     "name": "stdout",
     "output_type": "stream",
     "text": [
      "THIS IS WHAT THE LLM IS TRYING TO DO:\n",
      "content='{\"thought\": \"I need to check the customer\\'s past purchases.\", \"action_name\": \"PluginSAP_get_purchase_orders\", \"args\": {}}' role='assistant' tool_calls=[]\n",
      "[2024-08-30 11:33:17 +0000] libs.libs.plugin_orchestrator INFO     Function calling detected by: custom implementation\n",
      "[2024-08-30 11:33:17 +0000] libs.libs.plugin_orchestrator INFO     At step 1 the function PluginSAP_get_purchase_orders was requested, with args = {}\n",
      "answer=None citations=None visualizations=None intermediate_results=[IntermediateResult(step=1, status_code=200, function_name='PluginSAP_get_purchase_orders', function_arguments={}, result='[{\"deliveryDate\": \"2021-01-01\", \"totalAmount\": 10000, \"items\": [{\"materialId\": \"IPS Natural Die Material ND1\", \"quantity\": 1}, {\"materialId\": \"Untersuchungshandschuhe Nitril light lemon Gr. M\", \"quantity\": 10}, {\"materialId\": \"Antiseptica r.f.u. H\\\\u00e4ndedesinfektion Flasche 1 Liter\", \"quantity\": 1}]}]', message='At step 1, executing PluginSAP_get_purchase_orders', timestamp=1725017597, citation_id='2d6bbba2')]\n",
      "[2024-08-30 11:33:17 +0000] libs.libs.plugin_orchestrator INFO     result: Executed function PluginSAP_get_purchase_orders and returned: [{\"deliveryDate\": \"2021-01-01\", \"totalAmount\": 10000, \"items\": [{\"materialId\": \"IPS Natural Die Material ND1\", \"quantity\": 1}, {\"materialId\": \"Untersuchungshandschuhe Nitril light lemon Gr. M\", \"quantity\": 10}, {\"materialId\": \"Antiseptica r.f.u. H\\u00e4ndedesinfektion Flasche 1 Liter\", \"quantity\": 1}]}]\n",
      "THIS IS WHAT THE LLM IS TRYING TO DO:\n",
      "content='{\"thought\":\"The customer has purchased Untersuchungshandschuhe Nitril light lemon Gr. M in the past. Placing an order for 100 of this glove model.\",\"action_name\":\"PluginSAP_create_purchase_order\",\"args\":{\"amount\":100,\"material_id\":\"Untersuchungshandschuhe Nitril light lemon Gr. M\"}}' role='assistant' tool_calls=[]\n",
      "[2024-08-30 11:33:17 +0000] libs.libs.plugin_orchestrator INFO     Function calling detected by: custom implementation\n",
      "[2024-08-30 11:33:17 +0000] libs.libs.plugin_orchestrator INFO     At step 2 the function PluginSAP_create_purchase_order was requested, with args = {'amount': 100, 'material_id': 'Untersuchungshandschuhe Nitril light lemon Gr. M'}\n",
      "answer=None citations=None visualizations=None intermediate_results=[IntermediateResult(step=2, status_code=200, function_name='PluginSAP_create_purchase_order', function_arguments={'amount': 100, 'material_id': 'Untersuchungshandschuhe Nitril light lemon Gr. M'}, result='Order placed successfully', message='At step 2, executing PluginSAP_create_purchase_order', timestamp=1725017597, citation_id='5f4bb875')]\n",
      "[2024-08-30 11:33:17 +0000] libs.libs.plugin_orchestrator INFO     result: Executed function PluginSAP_create_purchase_order and returned: Order placed successfully\n",
      "THIS IS WHAT THE LLM IS TRYING TO DO:\n",
      "content='{\\'thought\\': \\'The ticket has been successfully resolved by placing an order for 100 units of the \"Untersuchungshandschuhe Nitril light lemon Gr. M\" glove model.\\', \\'action_name\\': \\'PluginServiceNow_close_ticket\\', \\'args\\': {}}' role='assistant' tool_calls=[]\n",
      "[2024-08-30 11:33:18 +0000] libs.libs.plugin_orchestrator INFO     Function calling detected by: custom implementation\n",
      "[2024-08-30 11:33:18 +0000] libs.libs.plugin_orchestrator WARNING  Could not parse, error: {'Error': 'Could not parse invalid json: {\\'thought\\': \\'The ticket has been successfully resolved by placing an order for 100 units of the \"Untersuchungshandschuhe Nitril light lemon Gr. M\" glove model.\\', \\'action_name\\': \\'PluginServiceNow_close_ticket\\', \\'args\\': {}}'}\n",
      "[2024-08-30 11:33:18 +0000] libs.libs.plugin_orchestrator WARNING  At step 3 the wrong syntax was used to call a function. The wrong syntax used was: {'thought': 'The ticket has been successfully resolved by placing an order for 100 units of the \"Untersuchungshandschuhe Nitril light lemon Gr. M\" glove model.', 'action_name': 'PluginServiceNow_close_ticket', 'args': {}}\n",
      "THIS IS WHAT THE LLM IS TRYING TO DO:\n",
      "content='```json\\n{\\n  \"thought\": \"The ticket has been successfully resolved by placing an order for 100 units of the \\'Untersuchungshandschuhe Nitril light lemon Gr. M\\' glove model.\",\\n  \"action_name\": \"PluginServiceNow_close_ticket\",\\n  \"args\": {}\\n}\\n```' role='assistant' tool_calls=[]\n",
      "[2024-08-30 11:33:19 +0000] libs.libs.plugin_orchestrator INFO     Function calling detected by: custom implementation\n",
      "[2024-08-30 11:33:19 +0000] libs.utils.json_resilient WARNING  json_loads_resilient: received jsonl with multiple elemnts, returning only the first valid element...\n",
      "[2024-08-30 11:33:19 +0000] libs.libs.plugin_orchestrator INFO     At step 4 the function PluginServiceNow_close_ticket was requested, with args = {}\n",
      "answer=None citations=None visualizations=None intermediate_results=[IntermediateResult(step=4, status_code=200, function_name='PluginServiceNow_close_ticket', function_arguments={}, result='Ticket closed successfully', message='At step 4, executing PluginServiceNow_close_ticket', timestamp=1725017599, citation_id='34148505')]\n",
      "[2024-08-30 11:33:19 +0000] libs.libs.plugin_orchestrator INFO     result: Executed function PluginServiceNow_close_ticket and returned: Ticket closed successfully\n",
      "As this was the step 4/4, next you should call 'answer' with all the results you have.\n",
      "THIS IS WHAT THE LLM IS TRYING TO DO:\n",
      "content='{\\n  \"thought\": \"The ticket has been successfully resolved by placing an order for 100 units of the \\'Untersuchungshandschuhe Nitril light lemon Gr. M\\' glove model.\",\\n  \"action_name\": \"answer\",\\n  \"args\": {\\n    \"text\": \"The ticket has been successfully resolved by placing an order for 100 units of the \\'Untersuchungshandschuhe Nitril light lemon Gr. M\\' glove model. The ticket has been closed.\"\\n  }\\n}' role='assistant' tool_calls=[]\n",
      "[2024-08-30 11:33:20 +0000] libs.libs.plugin_orchestrator INFO     Function calling detected by: custom implementation\n",
      "[2024-08-30 11:33:20 +0000] libs.libs.plugin_orchestrator INFO     At step 5 the function answer was requested, with args = {'text': \"The ticket has been successfully resolved by placing an order for 100 units of the 'Untersuchungshandschuhe Nitril light lemon Gr. M' glove model. The ticket has been closed.\"}\n"
     ]
    }
   ],
   "source": [
    "# Bare openai\n",
    "llm = factory_create_connector_llm(\n",
    "    provider='azure_openai',\n",
    "    modelname=os.getenv(\"AZURE_OPENAI_DEPLOYMENT_NAME_CHAT\"),\n",
    "    version=os.getenv(\"AZURE_OPENAI_DEPLOYMENT_NAME_CHAT\").split('-')[-1],\n",
    "    credentials=CredentialsOpenAI(\n",
    "        base_url=os.getenv(\"AZURE_OPENAI_ENDPOINT\"),\n",
    "        api_key=os.getenv(\"AZURE_OPENAI_KEY\"),\n",
    "    ),\n",
    "    hyperparameters={'max_tokens': 2048, 'tool_choice': 'none'}\n",
    ")\n",
    "\n",
    "# Tool openai\n",
    "#llm = factory_create_connector_llm(\n",
    "#    provider='azure_openai',\n",
    "#    modelname=os.getenv(\"AZURE_OPENAI_DEPLOYMENT_NAME_CHAT\"),\n",
    "#    version=os.getenv(\"AZURE_OPENAI_DEPLOYMENT_NAME_CHAT\").split('-')[-1],\n",
    "#    credentials=CredentialsOpenAI(\n",
    "#        base_url=os.getenv(\"AZURE_OPENAI_ENDPOINT\"),\n",
    "#        api_key=os.getenv(\"AZURE_OPENAI_KEY\"),\n",
    "#    ),\n",
    "#)\n",
    "\n",
    "\n",
    "selected_alert = {'id': 'dc2a',\n",
    " 'title': 'Defective product',\n",
    " 'description': 'I ordered a Handstückschlauch, but it came already broken',\n",
    " 'severity': 'Medium'}\n",
    "\n",
    "plugins = [\n",
    "    (PluginCapivaraAlert(capivara_base_url='http://capivara:80', alert_id=selected_alert['id']), \"PluginServiceNow\"),\n",
    "    (PluginSalesforce(), \"PluginSalesforce\"),\n",
    "    (PluginSAP(), \"PluginSAP\"),\n",
    "]\n",
    "orchestrator = OrchestratorBare(\n",
    "    connection = llm,\n",
    "    tool_definitions = openai_function_to_tool.generate_definitions(semantic_kernel_v0_to_openai_function.generate_definitions(plugins)),\n",
    "    tool_callables = generate_callables(plugins),\n",
    "    token_limit_input = 2048,\n",
    "    token_limit_output = None,\n",
    "    max_steps_recommended = 4,\n",
    "    max_steps_allowed = 5,\n",
    "    prompt_app_system=(\n",
    "        'You are an AI assistant whose goal is to help the use handle a support ticket.\\n'\n",
    "        'Here is some info about this ticket:\\n'\n",
    "        f'Title: {selected_alert[\"title\"]}\\n'\n",
    "        f'Description: {selected_alert[\"description\"]}\\n'\n",
    "        f'Severity: {selected_alert[\"severity\"]}\\n'\n",
    "        'Answer the user questions and help the user to resolve this ticket.\\n'\n",
    "    ),\n",
    "    #prompt_app_user='hi =D'  # chitchat (don't work well)\n",
    "    #prompt_app_user='What purchases have this customer done in the past?',  # SAP\n",
    "    #prompt_app_user='place an order for 10 gloves',  # SAP\n",
    "    #prompt_app_user='If the customer had purchased any glove in the past, please place an order for 100 of that exact glove model',  # SAP\n",
    "    #prompt_app_user='IF the customer purchased any hand desinfectant in the past, create an appointment for a sales call and describing we may want to do a follow up sales',  # SAP\n",
    "    #prompt_app_user='what is the full name of this customer?',  # Salesforce\n",
    "    #prompt_app_user='create an appointment asking an employee to visit the customer facility, and don\\'t forget to mention the customer address',  # Salesforce, SAP\n",
    "    #prompt_app_user='close this ticket',  # Capivara\n",
    "    #prompt_app_user='place an order for 10 gloves, then close the current ticket',  # SAP, capivara\n",
    "    prompt_app_user='If the customer had purchased any glove in the past, please place an order for 100 of that exact glove model and close the current ticket',  # SAP, capivara\n",
    ")\n",
    "\n",
    "'''\n",
    "r = await orchestrator.run_async()\n",
    "#r = orchestrator.run()\n",
    "print(r)\n",
    "print('\\n\\n' + '-'*30 + '\\n\\n')\n",
    "assert type(r.answer) == str\n",
    "assert len(r.answer) > 4\n",
    "print(r.answer)\n",
    "''';\n",
    "\n",
    "#'''\n",
    "r_stream = orchestrator.run_stream_async()\n",
    "chunks = []\n",
    "async for chunk in r_stream:\n",
    "    #print(chunk.answer, '\\t\\t| ', len(chunk.intermediate_results or []))\n",
    "    print(chunk)\n",
    "    chunks.append(chunk)\n",
    "    #time.sleep(0.1)\n",
    "#''';\n",
    "\n",
    "'''\n",
    "r_stream = orchestrator.run_stream()\n",
    "chunks = []\n",
    "for chunk in r_stream:\n",
    "    #print(chunk)\n",
    "    chunks.append(chunk)\n",
    "    print(chunk.answer, '\\t\\t| ', len(chunk.intermediate_results or []))\n",
    "    time.sleep(0.1)\n",
    "''';"
   ]
  },
  {
   "cell_type": "code",
   "execution_count": 6,
   "id": "216bfeea",
   "metadata": {},
   "outputs": [],
   "source": [
    "#############################################\n",
    "# Dataset generation\n",
    "#orchestrator._full_message_history_for_debugging\n",
    "# This is the expected chat-over-text format:\n",
    "# <|system|> You are a chatbot who can help code!</s> <|user|> Write me a function to calculate the first 10 digits of the fibonacci sequence in Python and print it out to the CLI.</s> <|assistant|>\n",
    "# Before finetunning, we have to convert\n",
    "# this format is called \"Zephyr\", because it is used in the model HuggingFaceH4/zephyr-7b-alpha"
   ]
  },
  {
   "cell_type": "code",
   "execution_count": 11,
   "id": "5113abc4",
   "metadata": {},
   "outputs": [
    {
     "data": {
      "text/plain": [
       "ChatCompletionMessage(role='system', content='Executed function PluginSAP_get_purchase_orders and returned: [{\"deliveryDate\": \"2021-01-01\", \"totalAmount\": 10000, \"items\": [{\"materialId\": \"IPS Natural Die Material ND1\", \"quantity\": 1}, {\"materialId\": \"Untersuchungshandschuhe Nitril light lemon Gr. M\", \"quantity\": 10}, {\"materialId\": \"Antiseptica r.f.u. H\\\\u00e4ndedesinfektion Flasche 1 Liter\", \"quantity\": 1}]}]')"
      ]
     },
     "execution_count": 11,
     "metadata": {},
     "output_type": "execute_result"
    }
   ],
   "source": [
    "orchestrator._full_message_history_for_debugging[5]"
   ]
  },
  {
   "cell_type": "code",
   "execution_count": null,
   "id": "676d0506",
   "metadata": {},
   "outputs": [],
   "source": []
  },
  {
   "cell_type": "code",
   "execution_count": null,
   "id": "2117d4f5",
   "metadata": {},
   "outputs": [],
   "source": []
  },
  {
   "cell_type": "code",
   "execution_count": null,
   "id": "30a132a3",
   "metadata": {},
   "outputs": [],
   "source": []
  },
  {
   "cell_type": "code",
   "execution_count": null,
   "id": "27ca09ee",
   "metadata": {},
   "outputs": [],
   "source": []
  },
  {
   "cell_type": "code",
   "execution_count": 1,
   "id": "3096b93e-18a0-4959-b340-321d92b140b9",
   "metadata": {},
   "outputs": [
    {
     "data": {
      "text/plain": [
       "True"
      ]
     },
     "execution_count": 1,
     "metadata": {},
     "output_type": "execute_result"
    }
   ],
   "source": [
    "from libs.plugin_converter.semantic_kernel_v0_to_openai_function import generate_callables, generate_definitions, make_context\n",
    "from libs.plugins.plugin_capital import PluginCapital\n",
    "from libs.plugins.plugin_salesforce import PluginSalesforce\n",
    "from libs.plugins.plugin_sap import PluginSAP\n",
    "from libs.plugins.plugin_capivara import PluginCapivaraAlert\n",
    "import libs.plugin_converter.semantic_kernel_v0_to_openai_function as semantic_kernel_v0_to_openai_function\n",
    "import libs.plugin_converter.openai_function_to_tool as openai_function_to_tool\n",
    "\n",
    "import time\n",
    "import os\n",
    "from libs.utils.connector_llm import *\n",
    "from libs.plugins.plugin_capital import PluginCapital\n",
    "import libs.plugin_converter.semantic_kernel_v0_to_openai_function as semantic_kernel_v0_to_openai_function\n",
    "import libs.plugin_converter.openai_function_to_tool as openai_function_to_tool\n",
    "from libs.plugin_orchestrator.implementation_tool import OrchestratorWithTool\n",
    "from libs.plugin_orchestrator.implementation_bare import OrchestratorBare\n",
    "from libs.plugin_orchestrator.implementation_bare_finetuned import OrchestratorBareFinetuned\n",
    "from libs.utils.json_resilient import *\n",
    "\n",
    "import dotenv\n",
    "dotenv.load_dotenv()"
   ]
  },
  {
   "cell_type": "code",
   "execution_count": 3,
   "id": "763d5d41",
   "metadata": {},
   "outputs": [
    {
     "name": "stdout",
     "output_type": "stream",
     "text": [
      "THIS IS WHAT THE LLM IS TRYING TO DO:\n",
      "content='I don\\'t have access to the specific api that you\\'re using to access the data. But based on the name of the country, the capital of france is probably \"paris\", which is the capital of the region of france (eastern france). Here\\'s an example of how to use the \"plugincapital_get_capital\" function in python:\\n\\n```python\\nimport plugincapital_get_capital\\n\\ncapital = plugincapital_get_capital.PluginCapital_get_capital(\"france\")\\nprint(capital)  # output: \"paris\"\\n```\\n\\nthis is just an example, you\\'ll need to modify' role='assistant' tool_calls=[]\n",
      "[2024-08-27 11:57:40 +0000] libs.libs.plugin_orchestrator INFO     Function calling detected by: custom implementation\n",
      "[2024-08-27 11:57:40 +0000] libs.utils.json_resilient WARNING  json_loads_resilient: received jsonl with multiple elemnts, returning only the first valid element...\n",
      "[2024-08-27 11:57:40 +0000] libs.libs.plugin_orchestrator WARNING  Could not parse, error: {'Error': 'No valid json found within splits'}\n",
      "[2024-08-27 11:57:40 +0000] libs.libs.plugin_orchestrator WARNING  At step 1 the wrong syntax was used to call a function. The wrong syntax used was: I don't have access to the specific api that you're using to access the data. But based on the name of the country, the capital of france is probably \"paris\", which is the capital of the region of france (eastern france). Here's an example of how to use the \"plugincapital_get_capital\" function in python:\n",
      "\n",
      "```python\n",
      "import plugincapital_get_capital\n",
      "\n",
      "capital = plugincapital_get_capital.PluginCapital_get_capital(\"france\")\n",
      "print(capital)  # output: \"paris\"\n",
      "```\n",
      "\n",
      "this is just an example, you'll need to modify\n",
      "THIS IS WHAT THE LLM IS TRYING TO DO:\n",
      "content='Great, I modified the code to call the \"PluginCapital_get_capital\" function with the correct name of the capital. Can you please provide me with the output of the command to test it?' role='assistant' tool_calls=[]\n",
      "[2024-08-27 11:57:51 +0000] libs.libs.plugin_orchestrator INFO     Function calling detected by: custom implementation\n",
      "[2024-08-27 11:57:51 +0000] libs.utils.json_resilient WARNING  json_loads_resilient: received jsonl with multiple elemnts, returning only the first valid element...\n",
      "[2024-08-27 11:57:51 +0000] libs.libs.plugin_orchestrator WARNING  Could not parse, error: {'Error': 'No valid json found within splits'}\n",
      "[2024-08-27 11:57:51 +0000] libs.libs.plugin_orchestrator WARNING  At step 2 the wrong syntax was used to call a function. The wrong syntax used was: Great, I modified the code to call the \"PluginCapital_get_capital\" function with the correct name of the capital. Can you please provide me with the output of the command to test it?\n",
      "[2024-08-27 11:57:51 +0000] libs.libs.plugin_orchestrator ERROR    Exceeded the maximum number of steps allowed: 2\n",
      "Great, I modified the code to call the \"PluginCapital_get_capital\" function with the correct name of the capital. Can you please provide me with the output of the command to test it? \t\t|  0\n"
     ]
    }
   ],
   "source": [
    "# Bare llamacpp\n",
    "#'''\n",
    "llm = factory_create_connector_llm(\n",
    "    provider='llama_cpp',\n",
    "    modelname='not-needed',\n",
    "    version='not-needed',\n",
    "    credentials=CredentialsOpenAI(\n",
    "        base_url='http://llm-server:8080/v1',\n",
    "        api_key='not-needed',\n",
    "    ),\n",
    "    hyperparameters={'max_tokens': 150}\n",
    ")\n",
    "\n",
    "plugins = [\n",
    "    (PluginCapital(), \"PluginCapital\"),\n",
    "]\n",
    "orchestrator = OrchestratorBareFinetuned(\n",
    "    connection = llm,\n",
    "    tool_definitions = openai_function_to_tool.generate_definitions(semantic_kernel_v0_to_openai_function.generate_definitions(plugins)),\n",
    "    tool_callables = generate_callables(plugins),\n",
    "    token_limit_input = 1024,\n",
    "    token_limit_output = None,\n",
    "    max_steps_recommended = 2,\n",
    "    max_steps_allowed = 2,\n",
    "    prompt_app_system='You are an AI assistant whose goal is to answer the user question.',\n",
    "     prompt_app_user='Using PluginCapital_get_capital, tell me what is the capital of france',\n",
    ")\n",
    "\n",
    "r_stream = orchestrator.run_stream_async()\n",
    "chunks = []\n",
    "async for chunk in r_stream:\n",
    "    print(chunk.answer, '\\t\\t| ', len(chunk.intermediate_results or []))\n",
    "    #print(chunk)\n",
    "    chunks.append(chunk)\n",
    "    #time.sleep(0.1)\n",
    "#''';"
   ]
  },
  {
   "cell_type": "code",
   "execution_count": 15,
   "id": "7cde3123-8c4f-4a6a-a897-085e98bdab3a",
   "metadata": {},
   "outputs": [
    {
     "data": {
      "text/plain": [
       "[ChatCompletionMessage(role='system', content='# General instructions\\nYour goal is to answer the user question, and you can call functions (aka commands/actions) to achieve that.\\nYour decisions must always be made independently without seeking user assistance.\\nEvery action has a cost, so be smart and efficient. You\\'ll be rewarded if you answer correctly and quickly.\\nAim to complete the goal in the least number of steps (aka function calls). Whenever you are ready to answer, use the function \\'answer\\'.\\nYou are allowed to call the following function:\\n1. PluginCapital_get_capital: Returns the name of the capital of a country..\\n  Arguments: country (Name of the country. Type: string. Required: yes)\\n2. answer: Send response back to the user. Show all your results here, this is the only thing that the user will see. You won\\'t be able to call any other function after this one. Be sure to return a complete and clear answer, the user will not be able to see any other intermediate messages nor ask for more information. Never mention intermediate messages or results; if you want to mention something, include it here. Call this function only once, with everything you want to show to the user..\\n  Arguments: text (final textual response to be send to the user. Should use HTML syntax for formatting. Type: string. Required: yes)\\n\\nThe JSON necessary to call a function contains one key named \"thought\" (its value have type string, with one short sentence descring why you should take this action), one key named \"action_name\" (its value have type string, with the name of the function to call), and one key named \"args\" (its value have type object, with the arguments to pass to the function).\\nThe JSON keys \"thought\", \"action_name\" and \"args\" should be written in this order.\\nThe JSON keys \"thought\", \"action_name\" and \"args\" should always be present.\\nRemember to call the function only once per message.\\nDo not answer with anything that is not a json, do not add any extra comment, follow exactly the syntax provided.\\nAlways use the tools, do not answer without the tools.\\nYou are only allowed to use the functions described above, do not call any other function.\\nYou MUST strictly follow those guidelines at every assistant message.\\n\\n# Asistant-specific instructions\\nYou are an AI assistant whose goal is to answer the user question.'),\n",
       " ChatCompletionMessage(role='user', content='Using PluginCapital_get_capital, tell me what is the capital of france'),\n",
       " ChatCompletionMessage(role='assistant', content='According to PluginCapital_get_capital, the capital of France is 50,895.61 EUR.'),\n",
       " ChatCompletionMessage(role='system', content='At step 1 the wrong syntax was used to call a function. The wrong syntax used was: According to PluginCapital_get_capital, the capital of France is 50,895.61 EUR..\\n\\nPlease try again.'),\n",
       " ChatCompletionMessage(role='assistant', content=\"I apologize for the confusion. The correct syntax to call the function PluginCapital_get_capital is:\\n```\\nanswer(PluginCapital_get_capital('France'));\\n```\\nWith this syntax, the capital of France is returned.\"),\n",
       " ChatCompletionMessage(role='system', content=\"At step 2 the wrong syntax was used to call a function. The wrong syntax used was: I apologize for the confusion. The correct syntax to call the function PluginCapital_get_capital is:\\n```\\nanswer(PluginCapital_get_capital('France'));\\n```\\nWith this syntax, the capital of France is returned..\\n\\nPlease try again.\")]"
      ]
     },
     "execution_count": 15,
     "metadata": {},
     "output_type": "execute_result"
    }
   ],
   "source": [
    "orchestrator._full_message_history_for_debugging"
   ]
  },
  {
   "cell_type": "code",
   "execution_count": 17,
   "id": "f5f65b15-02f3-46d4-9d0d-aaab751b928a",
   "metadata": {},
   "outputs": [
    {
     "data": {
      "text/plain": [
       "\"I apologize for the confusion. The correct syntax to call the function PluginCapital_get_capital is:\\n```\\nanswer(PluginCapital_get_capital('France'));\\n```\\nWith this syntax, the capital of France is returned.\""
      ]
     },
     "execution_count": 17,
     "metadata": {},
     "output_type": "execute_result"
    }
   ],
   "source": []
  },
  {
   "cell_type": "code",
   "execution_count": null,
   "id": "c212a80b-eea1-4c21-9880-bdd1f37f2e93",
   "metadata": {},
   "outputs": [],
   "source": []
  },
  {
   "cell_type": "code",
   "execution_count": null,
   "id": "1c647506-3ccc-47c6-a17f-2c4dd90f6301",
   "metadata": {},
   "outputs": [],
   "source": []
  },
  {
   "cell_type": "code",
   "execution_count": null,
   "id": "81eefaae-0015-4772-8477-daf9c3f111d1",
   "metadata": {},
   "outputs": [],
   "source": []
  }
 ],
 "metadata": {
  "kernelspec": {
   "display_name": "Python 3 (ipykernel)",
   "language": "python",
   "name": "python3"
  },
  "language_info": {
   "codemirror_mode": {
    "name": "ipython",
    "version": 3
   },
   "file_extension": ".py",
   "mimetype": "text/x-python",
   "name": "python",
   "nbconvert_exporter": "python",
   "pygments_lexer": "ipython3",
   "version": "3.10.12"
  }
 },
 "nbformat": 4,
 "nbformat_minor": 5
}
