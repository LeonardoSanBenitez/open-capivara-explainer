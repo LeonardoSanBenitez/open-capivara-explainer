{
 "cells": [
  {
   "cell_type": "code",
   "execution_count": 1,
   "id": "4cd99a2b",
   "metadata": {},
   "outputs": [
    {
     "data": {
      "text/plain": [
       "True"
      ]
     },
     "execution_count": 1,
     "metadata": {},
     "output_type": "execute_result"
    }
   ],
   "source": [
    "from libs.plugin_converter.semantic_kernel_v0_to_openai_function import generate_callables, generate_definitions, make_context\n",
    "from libs.plugins.plugin_capital import PluginCapital\n",
    "from libs.plugins.plugin_salesforce import PluginSalesforce\n",
    "from libs.plugins.plugin_sap import PluginSAP\n",
    "from libs.plugins.plugin_capivara import PluginCapivaraAlert\n",
    "import libs.plugin_converter.semantic_kernel_v0_to_openai_function as semantic_kernel_v0_to_openai_function\n",
    "import libs.plugin_converter.openai_function_to_tool as openai_function_to_tool\n",
    "\n",
    "import os\n",
    "from libs.utils.connector_llm import *\n",
    "from libs.plugins.plugin_capital import PluginCapital\n",
    "import libs.plugin_converter.semantic_kernel_v0_to_openai_function as semantic_kernel_v0_to_openai_function\n",
    "import libs.plugin_converter.openai_function_to_tool as openai_function_to_tool\n",
    "from libs.plugin_orchestrator.implementation_tool import OrchestratorWithTool\n",
    "from libs.plugin_orchestrator.implementation_bare import OrchestratorBare\n",
    "\n",
    "import dotenv\n",
    "dotenv.load_dotenv()"
   ]
  },
  {
   "cell_type": "code",
   "execution_count": 2,
   "id": "d58af37f",
   "metadata": {},
   "outputs": [],
   "source": [
    "#semantic_kernel_v0_to_openai_function.generate_callables([(PluginSAP(), \"PluginSAP\")])"
   ]
  },
  {
   "cell_type": "code",
   "execution_count": 3,
   "id": "e50c4e71",
   "metadata": {},
   "outputs": [],
   "source": [
    "# Bare openai\n",
    "#llm = factory_create_connector_llm(\n",
    "#    provider='azure_openai',\n",
    "#    modelname=os.getenv(\"AZURE_OPENAI_DEPLOYMENT_NAME_CHAT\"),\n",
    "#    version=os.getenv(\"AZURE_OPENAI_DEPLOYMENT_NAME_CHAT\").split('-')[-1],\n",
    "#    credentials=CredentialsOpenAI(\n",
    "#        base_url=os.getenv(\"AZURE_OPENAI_ENDPOINT\"),\n",
    "#        api_key=os.getenv(\"AZURE_OPENAI_KEY\"),\n",
    "#    ),\n",
    "#    hyperparameters={'tool_choice': 'none'}\n",
    "#)\n",
    "\n",
    "# Tool openai\n",
    "llm = factory_create_connector_llm(\n",
    "    provider='azure_openai',\n",
    "    modelname=os.getenv(\"AZURE_OPENAI_DEPLOYMENT_NAME_CHAT\"),\n",
    "    version=os.getenv(\"AZURE_OPENAI_DEPLOYMENT_NAME_CHAT\").split('-')[-1],\n",
    "    credentials=CredentialsOpenAI(\n",
    "        base_url=os.getenv(\"AZURE_OPENAI_ENDPOINT\"),\n",
    "        api_key=os.getenv(\"AZURE_OPENAI_KEY\"),\n",
    "    ),\n",
    ")\n",
    "\n",
    "\n",
    "selected_alert = {'id': 'dc2a',\n",
    " 'title': 'Defective product',\n",
    " 'description': 'I ordered a Handstückschlauch, but it came already broken',\n",
    " 'severity': 'Medium'}\n",
    "\n",
    "plugins = [\n",
    "    (PluginCapivaraAlert(capivara_base_url='http://capivara:80', alert_id=selected_alert['id']), \"PluginServiceNow\"),\n",
    "    (PluginSalesforce(), \"PluginSalesforce\"),\n",
    "    (PluginSAP(), \"PluginSAP\"),\n",
    "]\n",
    "orchestrator = OrchestratorWithTool(\n",
    "    connection = llm,\n",
    "    tool_definitions = openai_function_to_tool.generate_definitions(semantic_kernel_v0_to_openai_function.generate_definitions(plugins)),\n",
    "    tool_callables = generate_callables(plugins),\n",
    "    token_limit_input = 1024,\n",
    "    token_limit_output = None,\n",
    "    max_steps_recommended = 4,\n",
    "    max_steps_allowed = 5,\n",
    "    prompt_app_system=(\n",
    "        'You are an AI assistant whose goal is to help the use handle a support ticket.\\n'\n",
    "        'Here is some info about this ticket:\\n'\n",
    "        f'Title: {selected_alert[\"title\"]}\\n'\n",
    "        f'Description: {selected_alert[\"description\"]}\\n'\n",
    "        f'Severity: {selected_alert[\"severity\"]}\\n'\n",
    "        'Answer the user questions and help the user to resolve this ticket.\\n'\n",
    "    ),\n",
    "    #prompt_app_user='hi =D'  # chitchat (don't work well)\n",
    "    prompt_app_user='What purchases have this customer done in the past?',  # SAP\n",
    "    #prompt_app_user='place an order for 10 gloves',  # SAP\n",
    "    #prompt_app_user='If the customer had purchased any glove in the past, please place an order for 100 of that exact glove model',  # SAP\n",
    "    #prompt_app_user='IF the customer purchased any hand desinfectant in the past, create an appointment for a sales call and describing we may want to do a follow up sales',  # SAP\n",
    "    #prompt_app_user='what is the full name of this customer?',  # Salesforce\n",
    "    #prompt_app_user='create an appointment asking an employee to visit the customer facility, and don\\'t forget to mention the customer address',  # Salesforce, SAP\n",
    "    #prompt_app_user='place an order for 10 gloves, then close the current ticket',  # SAP, capivara\n",
    ")\n",
    "\n",
    "'''\n",
    "r = await orchestrator.run_async()\n",
    "#r = orchestrator.run()\n",
    "print(r)\n",
    "print('\\n\\n' + '-'*30 + '\\n\\n')\n",
    "assert type(r.answer) == str\n",
    "assert len(r.answer) > 4\n",
    "print(r.answer)\n",
    "''';\n",
    "\n",
    "#r_stream = orchestrator.run_stream_async()\n",
    "#async for chunk in r_stream:\n",
    "#    print(chunk, end='')\n",
    "\n"
   ]
  },
  {
   "cell_type": "code",
   "execution_count": 5,
   "id": "e98a75f2-b9ad-47e3-937f-f9f083f2d62c",
   "metadata": {},
   "outputs": [
    {
     "name": "stdout",
     "output_type": "stream",
     "text": [
      "[2024-08-23 12:50:03 +0000] libs.libs.plugin_orchestrator INFO     Function calling detected by: native API feature\n",
      "[2024-08-23 12:50:03 +0000] libs.libs.plugin_orchestrator INFO     At step 3 the function PluginSalesforce_get_account_details was requested, with args = {}\n",
      "[2024-08-23 12:50:03 +0000] libs.libs.plugin_orchestrator INFO     result: Executed function PluginSalesforce_get_account_details and returned: {\"name\": \"John Doe\", \"email\": \"john.d@something.com\", \"phone\": \"123-456-7890\", \"address\": \"1234 Elm St, Springfield, IL 62701\"}\n",
      "As this was the step 3/4, next you should call 'answer' with all the results you have.\n",
      "[2024-08-23 12:50:04 +0000] libs.libs.plugin_orchestrator INFO     Function calling detected by: native API feature\n",
      "[2024-08-23 12:50:04 +0000] libs.libs.plugin_orchestrator INFO     At step 4 the function answer was requested, with args = {'text': 'The customer has made the following purchases in the past:\\n- IPS Natural Die Material ND1 x 1\\n- Untersuchungshandschuhe Nitril light lemon Gr. M x 10\\n- Antiseptica r.f.u. H\\\\u00e4ndedesinfektion Flasche 1 Liter x 1\\n\\nCustomer Details:\\n- Name: John Doe\\n- Email: john.d@something.com\\n- Phone: 123-456-7890\\n- Address: 1234 Elm St, Springfield, IL 62701'}\n"
     ]
    },
    {
     "data": {
      "text/plain": [
       "ValidatedAnswer(answer='The customer has made the following purchases in the past:\\n- IPS Natural Die Material ND1 x 1\\n- Untersuchungshandschuhe Nitril light lemon Gr. M x 10\\n- Antiseptica r.f.u. H\\\\u00e4ndedesinfektion Flasche 1 Liter x 1\\n\\nCustomer Details:\\n- Name: John Doe\\n- Email: john.d@something.com\\n- Phone: 123-456-7890\\n- Address: 1234 Elm St, Springfield, IL 62701', citations=[Citation(id='1587544b', document='Result of function PluginSAP_get_purchase_orders', content='Executed function PluginSAP_get_purchase_orders and returned: [{\"deliveryDate\": \"2021-01-01\", \"totalAmount\": 10000, \"items\": [{\"materialId\": \"IPS Natural Die Material ND1\", \"quantity\": 1}, {\"materialId\": \"Untersuchungshandschuhe Nitril light lemon Gr. M\", \"quantity\": 10}, {\"materialId\": \"Antiseptica r.f.u. H\\\\u00e4ndedesinfektion Flasche 1 Liter\", \"quantity\": 1}]}]'), Citation(id='c1b0d6e1', document='Result of function PluginSalesforce_get_account_details', content='Executed function PluginSalesforce_get_account_details and returned: {\"name\": \"John Doe\", \"email\": \"john.d@something.com\", \"phone\": \"123-456-7890\", \"address\": \"1234 Elm St, Springfield, IL 62701\"}\\nAs this was the step 3/4, next you should call \\'answer\\' with all the results you have.')], visualizations=[], intermediate_results=[IntermediateResult(step=1, status_code=200, function_name='PluginSAP_get_purchase_orders', function_arguments={}, result='[{\"deliveryDate\": \"2021-01-01\", \"totalAmount\": 10000, \"items\": [{\"materialId\": \"IPS Natural Die Material ND1\", \"quantity\": 1}, {\"materialId\": \"Untersuchungshandschuhe Nitril light lemon Gr. M\", \"quantity\": 10}, {\"materialId\": \"Antiseptica r.f.u. H\\\\u00e4ndedesinfektion Flasche 1 Liter\", \"quantity\": 1}]}]', message='At step 1, executing PluginSAP_get_purchase_orders', timestamp=1724417397, citation_id='1587544b'), IntermediateResult(step=3, status_code=200, function_name='PluginSalesforce_get_account_details', function_arguments={}, result='{\"name\": \"John Doe\", \"email\": \"john.d@something.com\", \"phone\": \"123-456-7890\", \"address\": \"1234 Elm St, Springfield, IL 62701\"}', message='At step 3, executing PluginSalesforce_get_account_details', timestamp=1724417403, citation_id='c1b0d6e1')])"
      ]
     },
     "execution_count": 5,
     "metadata": {},
     "output_type": "execute_result"
    }
   ],
   "source": [
    "r = orchestrator.run()\n",
    "r"
   ]
  },
  {
   "cell_type": "code",
   "execution_count": null,
   "id": "5dba54fe-773f-4fb2-bb4a-b1f41e0aa806",
   "metadata": {},
   "outputs": [],
   "source": []
  },
  {
   "cell_type": "code",
   "execution_count": 4,
   "id": "72eacea2-0747-426b-984d-33ac4cba186f",
   "metadata": {},
   "outputs": [],
   "source": [
    "r_stream = orchestrator.run_stream_async()\n"
   ]
  },
  {
   "cell_type": "code",
   "execution_count": 5,
   "id": "663ae11b-6f9a-4b9e-af5f-52a983bead18",
   "metadata": {},
   "outputs": [
    {
     "ename": "TypeError",
     "evalue": "object async_generator can't be used in 'await' expression",
     "output_type": "error",
     "traceback": [
      "\u001b[0;31m---------------------------------------------------------------------------\u001b[0m",
      "\u001b[0;31mTypeError\u001b[0m                                 Traceback (most recent call last)",
      "Cell \u001b[0;32mIn[5], line 2\u001b[0m\n\u001b[1;32m      1\u001b[0m chunks \u001b[38;5;241m=\u001b[39m []\n\u001b[0;32m----> 2\u001b[0m \u001b[38;5;28;01masync\u001b[39;00m \u001b[38;5;28;01mfor\u001b[39;00m chunk \u001b[38;5;129;01min\u001b[39;00m r_stream:\n\u001b[1;32m      3\u001b[0m     \u001b[38;5;28mprint\u001b[39m(chunk)\n\u001b[1;32m      4\u001b[0m     chunks\u001b[38;5;241m.\u001b[39mappend(chunk)\n",
      "File \u001b[0;32m/src/libs/plugin_orchestrator/implementation_tool.py:390\u001b[0m, in \u001b[0;36mOrchestratorWithTool.run_stream_async\u001b[0;34m(self)\u001b[0m\n\u001b[1;32m    388\u001b[0m \u001b[38;5;66;03m# Accumulation or response\u001b[39;00m\n\u001b[1;32m    389\u001b[0m response_accumulated: ChatCompletionMessageResponsePart \u001b[38;5;241m=\u001b[39m ChatCompletionMessageResponsePart(content\u001b[38;5;241m=\u001b[39m\u001b[38;5;124m'\u001b[39m\u001b[38;5;124m'\u001b[39m, role\u001b[38;5;241m=\u001b[39m\u001b[38;5;124m'\u001b[39m\u001b[38;5;124m'\u001b[39m, tool_calls\u001b[38;5;241m=\u001b[39m[])\n\u001b[0;32m--> 390\u001b[0m \u001b[38;5;28;01masync\u001b[39;00m \u001b[38;5;28;01mfor\u001b[39;00m chunk \u001b[38;5;129;01min\u001b[39;00m response_stream:\n\u001b[1;32m    391\u001b[0m     \u001b[38;5;28;01massert\u001b[39;00m \u001b[38;5;28mtype\u001b[39m(chunk) \u001b[38;5;241m==\u001b[39m ChatCompletionMessageResponsePart\n\u001b[1;32m    392\u001b[0m     \u001b[38;5;28;01mif\u001b[39;00m chunk\u001b[38;5;241m.\u001b[39mcontent \u001b[38;5;129;01mis\u001b[39;00m \u001b[38;5;129;01mnot\u001b[39;00m \u001b[38;5;28;01mNone\u001b[39;00m:\n",
      "File \u001b[0;32m/src/libs/plugin_orchestrator/implementation_tool.py:243\u001b[0m, in \u001b[0;36mOrchestratorWithTool._chat_step_stream\u001b[0;34m(self, current_step_messages)\u001b[0m\n\u001b[1;32m    239\u001b[0m \u001b[38;5;28;01masync\u001b[39;00m \u001b[38;5;28;01mdef\u001b[39;00m \u001b[38;5;21m_chat_step_stream\u001b[39m(\u001b[38;5;28mself\u001b[39m, current_step_messages: List[ChatCompletionMessage]) \u001b[38;5;241m-\u001b[39m\u001b[38;5;241m>\u001b[39m AsyncGenerator[ChatCompletionMessageResponsePart, \u001b[38;5;28;01mNone\u001b[39;00m]:\n\u001b[1;32m    240\u001b[0m \u001b[38;5;250m    \u001b[39m\u001b[38;5;124;03m'''\u001b[39;00m\n\u001b[1;32m    241\u001b[0m \u001b[38;5;124;03m    Basically the same as _chat_step\u001b[39;00m\n\u001b[1;32m    242\u001b[0m \u001b[38;5;124;03m    '''\u001b[39;00m\n\u001b[0;32m--> 243\u001b[0m     chat_completion_stream \u001b[38;5;241m=\u001b[39m \u001b[38;5;28;01mawait\u001b[39;00m \u001b[38;5;28mself\u001b[39m\u001b[38;5;241m.\u001b[39mconnection\u001b[38;5;241m.\u001b[39mchat_completion_stream_async(\n\u001b[1;32m    244\u001b[0m         messages\u001b[38;5;241m=\u001b[39mcurrent_step_messages,\n\u001b[1;32m    245\u001b[0m         tool_definitions\u001b[38;5;241m=\u001b[39m\u001b[38;5;28mself\u001b[39m\u001b[38;5;241m.\u001b[39m_tool_definitions_active,\n\u001b[1;32m    246\u001b[0m     )\n\u001b[1;32m    247\u001b[0m     \u001b[38;5;28;01masync\u001b[39;00m \u001b[38;5;28;01mfor\u001b[39;00m chunk \u001b[38;5;129;01min\u001b[39;00m chat_completion_stream:\n\u001b[1;32m    248\u001b[0m         \u001b[38;5;28;01mif\u001b[39;00m \u001b[38;5;28mlen\u001b[39m(chunk\u001b[38;5;241m.\u001b[39mchoices) \u001b[38;5;241m>\u001b[39m \u001b[38;5;241m0\u001b[39m:\n",
      "\u001b[0;31mTypeError\u001b[0m: object async_generator can't be used in 'await' expression"
     ]
    }
   ],
   "source": [
    "chunks = []\n",
    "async for chunk in r_stream:\n",
    "    print(chunk)\n",
    "    chunks.append(chunk)"
   ]
  },
  {
   "cell_type": "code",
   "execution_count": 6,
   "id": "81d18d87-a7a9-4b48-8648-3a1ee8df3dc2",
   "metadata": {},
   "outputs": [
    {
     "data": {
      "text/plain": [
       "[ValidatedAnswerPart(answer=None, citations=None, visualizations=None, intermediate_results=[IntermediateResult(step=1, status_code=200, function_name='PluginSAP_get_purchase_orders', function_arguments={}, result='[{\"deliveryDate\": \"2021-01-01\", \"totalAmount\": 10000, \"items\": [{\"materialId\": \"IPS Natural Die Material ND1\", \"quantity\": 1}, {\"materialId\": \"Untersuchungshandschuhe Nitril light lemon Gr. M\", \"quantity\": 10}, {\"materialId\": \"Antiseptica r.f.u. H\\\\u00e4ndedesinfektion Flasche 1 Liter\", \"quantity\": 1}]}]', message='At step 1, executing PluginSAP_get_purchase_orders', timestamp=1724415154, citation_id='a3428cf7')]),\n",
       " ValidatedAnswerPart(answer='{\"', citations=None, visualizations=None, intermediate_results=None),\n",
       " ValidatedAnswerPart(answer='text', citations=None, visualizations=None, intermediate_results=None),\n",
       " ValidatedAnswerPart(answer='\":\"', citations=None, visualizations=None, intermediate_results=None),\n",
       " ValidatedAnswerPart(answer='The', citations=None, visualizations=None, intermediate_results=None),\n",
       " ValidatedAnswerPart(answer=' customer', citations=None, visualizations=None, intermediate_results=None),\n",
       " ValidatedAnswerPart(answer=' has', citations=None, visualizations=None, intermediate_results=None),\n",
       " ValidatedAnswerPart(answer=' made', citations=None, visualizations=None, intermediate_results=None),\n",
       " ValidatedAnswerPart(answer=' the', citations=None, visualizations=None, intermediate_results=None),\n",
       " ValidatedAnswerPart(answer=' following', citations=None, visualizations=None, intermediate_results=None),\n",
       " ValidatedAnswerPart(answer=' purchases', citations=None, visualizations=None, intermediate_results=None),\n",
       " ValidatedAnswerPart(answer=' in', citations=None, visualizations=None, intermediate_results=None),\n",
       " ValidatedAnswerPart(answer=' the', citations=None, visualizations=None, intermediate_results=None),\n",
       " ValidatedAnswerPart(answer=' past', citations=None, visualizations=None, intermediate_results=None),\n",
       " ValidatedAnswerPart(answer=':\\\\', citations=None, visualizations=None, intermediate_results=None),\n",
       " ValidatedAnswerPart(answer='n', citations=None, visualizations=None, intermediate_results=None),\n",
       " ValidatedAnswerPart(answer='-', citations=None, visualizations=None, intermediate_results=None),\n",
       " ValidatedAnswerPart(answer=' IPS', citations=None, visualizations=None, intermediate_results=None),\n",
       " ValidatedAnswerPart(answer=' Natural', citations=None, visualizations=None, intermediate_results=None),\n",
       " ValidatedAnswerPart(answer=' Die', citations=None, visualizations=None, intermediate_results=None),\n",
       " ValidatedAnswerPart(answer=' Material', citations=None, visualizations=None, intermediate_results=None),\n",
       " ValidatedAnswerPart(answer=' ND', citations=None, visualizations=None, intermediate_results=None),\n",
       " ValidatedAnswerPart(answer='1', citations=None, visualizations=None, intermediate_results=None),\n",
       " ValidatedAnswerPart(answer=' x', citations=None, visualizations=None, intermediate_results=None),\n",
       " ValidatedAnswerPart(answer=' ', citations=None, visualizations=None, intermediate_results=None),\n",
       " ValidatedAnswerPart(answer='1', citations=None, visualizations=None, intermediate_results=None),\n",
       " ValidatedAnswerPart(answer='\\\\n', citations=None, visualizations=None, intermediate_results=None),\n",
       " ValidatedAnswerPart(answer='-', citations=None, visualizations=None, intermediate_results=None),\n",
       " ValidatedAnswerPart(answer=' Unters', citations=None, visualizations=None, intermediate_results=None),\n",
       " ValidatedAnswerPart(answer='uch', citations=None, visualizations=None, intermediate_results=None),\n",
       " ValidatedAnswerPart(answer='ung', citations=None, visualizations=None, intermediate_results=None),\n",
       " ValidatedAnswerPart(answer='sh', citations=None, visualizations=None, intermediate_results=None),\n",
       " ValidatedAnswerPart(answer='ands', citations=None, visualizations=None, intermediate_results=None),\n",
       " ValidatedAnswerPart(answer='chu', citations=None, visualizations=None, intermediate_results=None),\n",
       " ValidatedAnswerPart(answer='he', citations=None, visualizations=None, intermediate_results=None),\n",
       " ValidatedAnswerPart(answer=' N', citations=None, visualizations=None, intermediate_results=None),\n",
       " ValidatedAnswerPart(answer='itr', citations=None, visualizations=None, intermediate_results=None),\n",
       " ValidatedAnswerPart(answer='il', citations=None, visualizations=None, intermediate_results=None),\n",
       " ValidatedAnswerPart(answer=' light', citations=None, visualizations=None, intermediate_results=None),\n",
       " ValidatedAnswerPart(answer=' lemon', citations=None, visualizations=None, intermediate_results=None),\n",
       " ValidatedAnswerPart(answer=' Gr', citations=None, visualizations=None, intermediate_results=None),\n",
       " ValidatedAnswerPart(answer='.', citations=None, visualizations=None, intermediate_results=None),\n",
       " ValidatedAnswerPart(answer=' M', citations=None, visualizations=None, intermediate_results=None),\n",
       " ValidatedAnswerPart(answer=' x', citations=None, visualizations=None, intermediate_results=None),\n",
       " ValidatedAnswerPart(answer=' ', citations=None, visualizations=None, intermediate_results=None),\n",
       " ValidatedAnswerPart(answer='10', citations=None, visualizations=None, intermediate_results=None),\n",
       " ValidatedAnswerPart(answer='\\\\n', citations=None, visualizations=None, intermediate_results=None),\n",
       " ValidatedAnswerPart(answer='-', citations=None, visualizations=None, intermediate_results=None),\n",
       " ValidatedAnswerPart(answer=' Ant', citations=None, visualizations=None, intermediate_results=None),\n",
       " ValidatedAnswerPart(answer='ise', citations=None, visualizations=None, intermediate_results=None),\n",
       " ValidatedAnswerPart(answer='pt', citations=None, visualizations=None, intermediate_results=None),\n",
       " ValidatedAnswerPart(answer='ica', citations=None, visualizations=None, intermediate_results=None),\n",
       " ValidatedAnswerPart(answer=' r', citations=None, visualizations=None, intermediate_results=None),\n",
       " ValidatedAnswerPart(answer='.f', citations=None, visualizations=None, intermediate_results=None),\n",
       " ValidatedAnswerPart(answer='.u', citations=None, visualizations=None, intermediate_results=None),\n",
       " ValidatedAnswerPart(answer='.', citations=None, visualizations=None, intermediate_results=None),\n",
       " ValidatedAnswerPart(answer=' H', citations=None, visualizations=None, intermediate_results=None),\n",
       " ValidatedAnswerPart(answer='\\\\', citations=None, visualizations=None, intermediate_results=None),\n",
       " ValidatedAnswerPart(answer='nd', citations=None, visualizations=None, intermediate_results=None),\n",
       " ValidatedAnswerPart(answer='edes', citations=None, visualizations=None, intermediate_results=None),\n",
       " ValidatedAnswerPart(answer='inf', citations=None, visualizations=None, intermediate_results=None),\n",
       " ValidatedAnswerPart(answer='ekt', citations=None, visualizations=None, intermediate_results=None),\n",
       " ValidatedAnswerPart(answer='ion', citations=None, visualizations=None, intermediate_results=None),\n",
       " ValidatedAnswerPart(answer=' Fl', citations=None, visualizations=None, intermediate_results=None),\n",
       " ValidatedAnswerPart(answer='as', citations=None, visualizations=None, intermediate_results=None),\n",
       " ValidatedAnswerPart(answer='che', citations=None, visualizations=None, intermediate_results=None),\n",
       " ValidatedAnswerPart(answer=' ', citations=None, visualizations=None, intermediate_results=None),\n",
       " ValidatedAnswerPart(answer='1', citations=None, visualizations=None, intermediate_results=None),\n",
       " ValidatedAnswerPart(answer=' Liter', citations=None, visualizations=None, intermediate_results=None),\n",
       " ValidatedAnswerPart(answer=' x', citations=None, visualizations=None, intermediate_results=None),\n",
       " ValidatedAnswerPart(answer=' ', citations=None, visualizations=None, intermediate_results=None),\n",
       " ValidatedAnswerPart(answer='1', citations=None, visualizations=None, intermediate_results=None),\n",
       " ValidatedAnswerPart(answer='\"}', citations=None, visualizations=None, intermediate_results=None)]"
      ]
     },
     "execution_count": 6,
     "metadata": {},
     "output_type": "execute_result"
    }
   ],
   "source": [
    "chunks"
   ]
  },
  {
   "cell_type": "code",
   "execution_count": null,
   "id": "6979e8a1-3819-44f5-ba49-d223228dcfc5",
   "metadata": {},
   "outputs": [],
   "source": []
  },
  {
   "cell_type": "code",
   "execution_count": null,
   "id": "c955718e-07a3-42c3-9fee-bda3f08637ba",
   "metadata": {},
   "outputs": [],
   "source": []
  },
  {
   "cell_type": "code",
   "execution_count": null,
   "id": "b643ada1-8cb5-46f7-92bc-bb3b3bf291d5",
   "metadata": {},
   "outputs": [],
   "source": []
  },
  {
   "cell_type": "code",
   "execution_count": null,
   "id": "c4a6d2cf-93d7-4bc3-8293-85f8631417d8",
   "metadata": {},
   "outputs": [],
   "source": []
  },
  {
   "cell_type": "code",
   "execution_count": null,
   "id": "53d049aa-c2a3-4ce5-827c-e7942638b784",
   "metadata": {},
   "outputs": [],
   "source": []
  },
  {
   "cell_type": "code",
   "execution_count": 5,
   "id": "30eff432-9e49-4155-b2ad-86733452ac40",
   "metadata": {},
   "outputs": [
    {
     "data": {
      "text/plain": [
       "ChatCompletionMessageResponse(content=None, role='assistant', tool_calls=[OpenAIToolCall(id='call_Hm4H0v1zGdqJ289MJPfS2Axz', type='function', function=OpenaiFunctionCall(arguments='{\"text\":\"Hello! How can I assist you today?\"}', name='answer'))])"
      ]
     },
     "execution_count": 5,
     "metadata": {},
     "output_type": "execute_result"
    }
   ],
   "source": [
    "await orchestrator._chat_step([ChatCompletionMessage(role='user', content='hi')])"
   ]
  },
  {
   "cell_type": "code",
   "execution_count": 11,
   "id": "afd89c5f-fc0d-4014-8bfa-d19969784042",
   "metadata": {},
   "outputs": [
    {
     "name": "stdout",
     "output_type": "stream",
     "text": [
      "content='' role='assistant' tool_calls=[OpenAIToolCallPart(id='call_DXc4WrFV45ygDdsBQy9X4Zzu', type='function', function=OpenaiFunctionCallPart(arguments='', name='answer'))]\n",
      "--------------\n",
      "content='' role='assistant' tool_calls=[OpenAIToolCallPart(id=None, type=None, function=OpenaiFunctionCallPart(arguments='{\"', name=None))]\n",
      "--------------\n",
      "content='' role='assistant' tool_calls=[OpenAIToolCallPart(id=None, type=None, function=OpenaiFunctionCallPart(arguments='text', name=None))]\n",
      "--------------\n",
      "content='' role='assistant' tool_calls=[OpenAIToolCallPart(id=None, type=None, function=OpenaiFunctionCallPart(arguments='\":\"', name=None))]\n",
      "--------------\n",
      "content='' role='assistant' tool_calls=[OpenAIToolCallPart(id=None, type=None, function=OpenaiFunctionCallPart(arguments='Hello', name=None))]\n",
      "--------------\n",
      "content='' role='assistant' tool_calls=[OpenAIToolCallPart(id=None, type=None, function=OpenaiFunctionCallPart(arguments=' there', name=None))]\n",
      "--------------\n",
      "content='' role='assistant' tool_calls=[OpenAIToolCallPart(id=None, type=None, function=OpenaiFunctionCallPart(arguments='!', name=None))]\n",
      "--------------\n",
      "content='' role='assistant' tool_calls=[OpenAIToolCallPart(id=None, type=None, function=OpenaiFunctionCallPart(arguments=' How', name=None))]\n",
      "--------------\n",
      "content='' role='assistant' tool_calls=[OpenAIToolCallPart(id=None, type=None, function=OpenaiFunctionCallPart(arguments=' can', name=None))]\n",
      "--------------\n",
      "content='' role='assistant' tool_calls=[OpenAIToolCallPart(id=None, type=None, function=OpenaiFunctionCallPart(arguments=' I', name=None))]\n",
      "--------------\n",
      "content='' role='assistant' tool_calls=[OpenAIToolCallPart(id=None, type=None, function=OpenaiFunctionCallPart(arguments=' assist', name=None))]\n",
      "--------------\n",
      "content='' role='assistant' tool_calls=[OpenAIToolCallPart(id=None, type=None, function=OpenaiFunctionCallPart(arguments=' you', name=None))]\n",
      "--------------\n",
      "content='' role='assistant' tool_calls=[OpenAIToolCallPart(id=None, type=None, function=OpenaiFunctionCallPart(arguments=' today', name=None))]\n",
      "--------------\n",
      "content='' role='assistant' tool_calls=[OpenAIToolCallPart(id=None, type=None, function=OpenaiFunctionCallPart(arguments='?\"', name=None))]\n",
      "--------------\n",
      "content='' role='assistant' tool_calls=[OpenAIToolCallPart(id=None, type=None, function=OpenaiFunctionCallPart(arguments='}', name=None))]\n",
      "--------------\n",
      "content='' role='assistant' tool_calls=None\n",
      "--------------\n"
     ]
    }
   ],
   "source": [
    "response_stream = orchestrator._chat_step_stream([ChatCompletionMessage(role='user', content='hi')])\n",
    "async for chunk in response_stream:\n",
    "    print(chunk)\n",
    "    print('--------------')"
   ]
  },
  {
   "cell_type": "code",
   "execution_count": 8,
   "id": "2cbadd5f-293e-444e-a4d3-53f530638d1f",
   "metadata": {},
   "outputs": [
    {
     "name": "stdout",
     "output_type": "stream",
     "text": [
      "content='' role='assistant' tool_calls=[OpenAIToolCallPart(id='call_w8nzNTwZ3W5FnfKCppWIoWs6', type='function', function=OpenaiFunctionCallPart(arguments='', name='answer'))]\n",
      "--------------\n",
      "content='' role='assistant' tool_calls=[OpenAIToolCallPart(id=None, type=None, function=OpenaiFunctionCallPart(arguments='{\"', name=None))]\n",
      "--------------\n",
      "content='' role='assistant' tool_calls=[OpenAIToolCallPart(id=None, type=None, function=OpenaiFunctionCallPart(arguments='text', name=None))]\n",
      "--------------\n",
      "content='' role='assistant' tool_calls=[OpenAIToolCallPart(id=None, type=None, function=OpenaiFunctionCallPart(arguments='\":\"', name=None))]\n",
      "--------------\n",
      "content='' role='assistant' tool_calls=[OpenAIToolCallPart(id=None, type=None, function=OpenaiFunctionCallPart(arguments='Hello', name=None))]\n",
      "--------------\n",
      "content='' role='assistant' tool_calls=[OpenAIToolCallPart(id=None, type=None, function=OpenaiFunctionCallPart(arguments='!', name=None))]\n",
      "--------------\n",
      "content='' role='assistant' tool_calls=[OpenAIToolCallPart(id=None, type=None, function=OpenaiFunctionCallPart(arguments=' How', name=None))]\n",
      "--------------\n",
      "content='' role='assistant' tool_calls=[OpenAIToolCallPart(id=None, type=None, function=OpenaiFunctionCallPart(arguments=' can', name=None))]\n",
      "--------------\n",
      "content='' role='assistant' tool_calls=[OpenAIToolCallPart(id=None, type=None, function=OpenaiFunctionCallPart(arguments=' I', name=None))]\n",
      "--------------\n",
      "content='' role='assistant' tool_calls=[OpenAIToolCallPart(id=None, type=None, function=OpenaiFunctionCallPart(arguments=' assist', name=None))]\n",
      "--------------\n",
      "content='' role='assistant' tool_calls=[OpenAIToolCallPart(id=None, type=None, function=OpenaiFunctionCallPart(arguments=' you', name=None))]\n",
      "--------------\n",
      "content='' role='assistant' tool_calls=[OpenAIToolCallPart(id=None, type=None, function=OpenaiFunctionCallPart(arguments=' today', name=None))]\n",
      "--------------\n",
      "content='' role='assistant' tool_calls=[OpenAIToolCallPart(id=None, type=None, function=OpenaiFunctionCallPart(arguments='?\"', name=None))]\n",
      "--------------\n",
      "content='' role='assistant' tool_calls=[OpenAIToolCallPart(id=None, type=None, function=OpenaiFunctionCallPart(arguments='}', name=None))]\n",
      "--------------\n",
      "content='' role='assistant' tool_calls=None\n",
      "--------------\n"
     ]
    }
   ],
   "source": [
    "self = orchestrator\n",
    "current_step_messages = [ChatCompletionMessage(role='user', content='hi')]\n",
    "\n",
    "\n",
    "chat_completion_stream = self.connection.chat_completion_stream_async(\n",
    "    messages=current_step_messages,\n",
    "    tool_definitions=self._tool_definitions_active,\n",
    ")\n",
    "async for chunk in chat_completion_stream:\n",
    "    if len(chunk.choices) > 0:\n",
    "        if chunk.choices[0].message is not None:\n",
    "            print(chunk.choices[0].message)\n",
    "            print('--------------')"
   ]
  },
  {
   "cell_type": "code",
   "execution_count": null,
   "id": "762c3cbd-046b-4719-ade6-983e0bf79b26",
   "metadata": {},
   "outputs": [],
   "source": []
  },
  {
   "cell_type": "code",
   "execution_count": null,
   "id": "fc0bf70c-9eef-4875-b8c8-3dd74d36bbfd",
   "metadata": {},
   "outputs": [],
   "source": []
  },
  {
   "cell_type": "code",
   "execution_count": null,
   "id": "216bfeea",
   "metadata": {},
   "outputs": [],
   "source": [
    "#############################################\n",
    "# Dataset generation\n",
    "orchestrator._full_message_history_for_debugging\n",
    "# This is the expected chat-over-text format:\n",
    "# <|system|> You are a chatbot who can help code!</s> <|user|> Write me a function to calculate the first 10 digits of the fibonacci sequence in Python and print it out to the CLI.</s> <|assistant|>\n",
    "# Before finetunning, we have to convert\n",
    "# this format is called \"Zephyr\", because it is used in the model HuggingFaceH4/zephyr-7b-alpha"
   ]
  },
  {
   "cell_type": "code",
   "execution_count": null,
   "id": "5113abc4",
   "metadata": {},
   "outputs": [],
   "source": []
  },
  {
   "cell_type": "code",
   "execution_count": null,
   "id": "676d0506",
   "metadata": {},
   "outputs": [],
   "source": []
  },
  {
   "cell_type": "code",
   "execution_count": null,
   "id": "2117d4f5",
   "metadata": {},
   "outputs": [],
   "source": []
  },
  {
   "cell_type": "code",
   "execution_count": null,
   "id": "30a132a3",
   "metadata": {},
   "outputs": [],
   "source": []
  },
  {
   "cell_type": "code",
   "execution_count": null,
   "id": "27ca09ee",
   "metadata": {},
   "outputs": [],
   "source": []
  },
  {
   "cell_type": "code",
   "execution_count": null,
   "id": "1d818444",
   "metadata": {},
   "outputs": [],
   "source": []
  },
  {
   "cell_type": "code",
   "execution_count": null,
   "id": "763d5d41",
   "metadata": {},
   "outputs": [],
   "source": [
    "'''# Bare llamacpp\n",
    "llm = factory_create_connector_llm(\n",
    "    provider='llama_cpp',\n",
    "    modelname='not-needed',\n",
    "    version='not-needed',\n",
    "    credentials=CredentialsOpenAI(\n",
    "        base_url='http://llm-server:8080/v1',\n",
    "        api_key='not-needed',\n",
    "    )\n",
    ")\n",
    "\n",
    "\n",
    "plugins = [\n",
    "    (PluginCapital(), \"PluginCapital\"),\n",
    "]\n",
    "orchestrator = OrchestratorWithTool(\n",
    "    connection = llm,\n",
    "    tool_definitions = openai_function_to_tool.generate_definitions(semantic_kernel_v0_to_openai_function.generate_definitions(plugins)),\n",
    "    tool_callables = generate_callables(plugins),\n",
    "    token_limit_input = 1024,\n",
    "    token_limit_output = None,\n",
    "    max_steps_recommended = 2,\n",
    "    max_steps_allowed = 3,\n",
    "    prompt_app_system='You are an AI assistant whose goal is to answer the user question.',\n",
    "     prompt_app_user='What is the capital of france?',\n",
    ")\n",
    "\n",
    "r = await orchestrator.run_async()\n",
    "print(r)\n",
    "print('\\n\\n' + '-'*30 + '\\n\\n')\n",
    "assert type(r.answer) == str\n",
    "assert len(r.answer) > 4\n",
    "print(r.answer)''';"
   ]
  },
  {
   "cell_type": "code",
   "execution_count": null,
   "id": "1c647506-3ccc-47c6-a17f-2c4dd90f6301",
   "metadata": {},
   "outputs": [],
   "source": []
  },
  {
   "cell_type": "code",
   "execution_count": null,
   "id": "32eee46b-9ef6-4ffb-ae4c-8aa237983e69",
   "metadata": {},
   "outputs": [],
   "source": []
  },
  {
   "cell_type": "code",
   "execution_count": null,
   "id": "13224931-4f2c-44cb-82d7-29053fc36f40",
   "metadata": {},
   "outputs": [],
   "source": []
  }
 ],
 "metadata": {
  "kernelspec": {
   "display_name": "Python 3 (ipykernel)",
   "language": "python",
   "name": "python3"
  },
  "language_info": {
   "codemirror_mode": {
    "name": "ipython",
    "version": 3
   },
   "file_extension": ".py",
   "mimetype": "text/x-python",
   "name": "python",
   "nbconvert_exporter": "python",
   "pygments_lexer": "ipython3",
   "version": "3.10.12"
  }
 },
 "nbformat": 4,
 "nbformat_minor": 5
}
