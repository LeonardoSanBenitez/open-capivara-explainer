{
 "cells": [
  {
   "cell_type": "code",
   "execution_count": 1,
   "id": "94af833f-d17d-4440-a839-4559cb47ddde",
   "metadata": {},
   "outputs": [
    {
     "name": "stdout",
     "output_type": "stream",
     "text": [
      "Collecting semantic-kernel==0.5.0.dev0\n",
      "  Downloading semantic_kernel-0.5.0.dev0-py3-none-any.whl.metadata (2.1 kB)\n",
      "Collecting aiofiles<24.0.0,>=23.1.0 (from semantic-kernel==0.5.0.dev0)\n",
      "  Downloading aiofiles-23.2.1-py3-none-any.whl.metadata (9.7 kB)\n",
      "Collecting aiohttp<4.0,>=3.8 (from semantic-kernel==0.5.0.dev0)\n",
      "  Downloading aiohttp-3.10.1-cp310-cp310-manylinux_2_17_x86_64.manylinux2014_x86_64.whl.metadata (7.5 kB)\n",
      "Collecting motor<4.0.0,>=3.3.1 (from semantic-kernel==0.5.0.dev0)\n",
      "  Downloading motor-3.5.1-py3-none-any.whl.metadata (21 kB)\n",
      "Requirement already satisfied: numpy<2.0.0,>=1.24.2 in /usr/local/lib/python3.10/dist-packages (from semantic-kernel==0.5.0.dev0) (1.26.4)\n",
      "Requirement already satisfied: openai>=1.0 in /usr/local/lib/python3.10/dist-packages (from semantic-kernel==0.5.0.dev0) (1.40.0)\n",
      "Collecting openapi_core<0.19.0,>=0.18.0 (from semantic-kernel==0.5.0.dev0)\n",
      "  Downloading openapi_core-0.18.2-py3-none-any.whl.metadata (6.3 kB)\n",
      "Collecting prance<24.0.0.0,>=23.6.21.0 (from semantic-kernel==0.5.0.dev0)\n",
      "  Downloading prance-23.6.21.0-py3-none-any.whl.metadata (13 kB)\n",
      "Requirement already satisfied: pydantic>2 in /usr/local/lib/python3.10/dist-packages (from semantic-kernel==0.5.0.dev0) (2.8.2)\n",
      "Collecting python-dotenv==1.0.0 (from semantic-kernel==0.5.0.dev0)\n",
      "  Downloading python_dotenv-1.0.0-py3-none-any.whl.metadata (21 kB)\n",
      "Collecting regex<2024.0.0,>=2023.6.3 (from semantic-kernel==0.5.0.dev0)\n",
      "  Downloading regex-2023.12.25-cp310-cp310-manylinux_2_17_x86_64.manylinux2014_x86_64.whl.metadata (40 kB)\n",
      "Collecting aiohappyeyeballs>=2.3.0 (from aiohttp<4.0,>=3.8->semantic-kernel==0.5.0.dev0)\n",
      "  Downloading aiohappyeyeballs-2.3.5-py3-none-any.whl.metadata (5.8 kB)\n",
      "Collecting aiosignal>=1.1.2 (from aiohttp<4.0,>=3.8->semantic-kernel==0.5.0.dev0)\n",
      "  Downloading aiosignal-1.3.1-py3-none-any.whl.metadata (4.0 kB)\n",
      "Requirement already satisfied: attrs>=17.3.0 in /usr/local/lib/python3.10/dist-packages (from aiohttp<4.0,>=3.8->semantic-kernel==0.5.0.dev0) (24.2.0)\n",
      "Collecting frozenlist>=1.1.1 (from aiohttp<4.0,>=3.8->semantic-kernel==0.5.0.dev0)\n",
      "  Downloading frozenlist-1.4.1-cp310-cp310-manylinux_2_5_x86_64.manylinux1_x86_64.manylinux_2_17_x86_64.manylinux2014_x86_64.whl.metadata (12 kB)\n",
      "Collecting multidict<7.0,>=4.5 (from aiohttp<4.0,>=3.8->semantic-kernel==0.5.0.dev0)\n",
      "  Downloading multidict-6.0.5-cp310-cp310-manylinux_2_17_x86_64.manylinux2014_x86_64.whl.metadata (4.2 kB)\n",
      "Collecting yarl<2.0,>=1.0 (from aiohttp<4.0,>=3.8->semantic-kernel==0.5.0.dev0)\n",
      "  Downloading yarl-1.9.4-cp310-cp310-manylinux_2_17_x86_64.manylinux2014_x86_64.whl.metadata (31 kB)\n",
      "Collecting async-timeout<5.0,>=4.0 (from aiohttp<4.0,>=3.8->semantic-kernel==0.5.0.dev0)\n",
      "  Downloading async_timeout-4.0.3-py3-none-any.whl.metadata (4.2 kB)\n",
      "Collecting pymongo<5,>=4.5 (from motor<4.0.0,>=3.3.1->semantic-kernel==0.5.0.dev0)\n",
      "  Downloading pymongo-4.8.0-cp310-cp310-manylinux_2_17_x86_64.manylinux2014_x86_64.whl.metadata (22 kB)\n",
      "Requirement already satisfied: anyio<5,>=3.5.0 in /usr/local/lib/python3.10/dist-packages (from openai>=1.0->semantic-kernel==0.5.0.dev0) (4.4.0)\n",
      "Requirement already satisfied: distro<2,>=1.7.0 in /usr/local/lib/python3.10/dist-packages (from openai>=1.0->semantic-kernel==0.5.0.dev0) (1.9.0)\n",
      "Requirement already satisfied: httpx<1,>=0.23.0 in /usr/local/lib/python3.10/dist-packages (from openai>=1.0->semantic-kernel==0.5.0.dev0) (0.27.0)\n",
      "Requirement already satisfied: jiter<1,>=0.4.0 in /usr/local/lib/python3.10/dist-packages (from openai>=1.0->semantic-kernel==0.5.0.dev0) (0.5.0)\n",
      "Requirement already satisfied: sniffio in /usr/local/lib/python3.10/dist-packages (from openai>=1.0->semantic-kernel==0.5.0.dev0) (1.3.1)\n",
      "Requirement already satisfied: tqdm>4 in /usr/local/lib/python3.10/dist-packages (from openai>=1.0->semantic-kernel==0.5.0.dev0) (4.66.5)\n",
      "Requirement already satisfied: typing-extensions<5,>=4.11 in /usr/local/lib/python3.10/dist-packages (from openai>=1.0->semantic-kernel==0.5.0.dev0) (4.12.2)\n",
      "Collecting asgiref<4.0.0,>=3.6.0 (from openapi_core<0.19.0,>=0.18.0->semantic-kernel==0.5.0.dev0)\n",
      "  Downloading asgiref-3.8.1-py3-none-any.whl.metadata (9.3 kB)\n",
      "Collecting isodate (from openapi_core<0.19.0,>=0.18.0->semantic-kernel==0.5.0.dev0)\n",
      "  Downloading isodate-0.6.1-py2.py3-none-any.whl.metadata (9.6 kB)\n",
      "Requirement already satisfied: jsonschema<5.0.0,>=4.18.0 in /usr/local/lib/python3.10/dist-packages (from openapi_core<0.19.0,>=0.18.0->semantic-kernel==0.5.0.dev0) (4.23.0)\n",
      "Collecting jsonschema-spec<0.3.0,>=0.2.3 (from openapi_core<0.19.0,>=0.18.0->semantic-kernel==0.5.0.dev0)\n",
      "  Downloading jsonschema_spec-0.2.4-py3-none-any.whl.metadata (4.3 kB)\n",
      "Collecting more-itertools (from openapi_core<0.19.0,>=0.18.0->semantic-kernel==0.5.0.dev0)\n",
      "  Downloading more_itertools-10.4.0-py3-none-any.whl.metadata (36 kB)\n",
      "Collecting openapi-schema-validator<0.7.0,>=0.6.0 (from openapi_core<0.19.0,>=0.18.0->semantic-kernel==0.5.0.dev0)\n",
      "  Downloading openapi_schema_validator-0.6.2-py3-none-any.whl.metadata (5.3 kB)\n",
      "Collecting openapi-spec-validator<0.8.0,>=0.7.1 (from openapi_core<0.19.0,>=0.18.0->semantic-kernel==0.5.0.dev0)\n",
      "  Downloading openapi_spec_validator-0.7.1-py3-none-any.whl.metadata (5.7 kB)\n",
      "Collecting parse (from openapi_core<0.19.0,>=0.18.0->semantic-kernel==0.5.0.dev0)\n",
      "  Downloading parse-1.20.2-py2.py3-none-any.whl.metadata (22 kB)\n",
      "Collecting werkzeug (from openapi_core<0.19.0,>=0.18.0->semantic-kernel==0.5.0.dev0)\n",
      "  Downloading werkzeug-3.0.3-py3-none-any.whl.metadata (3.7 kB)\n",
      "Collecting chardet>=3.0 (from prance<24.0.0.0,>=23.6.21.0->semantic-kernel==0.5.0.dev0)\n",
      "  Downloading chardet-5.2.0-py3-none-any.whl.metadata (3.4 kB)\n",
      "Collecting ruamel.yaml>=0.17.10 (from prance<24.0.0.0,>=23.6.21.0->semantic-kernel==0.5.0.dev0)\n",
      "  Downloading ruamel.yaml-0.18.6-py3-none-any.whl.metadata (23 kB)\n",
      "Requirement already satisfied: requests>=2.25 in /usr/local/lib/python3.10/dist-packages (from prance<24.0.0.0,>=23.6.21.0->semantic-kernel==0.5.0.dev0) (2.32.3)\n",
      "Requirement already satisfied: six~=1.15 in /usr/local/lib/python3.10/dist-packages (from prance<24.0.0.0,>=23.6.21.0->semantic-kernel==0.5.0.dev0) (1.16.0)\n",
      "Requirement already satisfied: packaging>=21.3 in /usr/local/lib/python3.10/dist-packages (from prance<24.0.0.0,>=23.6.21.0->semantic-kernel==0.5.0.dev0) (24.1)\n",
      "Requirement already satisfied: annotated-types>=0.4.0 in /usr/local/lib/python3.10/dist-packages (from pydantic>2->semantic-kernel==0.5.0.dev0) (0.7.0)\n",
      "Requirement already satisfied: pydantic-core==2.20.1 in /usr/local/lib/python3.10/dist-packages (from pydantic>2->semantic-kernel==0.5.0.dev0) (2.20.1)\n",
      "Requirement already satisfied: idna>=2.8 in /usr/local/lib/python3.10/dist-packages (from anyio<5,>=3.5.0->openai>=1.0->semantic-kernel==0.5.0.dev0) (3.7)\n",
      "Requirement already satisfied: exceptiongroup>=1.0.2 in /usr/local/lib/python3.10/dist-packages (from anyio<5,>=3.5.0->openai>=1.0->semantic-kernel==0.5.0.dev0) (1.2.2)\n",
      "Requirement already satisfied: certifi in /usr/local/lib/python3.10/dist-packages (from httpx<1,>=0.23.0->openai>=1.0->semantic-kernel==0.5.0.dev0) (2024.7.4)\n",
      "Requirement already satisfied: httpcore==1.* in /usr/local/lib/python3.10/dist-packages (from httpx<1,>=0.23.0->openai>=1.0->semantic-kernel==0.5.0.dev0) (1.0.5)\n",
      "Requirement already satisfied: h11<0.15,>=0.13 in /usr/local/lib/python3.10/dist-packages (from httpcore==1.*->httpx<1,>=0.23.0->openai>=1.0->semantic-kernel==0.5.0.dev0) (0.14.0)\n",
      "Requirement already satisfied: jsonschema-specifications>=2023.03.6 in /usr/local/lib/python3.10/dist-packages (from jsonschema<5.0.0,>=4.18.0->openapi_core<0.19.0,>=0.18.0->semantic-kernel==0.5.0.dev0) (2023.12.1)\n",
      "Requirement already satisfied: referencing>=0.28.4 in /usr/local/lib/python3.10/dist-packages (from jsonschema<5.0.0,>=4.18.0->openapi_core<0.19.0,>=0.18.0->semantic-kernel==0.5.0.dev0) (0.35.1)\n",
      "Requirement already satisfied: rpds-py>=0.7.1 in /usr/local/lib/python3.10/dist-packages (from jsonschema<5.0.0,>=4.18.0->openapi_core<0.19.0,>=0.18.0->semantic-kernel==0.5.0.dev0) (0.20.0)\n",
      "Requirement already satisfied: PyYAML>=5.1 in /usr/local/lib/python3.10/dist-packages (from jsonschema-spec<0.3.0,>=0.2.3->openapi_core<0.19.0,>=0.18.0->semantic-kernel==0.5.0.dev0) (6.0.2)\n",
      "Collecting pathable<0.5.0,>=0.4.1 (from jsonschema-spec<0.3.0,>=0.2.3->openapi_core<0.19.0,>=0.18.0->semantic-kernel==0.5.0.dev0)\n",
      "  Downloading pathable-0.4.3-py3-none-any.whl.metadata (1.9 kB)\n",
      "Collecting referencing>=0.28.4 (from jsonschema<5.0.0,>=4.18.0->openapi_core<0.19.0,>=0.18.0->semantic-kernel==0.5.0.dev0)\n",
      "  Downloading referencing-0.30.2-py3-none-any.whl.metadata (2.6 kB)\n",
      "Requirement already satisfied: rfc3339-validator in /usr/local/lib/python3.10/dist-packages (from openapi-schema-validator<0.7.0,>=0.6.0->openapi_core<0.19.0,>=0.18.0->semantic-kernel==0.5.0.dev0) (0.1.4)\n",
      "Collecting jsonschema-path<0.4.0,>=0.3.1 (from openapi-spec-validator<0.8.0,>=0.7.1->openapi_core<0.19.0,>=0.18.0->semantic-kernel==0.5.0.dev0)\n",
      "  Downloading jsonschema_path-0.3.3-py3-none-any.whl.metadata (4.3 kB)\n",
      "Collecting lazy-object-proxy<2.0.0,>=1.7.1 (from openapi-spec-validator<0.8.0,>=0.7.1->openapi_core<0.19.0,>=0.18.0->semantic-kernel==0.5.0.dev0)\n",
      "  Downloading lazy_object_proxy-1.10.0-cp310-cp310-manylinux_2_5_x86_64.manylinux1_x86_64.manylinux_2_17_x86_64.manylinux2014_x86_64.whl.metadata (7.8 kB)\n",
      "Collecting dnspython<3.0.0,>=1.16.0 (from pymongo<5,>=4.5->motor<4.0.0,>=3.3.1->semantic-kernel==0.5.0.dev0)\n",
      "  Downloading dnspython-2.6.1-py3-none-any.whl.metadata (5.8 kB)\n",
      "Requirement already satisfied: charset-normalizer<4,>=2 in /usr/local/lib/python3.10/dist-packages (from requests>=2.25->prance<24.0.0.0,>=23.6.21.0->semantic-kernel==0.5.0.dev0) (3.3.2)\n",
      "Requirement already satisfied: urllib3<3,>=1.21.1 in /usr/local/lib/python3.10/dist-packages (from requests>=2.25->prance<24.0.0.0,>=23.6.21.0->semantic-kernel==0.5.0.dev0) (2.2.2)\n",
      "Collecting ruamel.yaml.clib>=0.2.7 (from ruamel.yaml>=0.17.10->prance<24.0.0.0,>=23.6.21.0->semantic-kernel==0.5.0.dev0)\n",
      "  Downloading ruamel.yaml.clib-0.2.8-cp310-cp310-manylinux_2_17_x86_64.manylinux2014_x86_64.manylinux_2_24_x86_64.whl.metadata (2.2 kB)\n",
      "Requirement already satisfied: MarkupSafe>=2.1.1 in /usr/local/lib/python3.10/dist-packages (from werkzeug->openapi_core<0.19.0,>=0.18.0->semantic-kernel==0.5.0.dev0) (2.1.5)\n",
      "INFO: pip is looking at multiple versions of jsonschema-specifications to determine which version is compatible with other requirements. This could take a while.\n",
      "Collecting jsonschema-specifications>=2023.03.6 (from jsonschema<5.0.0,>=4.18.0->openapi_core<0.19.0,>=0.18.0->semantic-kernel==0.5.0.dev0)\n",
      "  Downloading jsonschema_specifications-2023.11.2-py3-none-any.whl.metadata (3.0 kB)\n",
      "  Downloading jsonschema_specifications-2023.11.1-py3-none-any.whl.metadata (2.8 kB)\n",
      "  Downloading jsonschema_specifications-2023.7.1-py3-none-any.whl.metadata (2.8 kB)\n",
      "Downloading semantic_kernel-0.5.0.dev0-py3-none-any.whl (244 kB)\n",
      "Downloading python_dotenv-1.0.0-py3-none-any.whl (19 kB)\n",
      "Downloading aiofiles-23.2.1-py3-none-any.whl (15 kB)\n",
      "Downloading aiohttp-3.10.1-cp310-cp310-manylinux_2_17_x86_64.manylinux2014_x86_64.whl (1.2 MB)\n",
      "\u001b[2K   \u001b[90m━━━━━━━━━━━━━━━━━━━━━━━━━━━━━━━━━━━━━━━━\u001b[0m \u001b[32m1.2/1.2 MB\u001b[0m \u001b[31m1.0 MB/s\u001b[0m eta \u001b[36m0:00:00\u001b[0ma \u001b[36m0:00:01\u001b[0m0m\n",
      "\u001b[?25hDownloading motor-3.5.1-py3-none-any.whl (74 kB)\n",
      "Downloading openapi_core-0.18.2-py3-none-any.whl (82 kB)\n",
      "Downloading prance-23.6.21.0-py3-none-any.whl (36 kB)\n",
      "Downloading regex-2023.12.25-cp310-cp310-manylinux_2_17_x86_64.manylinux2014_x86_64.whl (773 kB)\n",
      "\u001b[2K   \u001b[90m━━━━━━━━━━━━━━━━━━━━━━━━━━━━━━━━━━━━━━━━\u001b[0m \u001b[32m774.0/774.0 kB\u001b[0m \u001b[31m1.1 MB/s\u001b[0m eta \u001b[36m0:00:00\u001b[0ma \u001b[36m0:00:01\u001b[0m\n",
      "\u001b[?25hDownloading aiohappyeyeballs-2.3.5-py3-none-any.whl (12 kB)\n",
      "Downloading aiosignal-1.3.1-py3-none-any.whl (7.6 kB)\n",
      "Downloading asgiref-3.8.1-py3-none-any.whl (23 kB)\n",
      "Downloading async_timeout-4.0.3-py3-none-any.whl (5.7 kB)\n",
      "Downloading chardet-5.2.0-py3-none-any.whl (199 kB)\n",
      "Downloading frozenlist-1.4.1-cp310-cp310-manylinux_2_5_x86_64.manylinux1_x86_64.manylinux_2_17_x86_64.manylinux2014_x86_64.whl (239 kB)\n",
      "Downloading jsonschema_spec-0.2.4-py3-none-any.whl (14 kB)\n",
      "Downloading multidict-6.0.5-cp310-cp310-manylinux_2_17_x86_64.manylinux2014_x86_64.whl (124 kB)\n",
      "Downloading openapi_schema_validator-0.6.2-py3-none-any.whl (8.8 kB)\n",
      "Downloading openapi_spec_validator-0.7.1-py3-none-any.whl (38 kB)\n",
      "Downloading pymongo-4.8.0-cp310-cp310-manylinux_2_17_x86_64.manylinux2014_x86_64.whl (1.2 MB)\n",
      "\u001b[2K   \u001b[90m━━━━━━━━━━━━━━━━━━━━━━━━━━━━━━━━━━━━━━━━\u001b[0m \u001b[32m1.2/1.2 MB\u001b[0m \u001b[31m1.1 MB/s\u001b[0m eta \u001b[36m0:00:00\u001b[0ma \u001b[36m0:00:01\u001b[0m\n",
      "\u001b[?25hDownloading ruamel.yaml-0.18.6-py3-none-any.whl (117 kB)\n",
      "Downloading yarl-1.9.4-cp310-cp310-manylinux_2_17_x86_64.manylinux2014_x86_64.whl (301 kB)\n",
      "Downloading isodate-0.6.1-py2.py3-none-any.whl (41 kB)\n",
      "Downloading more_itertools-10.4.0-py3-none-any.whl (60 kB)\n",
      "Downloading parse-1.20.2-py2.py3-none-any.whl (20 kB)\n",
      "Downloading werkzeug-3.0.3-py3-none-any.whl (227 kB)\n",
      "Downloading dnspython-2.6.1-py3-none-any.whl (307 kB)\n",
      "Downloading jsonschema_path-0.3.3-py3-none-any.whl (14 kB)\n",
      "Downloading jsonschema_specifications-2023.7.1-py3-none-any.whl (17 kB)\n",
      "Downloading lazy_object_proxy-1.10.0-cp310-cp310-manylinux_2_5_x86_64.manylinux1_x86_64.manylinux_2_17_x86_64.manylinux2014_x86_64.whl (68 kB)\n",
      "Downloading pathable-0.4.3-py3-none-any.whl (9.6 kB)\n",
      "Downloading referencing-0.30.2-py3-none-any.whl (25 kB)\n",
      "Downloading ruamel.yaml.clib-0.2.8-cp310-cp310-manylinux_2_17_x86_64.manylinux2014_x86_64.manylinux_2_24_x86_64.whl (526 kB)\n",
      "\u001b[2K   \u001b[90m━━━━━━━━━━━━━━━━━━━━━━━━━━━━━━━━━━━━━━━\u001b[0m \u001b[32m526.7/526.7 kB\u001b[0m \u001b[31m511.2 kB/s\u001b[0m eta \u001b[36m0:00:00\u001b[0m:--:--\u001b[0m\n",
      "\u001b[?25hInstalling collected packages: parse, werkzeug, ruamel.yaml.clib, regex, referencing, python-dotenv, pathable, multidict, more-itertools, lazy-object-proxy, isodate, frozenlist, dnspython, chardet, async-timeout, asgiref, aiohappyeyeballs, aiofiles, yarl, ruamel.yaml, pymongo, jsonschema-specifications, jsonschema-spec, jsonschema-path, aiosignal, prance, motor, aiohttp, openapi-schema-validator, openapi-spec-validator, openapi_core, semantic-kernel\n",
      "  Attempting uninstall: regex\n",
      "    Found existing installation: regex 2024.7.24\n",
      "    Uninstalling regex-2024.7.24:\n",
      "      Successfully uninstalled regex-2024.7.24\n",
      "  Attempting uninstall: referencing\n",
      "    Found existing installation: referencing 0.35.1\n",
      "    Uninstalling referencing-0.35.1:\n",
      "      Successfully uninstalled referencing-0.35.1\n",
      "  Attempting uninstall: python-dotenv\n",
      "    Found existing installation: python-dotenv 1.0.1\n",
      "    Uninstalling python-dotenv-1.0.1:\n",
      "      Successfully uninstalled python-dotenv-1.0.1\n",
      "  Attempting uninstall: jsonschema-specifications\n",
      "    Found existing installation: jsonschema-specifications 2023.12.1\n",
      "    Uninstalling jsonschema-specifications-2023.12.1:\n",
      "      Successfully uninstalled jsonschema-specifications-2023.12.1\n",
      "Successfully installed aiofiles-23.2.1 aiohappyeyeballs-2.3.5 aiohttp-3.10.1 aiosignal-1.3.1 asgiref-3.8.1 async-timeout-4.0.3 chardet-5.2.0 dnspython-2.6.1 frozenlist-1.4.1 isodate-0.6.1 jsonschema-path-0.3.3 jsonschema-spec-0.2.4 jsonschema-specifications-2023.7.1 lazy-object-proxy-1.10.0 more-itertools-10.4.0 motor-3.5.1 multidict-6.0.5 openapi-schema-validator-0.6.2 openapi-spec-validator-0.7.1 openapi_core-0.18.2 parse-1.20.2 pathable-0.4.3 prance-23.6.21.0 pymongo-4.8.0 python-dotenv-1.0.0 referencing-0.30.2 regex-2023.12.25 ruamel.yaml-0.18.6 ruamel.yaml.clib-0.2.8 semantic-kernel-0.5.0.dev0 werkzeug-3.0.3 yarl-1.9.4\n",
      "\u001b[33mWARNING: Running pip as the 'root' user can result in broken permissions and conflicting behaviour with the system package manager, possibly rendering your system unusable.It is recommended to use a virtual environment instead: https://pip.pypa.io/warnings/venv. Use the --root-user-action option if you know what you are doing and want to suppress this warning.\u001b[0m\u001b[33m\n",
      "\u001b[0m"
     ]
    }
   ],
   "source": [
    "!pip install semantic-kernel==0.5.0.dev0"
   ]
  },
  {
   "cell_type": "code",
   "execution_count": 4,
   "id": "85c07c9c-aef6-4d60-bf74-85aebb7a3ab5",
   "metadata": {},
   "outputs": [
    {
     "ename": "ModuleNotFoundError",
     "evalue": "No module named 'libs.plugin_converter.semantic_kernel_v0'",
     "output_type": "error",
     "traceback": [
      "\u001b[0;31m---------------------------------------------------------------------------\u001b[0m",
      "\u001b[0;31mModuleNotFoundError\u001b[0m                       Traceback (most recent call last)",
      "Cell \u001b[0;32mIn[4], line 3\u001b[0m\n\u001b[1;32m      1\u001b[0m \u001b[38;5;28;01mfrom\u001b[39;00m \u001b[38;5;21;01mlibs\u001b[39;00m\u001b[38;5;21;01m.\u001b[39;00m\u001b[38;5;21;01mplugin_converter\u001b[39;00m\u001b[38;5;21;01m.\u001b[39;00m\u001b[38;5;21;01msemantic_kernel_v0_to_openai_function\u001b[39;00m \u001b[38;5;28;01mimport\u001b[39;00m generate_callables, generate_definitions\n\u001b[1;32m      2\u001b[0m \u001b[38;5;28;01mfrom\u001b[39;00m \u001b[38;5;21;01mlibs\u001b[39;00m\u001b[38;5;21;01m.\u001b[39;00m\u001b[38;5;21;01mplugins\u001b[39;00m\u001b[38;5;21;01m.\u001b[39;00m\u001b[38;5;21;01mplugin_capital\u001b[39;00m \u001b[38;5;28;01mimport\u001b[39;00m PluginCapital\n\u001b[0;32m----> 3\u001b[0m \u001b[38;5;28;01mfrom\u001b[39;00m \u001b[38;5;21;01mlibs\u001b[39;00m\u001b[38;5;21;01m.\u001b[39;00m\u001b[38;5;21;01mplugin_converter\u001b[39;00m\u001b[38;5;21;01m.\u001b[39;00m\u001b[38;5;21;01msemantic_kernel_v0\u001b[39;00m \u001b[38;5;28;01mimport\u001b[39;00m make_context\n\u001b[1;32m      4\u001b[0m plugin \u001b[38;5;241m=\u001b[39m PluginCapitals()\n\u001b[1;32m      5\u001b[0m \u001b[38;5;28mprint\u001b[39m(plugin\u001b[38;5;241m.\u001b[39mget_capital(make_context({\u001b[38;5;124m'\u001b[39m\u001b[38;5;124mcountry\u001b[39m\u001b[38;5;124m'\u001b[39m: \u001b[38;5;124m'\u001b[39m\u001b[38;5;124mBrazil\u001b[39m\u001b[38;5;124m'\u001b[39m})))\n",
      "\u001b[0;31mModuleNotFoundError\u001b[0m: No module named 'libs.plugin_converter.semantic_kernel_v0'"
     ]
    }
   ],
   "source": [
    "from libs.plugin_converter.semantic_kernel_v0_to_openai_function import generate_callables, generate_definitions\n",
    "from libs.plugins.plugin_capital import PluginCapital\n",
    "from libs.plugin_converter.semantic_kernel_v0 import make_context\n",
    "\n",
    "plugin = PluginCapitals()\n",
    "print(plugin.get_capital(make_context({'country': 'Brazil'})))"
   ]
  },
  {
   "cell_type": "code",
   "execution_count": 18,
   "id": "95170b06-f41f-4af1-8151-40a100c1c813",
   "metadata": {},
   "outputs": [
    {
     "name": "stdout",
     "output_type": "stream",
     "text": [
      "Collecting lxml\n",
      "  Downloading lxml-5.2.2-cp310-cp310-manylinux_2_28_x86_64.whl.metadata (3.4 kB)\n",
      "Downloading lxml-5.2.2-cp310-cp310-manylinux_2_28_x86_64.whl (5.0 MB)\n",
      "\u001b[2K   \u001b[90m━━━━━━━━━━━━━━━━━━━━━━━━━━━━━━━━━━━━━━━━\u001b[0m \u001b[32m5.0/5.0 MB\u001b[0m \u001b[31m507.7 kB/s\u001b[0m eta \u001b[36m0:00:00\u001b[0ma \u001b[36m0:00:01\u001b[0m\n",
      "\u001b[?25hInstalling collected packages: lxml\n",
      "Successfully installed lxml-5.2.2\n",
      "\u001b[33mWARNING: Running pip as the 'root' user can result in broken permissions and conflicting behaviour with the system package manager, possibly rendering your system unusable.It is recommended to use a virtual environment instead: https://pip.pypa.io/warnings/venv. Use the --root-user-action option if you know what you are doing and want to suppress this warning.\u001b[0m\u001b[33m\n",
      "\u001b[0m"
     ]
    }
   ],
   "source": [
    "!pip install lxml"
   ]
  },
  {
   "cell_type": "code",
   "execution_count": null,
   "id": "3fd06d60-982f-4719-882e-f0f448d530ad",
   "metadata": {},
   "outputs": [],
   "source": []
  },
  {
   "cell_type": "code",
   "execution_count": null,
   "id": "aac908dd-4078-4e89-8ce7-98ae3139acc5",
   "metadata": {},
   "outputs": [],
   "source": []
  },
  {
   "cell_type": "code",
   "execution_count": null,
   "id": "e1ff8380-755c-43c6-8215-872c65969485",
   "metadata": {},
   "outputs": [],
   "source": []
  },
  {
   "cell_type": "code",
   "execution_count": 1,
   "id": "3ddf34ca-fb20-4278-9f82-faf558433a5c",
   "metadata": {},
   "outputs": [],
   "source": []
  },
  {
   "cell_type": "code",
   "execution_count": 5,
   "id": "aeba6fa6-0fbe-4c91-af75-b0d43635040a",
   "metadata": {},
   "outputs": [],
   "source": [
    "functions = generate_callables([(PluginCapital(), \"PluginCapital\")])\n",
    "assert type(functions) == dict\n",
    "assert len(functions) == 1"
   ]
  },
  {
   "cell_type": "code",
   "execution_count": 11,
   "id": "7fc06c87-c3e1-4d4d-a1f2-86492498acab",
   "metadata": {},
   "outputs": [
    {
     "data": {
      "text/plain": [
       "'brasília'"
      ]
     },
     "execution_count": 11,
     "metadata": {},
     "output_type": "execute_result"
    }
   ],
   "source": [
    "functions['PluginCapital_get_capital'](country=\"BRazil\")"
   ]
  },
  {
   "cell_type": "code",
   "execution_count": 9,
   "id": "4d509638-9ed5-43b4-b602-ec263dc98e7b",
   "metadata": {},
   "outputs": [],
   "source": []
  },
  {
   "cell_type": "code",
   "execution_count": 26,
   "id": "432055ed-4075-494a-a896-1743bf99bbde",
   "metadata": {},
   "outputs": [],
   "source": [
    "definitions = generate_definitions([(PluginCapital(), \"PluginCapital\")])\n"
   ]
  },
  {
   "cell_type": "code",
   "execution_count": 27,
   "id": "7357cca7-5e05-4a65-9243-ac4e9e68f978",
   "metadata": {},
   "outputs": [
    {
     "data": {
      "text/plain": [
       "[{'name': 'PluginCapital_get_capital',\n",
       "  'description': 'Returns the name of the capital of a country.',\n",
       "  'parameters': {'type': 'object',\n",
       "   'properties': {'country': {'type': 'string',\n",
       "     'description': 'Name of the country.',\n",
       "     'default': ''}},\n",
       "   'required': ['country']}},\n",
       " {'name': 'answer',\n",
       "  'description': \"Send response back to the user. Show all your results here, this is the only thing that the user will see. You won't be able to call any other function after this one. Be sure to return a complete and clear answer, the user will not be able to see any other intermediate messages nor ask for more information. Never mention intermediate messages or results; if you want to mention something, include it here. Call this function only once, with everything you want to show to the user.\",\n",
       "  'parameters': {'type': 'object',\n",
       "   'properties': {'text': {'type': 'string',\n",
       "     'description': 'final textual response to be send to the user. Should use HTML syntax for formatting.'}},\n",
       "   'required': ['text']}}]"
      ]
     },
     "execution_count": 27,
     "metadata": {},
     "output_type": "execute_result"
    }
   ],
   "source": [
    "definitions"
   ]
  },
  {
   "cell_type": "code",
   "execution_count": null,
   "id": "b09122ca-d90a-4842-b7c0-29d1f68a88c7",
   "metadata": {},
   "outputs": [],
   "source": [
    "tools = [\n",
    "    {\n",
    "        \"type\": \"function\",\n",
    "        \"function\": {\n",
    "            \"name\": \"get_delivery_date\",\n",
    "            \"description\": \"Get the delivery date for a customer's order. Call this whenever you need to know the delivery date, for example when a customer asks 'Where is my package'\",\n",
    "            \"parameters\": {\n",
    "                \"type\": \"object\",\n",
    "                \"properties\": {\n",
    "                    \"order_id\": {\n",
    "                        \"type\": \"string\",\n",
    "                        \"description\": \"The customer's order ID.\",\n",
    "                    },\n",
    "                },\n",
    "                \"required\": [\"order_id\"],\n",
    "                \"additionalProperties\": False,\n",
    "            },\n",
    "        }\n",
    "    }\n",
    "]\n"
   ]
  }
 ],
 "metadata": {
  "kernelspec": {
   "display_name": "Python 3 (ipykernel)",
   "language": "python",
   "name": "python3"
  },
  "language_info": {
   "codemirror_mode": {
    "name": "ipython",
    "version": 3
   },
   "file_extension": ".py",
   "mimetype": "text/x-python",
   "name": "python",
   "nbconvert_exporter": "python",
   "pygments_lexer": "ipython3",
   "version": "3.10.12"
  }
 },
 "nbformat": 4,
 "nbformat_minor": 5
}
