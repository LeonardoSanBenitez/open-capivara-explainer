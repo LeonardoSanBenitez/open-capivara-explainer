{
 "cells": [
  {
   "cell_type": "code",
   "execution_count": 2,
   "id": "85c07c9c-aef6-4d60-bf74-85aebb7a3ab5",
   "metadata": {},
   "outputs": [
    {
     "name": "stdout",
     "output_type": "stream",
     "text": [
      "brasília\n"
     ]
    }
   ],
   "source": [
    "import libs.plugin_converter.semantic_kernel_v0_to_openai_function as semantic_kernel_v0_to_openai_function\n",
    "import libs.plugin_converter.openai_function_to_tool as openai_function_to_tool\n",
    "from libs.plugins.plugin_capital import PluginCapital\n",
    "\n",
    "plugin = PluginCapital()\n",
    "print(plugin.get_capital(semantic_kernel_v0_to_openai_function.make_context({'country': 'Brazil'})))"
   ]
  },
  {
   "cell_type": "code",
   "execution_count": 3,
   "id": "aeba6fa6-0fbe-4c91-af75-b0d43635040a",
   "metadata": {},
   "outputs": [
    {
     "data": {
      "text/plain": [
       "'brasília'"
      ]
     },
     "execution_count": 3,
     "metadata": {},
     "output_type": "execute_result"
    }
   ],
   "source": [
    "functions = semantic_kernel_v0_to_openai_function.generate_callables([(PluginCapital(), \"PluginCapital\")])\n",
    "assert type(functions) == dict\n",
    "assert len(functions) == 1\n",
    "functions['PluginCapital_get_capital'](country=\"BRazil\")"
   ]
  },
  {
   "cell_type": "code",
   "execution_count": 4,
   "id": "432055ed-4075-494a-a896-1743bf99bbde",
   "metadata": {},
   "outputs": [
    {
     "data": {
      "text/plain": [
       "[DefinitionOpenaiFunction(name='PluginCapital_get_capital', description='Returns the name of the capital of a country.', parameters=ParametersOpenaiFunction(type='object', properties={'country': {'type': 'string', 'description': 'Name of the country.', 'default': ''}}, required=['country'], additionalProperties=False), strict=True),\n",
       " DefinitionOpenaiFunction(name='answer', description=\"Send response back to the user. Show all your results here, this is the only thing that the user will see. You won't be able to call any other function after this one. Be sure to return a complete and clear answer, the user will not be able to see any other intermediate messages nor ask for more information. Never mention intermediate messages or results; if you want to mention something, include it here. Call this function only once, with everything you want to show to the user.\", parameters=ParametersOpenaiFunction(type='object', properties={'text': {'type': 'string', 'description': 'final textual response to be send to the user. Should use HTML syntax for formatting.'}}, required=['text'], additionalProperties=False), strict=True)]"
      ]
     },
     "execution_count": 4,
     "metadata": {},
     "output_type": "execute_result"
    }
   ],
   "source": [
    "definitions = semantic_kernel_v0_to_openai_function.generate_definitions([(PluginCapital(), \"PluginCapital\")])\n",
    "definitions"
   ]
  },
  {
   "cell_type": "code",
   "execution_count": 5,
   "id": "1cc15862",
   "metadata": {},
   "outputs": [
    {
     "data": {
      "text/plain": [
       "[DefinitionOpenaiTool(type='function', function=DefinitionOpenaiFunction(name='PluginCapital_get_capital', description='Returns the name of the capital of a country.', parameters=ParametersOpenaiFunction(type='object', properties={'country': {'type': 'string', 'description': 'Name of the country.', 'default': ''}}, required=['country'], additionalProperties=False), strict=True)),\n",
       " DefinitionOpenaiTool(type='function', function=DefinitionOpenaiFunction(name='answer', description=\"Send response back to the user. Show all your results here, this is the only thing that the user will see. You won't be able to call any other function after this one. Be sure to return a complete and clear answer, the user will not be able to see any other intermediate messages nor ask for more information. Never mention intermediate messages or results; if you want to mention something, include it here. Call this function only once, with everything you want to show to the user.\", parameters=ParametersOpenaiFunction(type='object', properties={'text': {'type': 'string', 'description': 'final textual response to be send to the user. Should use HTML syntax for formatting.'}}, required=['text'], additionalProperties=False), strict=True))]"
      ]
     },
     "execution_count": 5,
     "metadata": {},
     "output_type": "execute_result"
    }
   ],
   "source": [
    "fs = semantic_kernel_v0_to_openai_function.generate_definitions([(PluginCapital(), \"PluginCapital\")])\n",
    "ts = openai_function_to_tool.generate_definitions(fs)\n",
    "ts"
   ]
  },
  {
   "cell_type": "code",
   "execution_count": 11,
   "id": "77e5affe",
   "metadata": {},
   "outputs": [
    {
     "data": {
      "text/plain": [
       "[{'name': 'answer',\n",
       "  'description': \"Send response back to the user. Show all your results here, this is the only thing that the user will see. You won't be able to call any other function after this one. Be sure to return a complete and clear answer, the user will not be able to see any other intermediate messages nor ask for more information. Never mention intermediate messages or results; if you want to mention something, include it here. Call this function only once, with everything you want to show to the user.\",\n",
       "  'parameters': {'type': 'object',\n",
       "   'properties': {'text': {'type': 'string',\n",
       "     'description': 'final textual response to be send to the user. Should use HTML syntax for formatting.'}},\n",
       "   'required': ['text']}}]"
      ]
     },
     "execution_count": 11,
     "metadata": {},
     "output_type": "execute_result"
    }
   ],
   "source": [
    "definitions"
   ]
  },
  {
   "cell_type": "code",
   "execution_count": 8,
   "id": "7357cca7-5e05-4a65-9243-ac4e9e68f978",
   "metadata": {},
   "outputs": [
    {
     "ename": "AttributeError",
     "evalue": "'dict' object has no attribute 'name'",
     "output_type": "error",
     "traceback": [
      "\u001b[0;31m---------------------------------------------------------------------------\u001b[0m",
      "\u001b[0;31mAttributeError\u001b[0m                            Traceback (most recent call last)",
      "Cell \u001b[0;32mIn[8], line 4\u001b[0m\n\u001b[1;32m      2\u001b[0m \u001b[38;5;28;01massert\u001b[39;00m \u001b[38;5;28mtype\u001b[39m(definitions) \u001b[38;5;241m==\u001b[39m \u001b[38;5;28mlist\u001b[39m\n\u001b[1;32m      3\u001b[0m \u001b[38;5;28;01massert\u001b[39;00m \u001b[38;5;28mlen\u001b[39m(definitions) \u001b[38;5;241m==\u001b[39m \u001b[38;5;241m1\u001b[39m\n\u001b[0;32m----> 4\u001b[0m \u001b[38;5;28;01massert\u001b[39;00m \u001b[38;5;124m'\u001b[39m\u001b[38;5;124manswer\u001b[39m\u001b[38;5;124m'\u001b[39m \u001b[38;5;129;01min\u001b[39;00m [d\u001b[38;5;241m.\u001b[39mname \u001b[38;5;28;01mfor\u001b[39;00m d \u001b[38;5;129;01min\u001b[39;00m definitions]\n",
      "Cell \u001b[0;32mIn[8], line 4\u001b[0m, in \u001b[0;36m<listcomp>\u001b[0;34m(.0)\u001b[0m\n\u001b[1;32m      2\u001b[0m \u001b[38;5;28;01massert\u001b[39;00m \u001b[38;5;28mtype\u001b[39m(definitions) \u001b[38;5;241m==\u001b[39m \u001b[38;5;28mlist\u001b[39m\n\u001b[1;32m      3\u001b[0m \u001b[38;5;28;01massert\u001b[39;00m \u001b[38;5;28mlen\u001b[39m(definitions) \u001b[38;5;241m==\u001b[39m \u001b[38;5;241m1\u001b[39m\n\u001b[0;32m----> 4\u001b[0m \u001b[38;5;28;01massert\u001b[39;00m \u001b[38;5;124m'\u001b[39m\u001b[38;5;124manswer\u001b[39m\u001b[38;5;124m'\u001b[39m \u001b[38;5;129;01min\u001b[39;00m [\u001b[43md\u001b[49m\u001b[38;5;241;43m.\u001b[39;49m\u001b[43mname\u001b[49m \u001b[38;5;28;01mfor\u001b[39;00m d \u001b[38;5;129;01min\u001b[39;00m definitions]\n",
      "\u001b[0;31mAttributeError\u001b[0m: 'dict' object has no attribute 'name'"
     ]
    }
   ],
   "source": [
    "definitions = generate_definitions([])\n",
    "assert type(definitions) == list\n",
    "assert len(definitions) == 1\n",
    "assert 'answer' in [d.name for d in definitions]"
   ]
  },
  {
   "cell_type": "code",
   "execution_count": null,
   "id": "b09122ca-d90a-4842-b7c0-29d1f68a88c7",
   "metadata": {},
   "outputs": [],
   "source": [
    "tools = [\n",
    "    {\n",
    "        \"type\": \"function\",\n",
    "        \"function\": {\n",
    "            \"name\": \"get_delivery_date\",\n",
    "            \"description\": \"Get the delivery date for a customer's order. Call this whenever you need to know the delivery date, for example when a customer asks 'Where is my package'\",\n",
    "            \"parameters\": {\n",
    "                \"type\": \"object\",\n",
    "                \"properties\": {\n",
    "                    \"order_id\": {\n",
    "                        \"type\": \"string\",\n",
    "                        \"description\": \"The customer's order ID.\",\n",
    "                    },\n",
    "                },\n",
    "                \"required\": [\"order_id\"],\n",
    "                \"additionalProperties\": False,\n",
    "            },\n",
    "        }\n",
    "    }\n",
    "]\n"
   ]
  },
  {
   "cell_type": "code",
   "execution_count": null,
   "id": "f2bfdd6e",
   "metadata": {},
   "outputs": [],
   "source": []
  },
  {
   "cell_type": "code",
   "execution_count": null,
   "id": "7bab9838",
   "metadata": {},
   "outputs": [],
   "source": []
  },
  {
   "cell_type": "code",
   "execution_count": null,
   "id": "df2406e2",
   "metadata": {},
   "outputs": [],
   "source": []
  },
  {
   "cell_type": "code",
   "execution_count": 4,
   "id": "cd4cef70",
   "metadata": {},
   "outputs": [],
   "source": [
    "from pydantic import BaseModel\n",
    "from typing import List\n",
    "class ParametersOpenaiFunction(BaseModel):\n",
    "    type: str\n",
    "    properties: dict\n",
    "    required: List[str]\n",
    "\n",
    "class DefinitionOpenaiFunction(BaseModel):\n",
    "    name: str\n",
    "    description: str\n",
    "    parameters: ParametersOpenaiFunction\n",
    "answer_definition_text = DefinitionOpenaiFunction(**{\n",
    "    \"name\": \"answer\",\n",
    "    \"description\": \"Send response back to the user. Show all your results here, this is the only thing that the user will see.\"\n",
    "                   \" You won't be able to call any other function after this one.\"\n",
    "                   \" Be sure to return a complete and clear answer, the user will not be able to see any other intermediate messages nor ask for more information.\"\n",
    "                   \" Never mention intermediate messages or results; if you want to mention something, include it here.\"\n",
    "                   \" Call this function only once, with everything you want to show to the user.\",\n",
    "    \"parameters\": {\n",
    "        \"type\": \"object\",\n",
    "        \"properties\": {\n",
    "            \"text\": {\n",
    "                \"type\": \"string\",\n",
    "                \"description\": \"final textual response to be send to the user. Should use HTML syntax for formatting.\",\n",
    "            }\n",
    "        },\n",
    "        \"required\": [\"text\"],\n",
    "    },\n",
    "})"
   ]
  },
  {
   "cell_type": "code",
   "execution_count": 5,
   "id": "4a23fc69",
   "metadata": {},
   "outputs": [
    {
     "name": "stdout",
     "output_type": "stream",
     "text": [
      "3.10.12 (main, Jul 29 2024, 16:56:48) [GCC 11.4.0]\n"
     ]
    }
   ],
   "source": [
    "# show pytohn version\n",
    "import sys\n",
    "print(sys.version)\n"
   ]
  }
 ],
 "metadata": {
  "kernelspec": {
   "display_name": "Python 3 (ipykernel)",
   "language": "python",
   "name": "python3"
  },
  "language_info": {
   "codemirror_mode": {
    "name": "ipython",
    "version": 3
   },
   "file_extension": ".py",
   "mimetype": "text/x-python",
   "name": "python",
   "nbconvert_exporter": "python",
   "pygments_lexer": "ipython3",
   "version": "3.10.12"
  }
 },
 "nbformat": 4,
 "nbformat_minor": 5
}
