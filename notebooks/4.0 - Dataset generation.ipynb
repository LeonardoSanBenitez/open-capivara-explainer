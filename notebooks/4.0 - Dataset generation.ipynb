{
 "cells": [
  {
   "cell_type": "code",
   "execution_count": 1,
   "metadata": {},
   "outputs": [
    {
     "name": "stdout",
     "output_type": "stream",
     "text": [
      "/src/notebooks\n"
     ]
    }
   ],
   "source": [
    "%cd /src/notebooks"
   ]
  },
  {
   "cell_type": "code",
   "execution_count": null,
   "metadata": {},
   "outputs": [],
   "source": [
    "!pip install dfs~=2.20 huggingface_hub~=0.24 pyarrow~=17.0\n",
    " "
   ]
  },
  {
   "cell_type": "code",
   "execution_count": 2,
   "metadata": {},
   "outputs": [
    {
     "data": {
      "text/plain": [
       "True"
      ]
     },
     "execution_count": 2,
     "metadata": {},
     "output_type": "execute_result"
    }
   ],
   "source": [
    "import dotenv\n",
    "dotenv.load_dotenv()"
   ]
  },
  {
   "cell_type": "code",
   "execution_count": 5,
   "metadata": {},
   "outputs": [
    {
     "name": "stderr",
     "output_type": "stream",
     "text": [
      "No files have been modified since last commit. Skipping to prevent empty commit.\n"
     ]
    },
    {
     "name": "stdout",
     "output_type": "stream",
     "text": [
      "[2024-08-13 15:27:47 +0000] libs.libs.dataset_generator INFO     Uploaded train with 16 rows\n"
     ]
    },
    {
     "name": "stderr",
     "output_type": "stream",
     "text": [
      "No files have been modified since last commit. Skipping to prevent empty commit.\n"
     ]
    },
    {
     "name": "stdout",
     "output_type": "stream",
     "text": [
      "[2024-08-13 15:27:48 +0000] libs.libs.dataset_generator INFO     Uploaded validation with 2 rows\n"
     ]
    },
    {
     "name": "stderr",
     "output_type": "stream",
     "text": [
      "No files have been modified since last commit. Skipping to prevent empty commit.\n"
     ]
    },
    {
     "name": "stdout",
     "output_type": "stream",
     "text": [
      "[2024-08-13 15:27:48 +0000] libs.libs.dataset_generator INFO     Uploaded test with 2 rows\n"
     ]
    }
   ],
   "source": [
    "import pandas as pd\n",
    "import json\n",
    "from typing import Tuple, Literal, List\n",
    "from pydantic import BaseModel\n",
    "from libs.utils.logger import get_logger\n",
    "import pandas as pd\n",
    "import os\n",
    "\n",
    "from libs.utils.connector_llm import ChatCompletionMessage\n",
    "from libs.dataset_generator.exporter import DatasetExporterHuggingFace, DatasetExporterLocal\n",
    "\n",
    "\n",
    "logger = get_logger('libs.dataset_generator')\n",
    "\n",
    "\n",
    "\n",
    "\n",
    "def gen_dataset() -> List[List[ChatCompletionMessage]]:\n",
    "    '''\n",
    "    return a dataset\n",
    "    Each item in the outer list represents a row\n",
    "    Each row represents a sequence of messages\n",
    "    \n",
    "    It will become a hugingface dataset... but it's not one... so maybe I should use another name\n",
    "    '''\n",
    "    rows = [\n",
    "        [\n",
    "            ChatCompletionMessage(role='user', content='What is the capital of france?'),\n",
    "            ChatCompletionMessage(role='assistant', content='{\"thought\": \"I need to retrieve the capital of France.\", \"action_name\": \"PluginCapital_get_capital\", \"args\": {\"country\": \"France\"}}'),\n",
    "        ],\n",
    "        [\n",
    "            ChatCompletionMessage(role='user', content='Hello'),\n",
    "            ChatCompletionMessage(role='assistant', content='{\"thought\": \"The task is complete\", \"action_name\": \"answer\", \"args\": {\"text\": \"Hi, how are you doing?\"}}'),\n",
    "        ],\n",
    "    ]\n",
    "    rows = rows * 10\n",
    "    return rows\n",
    "\n",
    "\n",
    "dataset = gen_dataset()\n",
    "await DatasetExporterHuggingFace(\n",
    "    dataset=dataset,\n",
    "    repo_id = \"LeonardoBenitez/capivara-plugin-orchestration\",\n",
    "    dataset_config='plugins_capital_v1.0',\n",
    ").export()\n",
    "#await DatasetExporterLocal(\n",
    "#    dataset=dataset,\n",
    "#    path_local_base = '/src/data/plugins_capital_v1.0',\n",
    "#).export()"
   ]
  },
  {
   "cell_type": "code",
   "execution_count": null,
   "metadata": {},
   "outputs": [],
   "source": [
    "# test\n",
    "from datasets import load_dataset\n",
    "\n",
    "ds = load_dataset(\"LeonardoBenitez/capivara-plugin-orchestration\", 'plugins_capital_v1.0')"
   ]
  },
  {
   "cell_type": "code",
   "execution_count": null,
   "metadata": {},
   "outputs": [],
   "source": [
    "ds['train'].to_pandas()"
   ]
  },
  {
   "cell_type": "code",
   "execution_count": null,
   "metadata": {},
   "outputs": [],
   "source": [
    "ds"
   ]
  }
 ],
 "metadata": {
  "kernelspec": {
   "display_name": "Python 3 (ipykernel)",
   "language": "python",
   "name": "python3"
  },
  "language_info": {
   "codemirror_mode": {
    "name": "ipython",
    "version": 3
   },
   "file_extension": ".py",
   "mimetype": "text/x-python",
   "name": "python",
   "nbconvert_exporter": "python",
   "pygments_lexer": "ipython3",
   "version": "3.10.12"
  }
 },
 "nbformat": 4,
 "nbformat_minor": 2
}
