{
 "cells": [
  {
   "cell_type": "code",
   "execution_count": 1,
   "metadata": {},
   "outputs": [],
   "source": [
    "import requests\n",
    "import openai\n",
    "import torch\n",
    "from transformers import pipeline\n",
    "import libs"
   ]
  },
  {
   "cell_type": "code",
   "execution_count": 2,
   "metadata": {},
   "outputs": [
    {
     "name": "stdout",
     "output_type": "stream",
     "text": [
      "Hello my capivaras!\n"
     ]
    }
   ],
   "source": [
    "libs.print_hello()"
   ]
  },
  {
   "cell_type": "code",
   "execution_count": 3,
   "metadata": {},
   "outputs": [],
   "source": [
    "#'''\n",
    "messages = [\n",
    "    {\n",
    "        \"role\": \"system\",\n",
    "        \"content\": \"You are a friendly chatbot who always responds with jokes\",\n",
    "    },\n",
    "    {\n",
    "        \"role\": \"user\",\n",
    "        \"content\": \"How many helicopters can a human eat in one sitting? Tell me an small story about it\",\n",
    "    },\n",
    "]\n",
    "#''';\n",
    "\n",
    "\"\"\"\n",
    "messages = [\n",
    "    {\n",
    "        \"role\": \"system\",\n",
    "        \"content\": '''You are allowed to call the following function:\n",
    "1. PluginCapital_get_capital: Returns the name of the capital of a country..\n",
    "  Arguments: country (Name of the country. Type: string. Required: yes)\n",
    "2. answer: Send response back to the user. Show all your results here, this is the only thing that the user will see. You won't be able to call any other function after this one. Be sure to return a complete and clear answer, the user will not be able to see any other intermediate messages nor ask for more information. Never mention intermediate messages or results; if you want to mention something, include it here. Call this function only once, with everything you want to show to the user..\n",
    "  Arguments: text (final textual response to be send to the user. Should use HTML syntax for formatting. Type: string. Required: yes)\n",
    "</s>''',\n",
    "    },\n",
    "    {\n",
    "        \"role\": \"user\",\n",
    "        \"content\": \"What is the capital of France?\",# Answer only with a JSON calling the fucntion PluginCapital_get_capital, nothing else\",\n",
    "        #\"content\": \"What is the capital of France? Answer only with a JSON calling the fucntion PluginCapital_get_capital, nothing else\",\n",
    "        #\"content\": \"Hi\",\n",
    "    },\n",
    "]\n",
    "\"\"\";"
   ]
  },
  {
   "cell_type": "markdown",
   "metadata": {},
   "source": [
    "# Test TinyLlama"
   ]
  },
  {
   "cell_type": "code",
   "execution_count": null,
   "metadata": {},
   "outputs": [],
   "source": [
    "pipe = pipeline(\"text-generation\", model=\"TinyLlama/TinyLlama-1.1B-Chat-v1.0\", torch_dtype=torch.bfloat16, device_map=\"auto\")\n",
    "prompt = pipe.tokenizer.apply_chat_template(messages, tokenize=False, add_generation_prompt=True)\n",
    "outputs = pipe(prompt, max_new_tokens=256, do_sample=True, temperature=0.7, top_k=50, top_p=0.95)\n",
    "print(outputs[0][\"generated_text\"])\n",
    "# <|system|>\n",
    "# You are a friendly chatbot who always responds in the style of a pirate.</s>\n",
    "# <|user|>\n",
    "# How many helicopters can a human eat in one sitting?</s>\n",
    "# <|assistant|>\n",
    "# ..."
   ]
  },
  {
   "cell_type": "markdown",
   "metadata": {},
   "source": [
    "# Test TinyLlama over LlamaCpp"
   ]
  },
  {
   "cell_type": "code",
   "execution_count": 4,
   "metadata": {},
   "outputs": [
    {
     "data": {
      "text/plain": [
       "<Response [200]>"
      ]
     },
     "execution_count": 4,
     "metadata": {},
     "output_type": "execute_result"
    }
   ],
   "source": [
    "response = requests.get(url='http://llm-server:8080/health')\n",
    "response"
   ]
  },
  {
   "cell_type": "code",
   "execution_count": null,
   "metadata": {},
   "outputs": [],
   "source": [
    "# Not-streaming, chat completion, http client\n",
    "response = requests.post(\n",
    "    url='http://llm-server:8080/v1/chat/completions',\n",
    "    headers={'Content-Type': 'application/json'},\n",
    "    json={'messages': messages},\n",
    ")\n",
    "response.json()"
   ]
  },
  {
   "cell_type": "code",
   "execution_count": 16,
   "metadata": {},
   "outputs": [
    {
     "name": "stdout",
     "output_type": "stream",
     "text": [
      "b'data: {\"choices\":[{\"finis'b'THoCMbuyTHBptOZv\",\"model\"'b'data: {\"choices\":[{\"finis'b'DYlTHoCMbuyTHBptOZv\",\"mod'b'data: {\"choices\":[{\"finis'b'THoCMbuyTHBptOZv\",\"model\"'b'data: {\"choices\":[{\"finis'b'THoCMbuyTHBptOZv\",\"model\"'b'data: {\"choices\":[{\"finis'b'mDYlTHoCMbuyTHBptOZv\",\"mo'b'data: {\"choices\":[{\"finis'b'DYlTHoCMbuyTHBptOZv\",\"mod'b'data: {\"choices\":[{\"finis'b'DYlTHoCMbuyTHBptOZv\",\"mod'b'data: {\"choices\":[{\"finis'b'gumDYlTHoCMbuyTHBptOZv\",\"'b'data: {\"choices\":[{\"finis'b'YlTHoCMbuyTHBptOZv\",\"mode'b'data: {\"choices\":[{\"finis'b'DYlTHoCMbuyTHBptOZv\",\"mod'b'data: {\"choices\":[{\"finis'b'YlTHoCMbuyTHBptOZv\",\"mode'b'data: {\"choices\":[{\"finis'b'glttgumDYlTHoCMbuyTHBptOZ'b'data: {\"choices\":[{\"finis'b'umDYlTHoCMbuyTHBptOZv\",\"m'b'data: {\"choices\":[{\"finis'b'tgumDYlTHoCMbuyTHBptOZv\",'b'data: {\"choices\":[{\"finis'b'THoCMbuyTHBptOZv\",\"model\"'b'data: {\"choices\":[{\"finis'b'tgumDYlTHoCMbuyTHBptOZv\",'b'data: {\"choices\":[{\"finis'b'THoCMbuyTHBptOZv\",\"model\"'b'data: {\"choices\":[{\"finis'b'lTHoCMbuyTHBptOZv\",\"model'b'data: {\"choices\":[{\"finis'b'DYlTHoCMbuyTHBptOZv\",\"mod'b'data: {\"choices\":[{\"finis'b'tgumDYlTHoCMbuyTHBptOZv\",'b'data: {\"choices\":[{\"finis'b'DYlTHoCMbuyTHBptOZv\",\"mod'b'data: {\"choices\":[{\"finis'b'mDYlTHoCMbuyTHBptOZv\",\"mo'b'data: {\"choices\":[{\"finis'b'lTHoCMbuyTHBptOZv\",\"model'b'data: {\"choices\":[{\"finis'b'ttgumDYlTHoCMbuyTHBptOZv\"'b'data: {\"choices\":[{\"finis'b'umDYlTHoCMbuyTHBptOZv\",\"m'b'data: {\"choices\":[{\"finis'b'YlTHoCMbuyTHBptOZv\",\"mode'b'data: {\"choices\":[{\"finis'b'DYlTHoCMbuyTHBptOZv\",\"mod'b'data: {\"choices\":[{\"finis'b'umDYlTHoCMbuyTHBptOZv\",\"m'b'data: {\"choices\":[{\"finis'b'mDYlTHoCMbuyTHBptOZv\",\"mo'b'data: {\"choices\":[{\"finis'b'ttgumDYlTHoCMbuyTHBptOZv\"'b'data: {\"choices\":[{\"finis'b'THoCMbuyTHBptOZv\",\"model\"'b'data: {\"choices\":[{\"finis'b'lTHoCMbuyTHBptOZv\",\"model'b'data: {\"choices\":[{\"finis'b'lTHoCMbuyTHBptOZv\",\"model'b'data: {\"choices\":[{\"finis'b'THoCMbuyTHBptOZv\",\"model\"'b'data: {\"choices\":[{\"finis'b'umDYlTHoCMbuyTHBptOZv\",\"m'b'data: {\"choices\":[{\"finis'b'DYlTHoCMbuyTHBptOZv\",\"mod'b'data: {\"choices\":[{\"finis'b'DYlTHoCMbuyTHBptOZv\",\"mod'b'data: {\"choices\":[{\"finis'b'lTHoCMbuyTHBptOZv\",\"model'b'data: {\"choices\":[{\"finis'b'umDYlTHoCMbuyTHBptOZv\",\"m'b'data: {\"choices\":[{\"finis'b'gumDYlTHoCMbuyTHBptOZv\",\"'b'data: {\"choices\":[{\"finis'b'YlTHoCMbuyTHBptOZv\",\"mode'b'data: {\"choices\":[{\"finis'b'DYlTHoCMbuyTHBptOZv\",\"mod'b'data: {\"choices\":[{\"finis'b'YlTHoCMbuyTHBptOZv\",\"mode'b'data: {\"choices\":[{\"finis'b'lTHoCMbuyTHBptOZv\",\"model'b'data: {\"choices\":[{\"finis'b'YlTHoCMbuyTHBptOZv\",\"mode'b'data: {\"choices\":[{\"finis'b'YlTHoCMbuyTHBptOZv\",\"mode'b'data: {\"choices\":[{\"finis'b'lTHoCMbuyTHBptOZv\",\"model'b'data: {\"choices\":[{\"finis'b'tgumDYlTHoCMbuyTHBptOZv\",'b'data: {\"choices\":[{\"finis'b'THoCMbuyTHBptOZv\",\"model\"'b'data: {\"choices\":[{\"finis'b'DYlTHoCMbuyTHBptOZv\",\"mod'b'data: {\"choices\":[{\"finis'b'YlTHoCMbuyTHBptOZv\",\"mode'b'data: {\"choices\":[{\"finis'b'YlTHoCMbuyTHBptOZv\",\"mode'b'data: {\"choices\":[{\"finis'b'ttgumDYlTHoCMbuyTHBptOZv\"'b'data: {\"choices\":[{\"finis'b'mDYlTHoCMbuyTHBptOZv\",\"mo'b'data: {\"choices\":[{\"finis'b'mDYlTHoCMbuyTHBptOZv\",\"mo'b'data: {\"choices\":[{\"finis'b'DYlTHoCMbuyTHBptOZv\",\"mod'b'data: {\"choices\":[{\"finis'b'tgumDYlTHoCMbuyTHBptOZv\",'b'data: {\"choices\":[{\"finis'b'mDYlTHoCMbuyTHBptOZv\",\"mo'b'data: {\"choices\":[{\"finis'b'mDYlTHoCMbuyTHBptOZv\",\"mo'b'data: {\"choices\":[{\"finis'b'DYlTHoCMbuyTHBptOZv\",\"mod'b'data: {\"choices\":[{\"finis'b'YlTHoCMbuyTHBptOZv\",\"mode'b'data: {\"choices\":[{\"finis'b'lTHoCMbuyTHBptOZv\",\"model'b'data: {\"choices\":[{\"finis'b'mDYlTHoCMbuyTHBptOZv\",\"mo'b'data: {\"choices\":[{\"finis'b'THoCMbuyTHBptOZv\",\"model\"'b'data: {\"choices\":[{\"finis'b'DYlTHoCMbuyTHBptOZv\",\"mod'b'data: {\"choices\":[{\"finis'b'gumDYlTHoCMbuyTHBptOZv\",\"'b'data: {\"choices\":[{\"finis'b'DYlTHoCMbuyTHBptOZv\",\"mod'b'data: {\"choices\":[{\"finis'b'mDYlTHoCMbuyTHBptOZv\",\"mo'b'data: {\"choices\":[{\"finis'b'YlTHoCMbuyTHBptOZv\",\"mode'b'data: {\"choices\":[{\"finis'b'mDYlTHoCMbuyTHBptOZv\",\"mo'b'data: {\"choices\":[{\"finis'b'DYlTHoCMbuyTHBptOZv\",\"mod'b'data: {\"choices\":[{\"finis'b'YlTHoCMbuyTHBptOZv\",\"mode'b'data: {\"choices\":[{\"finis'b'lTHoCMbuyTHBptOZv\",\"model'b'data: {\"choices\":[{\"finis'b'YlTHoCMbuyTHBptOZv\",\"mode'b'data: {\"choices\":[{\"finis'b'DYlTHoCMbuyTHBptOZv\",\"mod'b'data: {\"choices\":[{\"finis'b'DYlTHoCMbuyTHBptOZv\",\"mod'b'data: {\"choices\":[{\"finis'b'umDYlTHoCMbuyTHBptOZv\",\"m'b'data: {\"choices\":[{\"finis'b'DYlTHoCMbuyTHBptOZv\",\"mod'b'data: {\"choices\":[{\"finis'b'umDYlTHoCMbuyTHBptOZv\",\"m'b'data: {\"choices\":[{\"finis'b'umDYlTHoCMbuyTHBptOZv\",\"m'b'data: {\"choices\":[{\"finis'b'DYlTHoCMbuyTHBptOZv\",\"mod'b'data: {\"choices\":[{\"finis'b'umDYlTHoCMbuyTHBptOZv\",\"m'b'data: {\"choices\":[{\"finis'b'THoCMbuyTHBptOZv\",\"model\"'b'data: {\"choices\":[{\"finis'b'gumDYlTHoCMbuyTHBptOZv\",\"'b'data: {\"choices\":[{\"finis'b'mDYlTHoCMbuyTHBptOZv\",\"mo'b'data: {\"choices\":[{\"finis'b'lttgumDYlTHoCMbuyTHBptOZv'b'data: {\"choices\":[{\"finis'b'YlTHoCMbuyTHBptOZv\",\"mode'b'data: {\"choices\":[{\"finis'b'tgumDYlTHoCMbuyTHBptOZv\",'b'data: {\"choices\":[{\"finis'b'YlTHoCMbuyTHBptOZv\",\"mode'b'data: {\"choices\":[{\"finis'b'umDYlTHoCMbuyTHBptOZv\",\"m'b'data: {\"choices\":[{\"finis'b'glttgumDYlTHoCMbuyTHBptOZ'b'data: {\"choices\":[{\"finis'b'THoCMbuyTHBptOZv\",\"model\"'b'data: {\"choices\":[{\"finis'b'YlTHoCMbuyTHBptOZv\",\"mode'b'data: {\"choices\":[{\"finis'b'lTHoCMbuyTHBptOZv\",\"model'b'data: {\"choices\":[{\"finis'b'umDYlTHoCMbuyTHBptOZv\",\"m'b'data: {\"choices\":[{\"finis'b'mDYlTHoCMbuyTHBptOZv\",\"mo'b'data: {\"choices\":[{\"finis'b'YlTHoCMbuyTHBptOZv\",\"mode'b'data: {\"choices\":[{\"finis'b'DYlTHoCMbuyTHBptOZv\",\"mod'b'data: {\"choices\":[{\"finis'b'DYlTHoCMbuyTHBptOZv\",\"mod'b'data: {\"choices\":[{\"finis'b'DYlTHoCMbuyTHBptOZv\",\"mod'b'data: {\"choices\":[{\"finis'b'YlTHoCMbuyTHBptOZv\",\"mode'b'data: {\"choices\":[{\"finis'b'lTHoCMbuyTHBptOZv\",\"model'b'data: {\"choices\":[{\"finis'b'YlTHoCMbuyTHBptOZv\",\"mode'b'data: {\"choices\":[{\"finis'b'YlTHoCMbuyTHBptOZv\",\"mode'b'data: {\"choices\":[{\"finis'b'DYlTHoCMbuyTHBptOZv\",\"mod'b'data: {\"choices\":[{\"finis'b'tgumDYlTHoCMbuyTHBptOZv\",'b'data: {\"choices\":[{\"finis'b'THoCMbuyTHBptOZv\",\"model\"'b'data: {\"choices\":[{\"finis'b'YlTHoCMbuyTHBptOZv\",\"mode'b'data: {\"choices\":[{\"finis'b'umDYlTHoCMbuyTHBptOZv\",\"m'b'data: {\"choices\":[{\"finis'b'gumDYlTHoCMbuyTHBptOZv\",\"'b'data: {\"choices\":[{\"finis'b'gumDYlTHoCMbuyTHBptOZv\",\"'b'data: {\"choices\":[{\"finis'b'YlTHoCMbuyTHBptOZv\",\"mode'b'data: {\"choices\":[{\"finis'b'lTHoCMbuyTHBptOZv\",\"model'b'data: {\"choices\":[{\"finis'b'mDYlTHoCMbuyTHBptOZv\",\"mo'b'data: {\"choices\":[{\"finis'b'YlTHoCMbuyTHBptOZv\",\"mode'b'data: {\"choices\":[{\"finis'b'YlTHoCMbuyTHBptOZv\",\"mode'b'data: {\"choices\":[{\"finis'b'DYlTHoCMbuyTHBptOZv\",\"mod'b'data: {\"choices\":[{\"finis'b'mDYlTHoCMbuyTHBptOZv\",\"mo'b'data: {\"choices\":[{\"finis'b'DYlTHoCMbuyTHBptOZv\",\"mod'b'data: {\"choices\":[{\"finis'b'DYlTHoCMbuyTHBptOZv\",\"mod'b'data: {\"choices\":[{\"finis'b'THoCMbuyTHBptOZv\",\"model\"'b'data: {\"choices\":[{\"finis'b'lTHoCMbuyTHBptOZv\",\"model'b'data: {\"choices\":[{\"finis'b'DYlTHoCMbuyTHBptOZv\",\"mod'b'data: {\"choices\":[{\"finis'b'mDYlTHoCMbuyTHBptOZv\",\"mo'b'data: {\"choices\":[{\"finis'b'THoCMbuyTHBptOZv\",\"model\"'b'data: {\"choices\":[{\"finis'b'ptOZv\",\"model\":\"gpt-3.5-t'b'tokens\":196}}\\n\\n'"
     ]
    }
   ],
   "source": [
    "# Streaming, chat completion, http client\n",
    "response = requests.post(\n",
    "    url='http://llm-server:8080/v1/chat/completions',\n",
    "    headers={'Content-Type': 'application/json'},\n",
    "    json={'messages': messages, 'stream': True},\n",
    "    stream=True,\n",
    ")\n",
    "for chunk in response:\n",
    "    print(chunk[:25], end='')\n",
    "    #print('---------')"
   ]
  },
  {
   "cell_type": "code",
   "execution_count": 5,
   "metadata": {},
   "outputs": [],
   "source": [
    "client = openai.OpenAI(\n",
    "    base_url=\"http://llm-server:8080/v1\",\n",
    "    api_key = \"not-needed\"\n",
    ")"
   ]
  },
  {
   "cell_type": "code",
   "execution_count": null,
   "metadata": {},
   "outputs": [],
   "source": [
    "# Not-streaming, text completion, openai client\n",
    "completion = client.completions.create(\n",
    "    model=\"not-needed\",\n",
    "    prompt='The capital of france is',\n",
    "    max_tokens = 5,\n",
    ")\n",
    "print(type(completion))\n",
    "print(completion.content)"
   ]
  },
  {
   "cell_type": "code",
   "execution_count": 8,
   "metadata": {},
   "outputs": [
    {
     "name": "stdout",
     "output_type": "stream",
     "text": [
      "ChatCompletionMessage(content='The answer is: 1 helicopter.', refusal=None, role='assistant', function_call=None, tool_calls=None)\n"
     ]
    }
   ],
   "source": [
    "# Not-streaming, chat completion, openai client\n",
    "completion = client.chat.completions.create(\n",
    "    model=\"not-needed\",\n",
    "    messages=messages,\n",
    ")\n",
    "\n",
    "print(completion.choices[0].message)"
   ]
  },
  {
   "cell_type": "code",
   "execution_count": 7,
   "metadata": {},
   "outputs": [],
   "source": [
    "#completion.dict()"
   ]
  },
  {
   "cell_type": "code",
   "execution_count": null,
   "metadata": {},
   "outputs": [],
   "source": [
    "# Streaming, text completion, openai client\n",
    "completion = client.completions.create(\n",
    "    model=\"not-needed\",\n",
    "    prompt='The capital of france is',\n",
    "    max_tokens = 5,\n",
    "    stream=True,\n",
    ")\n",
    "for chunk in completion:\n",
    "    print(chunk.content, end='')"
   ]
  },
  {
   "cell_type": "code",
   "execution_count": 12,
   "metadata": {},
   "outputs": [
    {
     "name": "stdout",
     "output_type": "stream",
     "text": [
      "A human can eat approximately 10 to 15 helicopters in one sitting. Helicopters are the popular snacks in certain cultures."
     ]
    }
   ],
   "source": [
    "# Streaming, chat completion, openai client\n",
    "completion = client.chat.completions.create(\n",
    "    model=\"not-needed\",\n",
    "    messages=messages,\n",
    "    stream=True,\n",
    ")\n",
    "\n",
    "for chunk in completion:\n",
    "    #print(chunk)\n",
    "    print(chunk.choices[0].delta.content or '', end='')\n",
    "    #print(\"****************\")"
   ]
  },
  {
   "cell_type": "markdown",
   "metadata": {},
   "source": [
    "# Test TinyLlama over LlamaCpp over proxy"
   ]
  },
  {
   "cell_type": "code",
   "execution_count": 4,
   "metadata": {},
   "outputs": [
    {
     "data": {
      "text/plain": [
       "<Response [200]>"
      ]
     },
     "execution_count": 4,
     "metadata": {},
     "output_type": "execute_result"
    }
   ],
   "source": [
    "requests.get('http://orchestrator-proxy:80/docs')"
   ]
  },
  {
   "cell_type": "code",
   "execution_count": 11,
   "metadata": {},
   "outputs": [],
   "source": [
    "import json"
   ]
  },
  {
   "cell_type": "code",
   "execution_count": 19,
   "metadata": {},
   "outputs": [
    {
     "name": "stdout",
     "output_type": "stream",
     "text": [
      "{'answer': 'I have placed an order for ', 'citations': None, 'visualizations': None, 'intermediate_results': None}\n",
      "{'answer': '100 units of the \"Untersuchungshandschuhe Nitril light lemon Gr. M\" glove model', 'citations': None, 'visualizations': None, 'intermediate_results': None}\n",
      "{'answer': ', as requested. Additionally, I have closed the ticket regarding the defective product.', 'citations': None, 'visualizations': None, 'intermediate_results': None}\n",
      "{'answer': ' Is there anything else I can assist you with?', 'citations': None, 'visualizations': None, 'intermediate_results': None}\n"
     ]
    }
   ],
   "source": [
    "response = requests.post(\n",
    "    url='http://orchestrator-proxy:80/v1/chat/completions',\n",
    "    stream=True,\n",
    ")\n",
    "buffer = \"\"\n",
    "for chunk in response:\n",
    "    if chunk:\n",
    "        buffer += chunk.decode('utf-8')\n",
    "        #print('buffer is now:', buffer)\n",
    "        try:\n",
    "            # Try to load the JSON object\n",
    "            json_obj = json.loads(buffer)\n",
    "            print(json_obj)\n",
    "            buffer = \"\"\n",
    "        except json.JSONDecodeError:\n",
    "            # If JSONDecodeError is raised, wait for more data\n",
    "            continue"
   ]
  },
  {
   "cell_type": "code",
   "execution_count": 14,
   "metadata": {},
   "outputs": [
    {
     "data": {
      "text/plain": [
       "'{\"answer\":\"I have placed an order for \",\"citations\":null,\"visualizations\":null,\"intermediate_results\":null}{\"answer\":\"100 units of the \\\\\"Untersuchungshandschuhe Nitril light lemon Gr. M\\\\\" glove model\",\"citations\":null,\"visualizations\":null,\"intermediate_results\":null}{\"answer\":\", as requested. Additionally, I have closed the ticket regarding the defective product.\",\"citations\":null,\"visualizations\":null,\"intermediate_results\":null}{\"answer\":\" Is there anything else I can assist you with?\",\"citations\":null,\"visualizations\":null,\"intermediate_results\":null}'"
      ]
     },
     "execution_count": 14,
     "metadata": {},
     "output_type": "execute_result"
    }
   ],
   "source": [
    "buffer"
   ]
  },
  {
   "cell_type": "code",
   "execution_count": 16,
   "metadata": {},
   "outputs": [
    {
     "data": {
      "text/plain": [
       "{'answer': 'I have placed an order for ',\n",
       " 'citations': None,\n",
       " 'visualizations': None,\n",
       " 'intermediate_results': None}"
      ]
     },
     "execution_count": 16,
     "metadata": {},
     "output_type": "execute_result"
    }
   ],
   "source": [
    "json.loads('''{\"answer\":\"I have placed an order for \",\"citations\":null,\"visualizations\":null,\"intermediate_results\":null}''')"
   ]
  },
  {
   "cell_type": "code",
   "execution_count": null,
   "metadata": {},
   "outputs": [],
   "source": []
  },
  {
   "cell_type": "code",
   "execution_count": null,
   "metadata": {},
   "outputs": [],
   "source": []
  },
  {
   "cell_type": "code",
   "execution_count": 9,
   "metadata": {},
   "outputs": [
    {
     "name": "stdout",
     "output_type": "stream",
     "text": [
      "b'{\"answer\":\"I have placed '\n",
      "---------\n",
      "b'{\"answer\":\"100 units of t'\n",
      "---------\n",
      "b'null,\"intermediate_result'\n",
      "---------\n",
      "b'{\"answer\":\", as requested'\n",
      "---------\n",
      "b'ions\":null,\"intermediate_'\n",
      "---------\n",
      "b'{\"answer\":\" Is there anyt'\n",
      "---------\n"
     ]
    }
   ],
   "source": [
    "# Streaming, chat completion, http client\n",
    "# Works, but return all at once\n",
    "response = requests.post(\n",
    "    url='http://orchestrator-proxy:80/v1/chat/completions',\n",
    "    headers={'Content-Type': 'application/json', 'Authorization': 'not-needed'},\n",
    "    json={'messages': messages, 'stream': True},\n",
    "    stream=True,\n",
    ")\n",
    "chunks = []\n",
    "for chunk in response:\n",
    "    print(chunk[:25], end='')\n",
    "    print('\\n---------')\n",
    "    chunks.append(chunk)"
   ]
  },
  {
   "cell_type": "code",
   "execution_count": 13,
   "metadata": {},
   "outputs": [
    {
     "data": {
      "text/plain": [
       "[b'{\"answer\":\"I have placed an order for \",\"citations\":null,\"visualizations\":null,\"intermediate_results\":null}',\n",
       " b'{\"answer\":\"100 units of the \\\\\"Untersuchungshandschuhe Nitril light lemon Gr. M\\\\\" glove model\",\"citations\":null,\"visualizations\":',\n",
       " b'null,\"intermediate_results\":null}',\n",
       " b'{\"answer\":\", as requested. Additionally, I have closed the ticket regarding the defective product.\",\"citations\":null,\"visualizat',\n",
       " b'ions\":null,\"intermediate_results\":null}',\n",
       " b'{\"answer\":\" Is there anything else I can assist you with?\",\"citations\":null,\"visualizations\":null,\"intermediate_results\":null}']"
      ]
     },
     "execution_count": 13,
     "metadata": {},
     "output_type": "execute_result"
    }
   ],
   "source": [
    "buffer = \"\"\n",
    "for chunk in response.iter_lines():\n",
    "    if chunk:\n",
    "        buffer += chunk.decode('utf-8')\n",
    "        try:\n",
    "            # Try to load the JSON object\n",
    "            json_obj = json.loads(buffer)\n",
    "            print(json_obj)\n",
    "            buffer = \"\"\n",
    "        except json.JSONDecodeError:\n",
    "            # If JSONDecodeError is raised, wait for more data\n",
    "            continue"
   ]
  },
  {
   "cell_type": "code",
   "execution_count": null,
   "metadata": {},
   "outputs": [],
   "source": []
  }
 ],
 "metadata": {
  "kernelspec": {
   "display_name": "Python 3 (ipykernel)",
   "language": "python",
   "name": "python3"
  },
  "language_info": {
   "codemirror_mode": {
    "name": "ipython",
    "version": 3
   },
   "file_extension": ".py",
   "mimetype": "text/x-python",
   "name": "python",
   "nbconvert_exporter": "python",
   "pygments_lexer": "ipython3",
   "version": "3.10.12"
  }
 },
 "nbformat": 4,
 "nbformat_minor": 4
}
