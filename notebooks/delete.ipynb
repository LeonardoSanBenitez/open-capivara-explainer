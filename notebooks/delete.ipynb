{
 "cells": [
  {
   "cell_type": "code",
   "execution_count": 1,
   "id": "f05b1bc6-f2ca-47d1-9039-9e9b718ca660",
   "metadata": {},
   "outputs": [
    {
     "data": {
      "text/plain": [
       "True"
      ]
     },
     "execution_count": 1,
     "metadata": {},
     "output_type": "execute_result"
    }
   ],
   "source": [
    "import os\n",
    "from libs.utils.connector_llm import *\n",
    "from libs.plugins.plugin_capital import PluginCapital\n",
    "import libs.plugin_converter.semantic_kernel_v0_to_openai_function as semantic_kernel_v0_to_openai_function\n",
    "import libs.plugin_converter.openai_function_to_tool as openai_function_to_tool\n",
    "\n",
    "\n",
    "\n",
    "import dotenv\n",
    "dotenv.load_dotenv()"
   ]
  },
  {
   "cell_type": "code",
   "execution_count": 2,
   "id": "a656adfa-70f5-453b-889e-b8d7f04cafe9",
   "metadata": {},
   "outputs": [],
   "source": [
    "llm = create_connector_llm(\n",
    "    provider='azure_openai',\n",
    "    modelname=os.getenv(\"AZURE_OPENAI_DEPLOYMENT_NAME_CHAT\"),\n",
    "    version=os.getenv(\"AZURE_OPENAI_DEPLOYMENT_NAME_CHAT\").split('-')[-1],\n",
    "    credentials=CredentialsOpenAI(\n",
    "        base_url=os.getenv(\"AZURE_OPENAI_ENDPOINT\"),\n",
    "        api_key=os.getenv(\"AZURE_OPENAI_KEY\"),\n",
    "    ),\n",
    ")"
   ]
  },
  {
   "cell_type": "code",
   "execution_count": null,
   "id": "a2d64099-ac5c-4b92-8b44-4f79c5164c2f",
   "metadata": {},
   "outputs": [],
   "source": [
    "llm = create_connector_llm(\n",
    "    provider='openai',\n",
    "    modelname='not-needed',\n",
    "    version='not-needed',\n",
    "    credentials=CredentialsOpenAI(\n",
    "        base_url='http://llm-server:8080/v1',\n",
    "        api_key='not-needed',\n",
    "    ),\n",
    ")\n"
   ]
  },
  {
   "cell_type": "code",
   "execution_count": null,
   "id": "29e8026c",
   "metadata": {},
   "outputs": [],
   "source": []
  },
  {
   "cell_type": "code",
   "execution_count": 6,
   "id": "5cc022ef-ade3-45e9-a39c-33218af8bb2a",
   "metadata": {},
   "outputs": [
    {
     "name": "stdout",
     "output_type": "stream",
     "text": [
      "ChatCompletion(id='chatcmpl-9uGXEJmaSDexo4x6OrDaA0WpaotMt', choices=[Choice(finish_reason='stop', index=0, logprobs=None, message=ChatCompletionMessage(content=None, refusal=None, role='assistant', function_call=None, tool_calls=[ChatCompletionMessageToolCall(id='call_J37mfByi5RtqjSoMcvsQu8UU', function=Function(arguments='{\"country\":\"Brazil\"}', name='PluginCapital_get_capital'), type='function')]), content_filter_results={})], created=1723196956, model='gpt-35-turbo', object='chat.completion', service_tier=None, system_fingerprint='fp_811936bd4f', usage=CompletionUsage(completion_tokens=15, prompt_tokens=232, total_tokens=247), prompt_filter_results=[{'prompt_index': 0, 'content_filter_results': {'hate': {'filtered': False, 'severity': 'safe'}, 'jailbreak': {'filtered': False, 'detected': False}, 'self_harm': {'filtered': False, 'severity': 'safe'}, 'sexual': {'filtered': False, 'severity': 'safe'}, 'violence': {'filtered': False, 'severity': 'safe'}}}])\n",
      "None\n",
      "----\n",
      "{'id': 'call_J37mfByi5RtqjSoMcvsQu8UU', 'type': 'function', 'function': {'arguments': '{\"country\":\"Brazil\"}', 'name': 'PluginCapital_get_capital'}}\n"
     ]
    }
   ],
   "source": [
    "# chat completion, normal, with function call\n",
    "chat_completion = llm.chat_completion(\n",
    "    messages=[\n",
    "        ChatCompletionMessage(**{'role': 'system', 'content': 'you are an AI assistant that answer only with function calls, nothing else. Always use the tools, do not answer without the tools.'}),\n",
    "        ChatCompletionMessage(**{'role': 'user', 'content': 'What is the capital of brasil?'}),\n",
    "    ],\n",
    "    tool_definitions = openai_function_to_tool.generate_definitions(semantic_kernel_v0_to_openai_function.generate_definitions([(PluginCapital(), \"PluginCapital\")])),\n",
    ")\n",
    "print(chat_completion.choices[0].message.content)\n",
    "print('----')\n",
    "print(chat_completion.choices[0].message.tool_calls[0].dict())"
   ]
  },
  {
   "cell_type": "code",
   "execution_count": 3,
   "id": "5d671f7a-41aa-4568-989b-f4aff023b569",
   "metadata": {},
   "outputs": [
    {
     "name": "stdout",
     "output_type": "stream",
     "text": [
      "ChatCompletionChunk(id='chatcmpl-9uGSgpTVoHYlSiiZhrWT8P1ZpPf40', choices=[Choice(delta=ChoiceDelta(content=None, function_call=None, refusal=None, role='assistant', tool_calls=[ChoiceDeltaToolCall(index=0, id='call_kNZd72McrEf6uL3FujaKOiQG', function=ChoiceDeltaToolCallFunction(arguments='', name='PluginCapital_get_capital'), type='function')]), finish_reason=None, index=0, logprobs=None, content_filter_results={})], created=1723196674, model='gpt-35-turbo', object='chat.completion.chunk', service_tier=None, system_fingerprint='fp_811936bd4f', usage=None)\n",
      "content='' role='assistant' tool_calls=[OpenAIToolCallPart(id='call_kNZd72McrEf6uL3FujaKOiQG', type='function', function=OpenaiFunctionCallPart(arguments='', name='PluginCapital_get_capital'))]\n",
      "-----\n",
      "ChatCompletionChunk(id='chatcmpl-9uGSgpTVoHYlSiiZhrWT8P1ZpPf40', choices=[Choice(delta=ChoiceDelta(content=None, function_call=None, refusal=None, role=None, tool_calls=[ChoiceDeltaToolCall(index=0, id=None, function=ChoiceDeltaToolCallFunction(arguments='{\"', name=None), type=None)]), finish_reason=None, index=0, logprobs=None, content_filter_results={})], created=1723196674, model='gpt-35-turbo', object='chat.completion.chunk', service_tier=None, system_fingerprint='fp_811936bd4f', usage=None)\n",
      "content='' role='assistant' tool_calls=[OpenAIToolCallPart(id=None, type=None, function=OpenaiFunctionCallPart(arguments='{\"', name=None))]\n",
      "-----\n",
      "ChatCompletionChunk(id='chatcmpl-9uGSgpTVoHYlSiiZhrWT8P1ZpPf40', choices=[Choice(delta=ChoiceDelta(content=None, function_call=None, refusal=None, role=None, tool_calls=[ChoiceDeltaToolCall(index=0, id=None, function=ChoiceDeltaToolCallFunction(arguments='country', name=None), type=None)]), finish_reason=None, index=0, logprobs=None, content_filter_results={})], created=1723196674, model='gpt-35-turbo', object='chat.completion.chunk', service_tier=None, system_fingerprint='fp_811936bd4f', usage=None)\n",
      "content='' role='assistant' tool_calls=[OpenAIToolCallPart(id=None, type=None, function=OpenaiFunctionCallPart(arguments='country', name=None))]\n",
      "-----\n",
      "ChatCompletionChunk(id='chatcmpl-9uGSgpTVoHYlSiiZhrWT8P1ZpPf40', choices=[Choice(delta=ChoiceDelta(content=None, function_call=None, refusal=None, role=None, tool_calls=[ChoiceDeltaToolCall(index=0, id=None, function=ChoiceDeltaToolCallFunction(arguments='\":\"', name=None), type=None)]), finish_reason=None, index=0, logprobs=None, content_filter_results={})], created=1723196674, model='gpt-35-turbo', object='chat.completion.chunk', service_tier=None, system_fingerprint='fp_811936bd4f', usage=None)\n",
      "content='' role='assistant' tool_calls=[OpenAIToolCallPart(id=None, type=None, function=OpenaiFunctionCallPart(arguments='\":\"', name=None))]\n",
      "-----\n",
      "ChatCompletionChunk(id='chatcmpl-9uGSgpTVoHYlSiiZhrWT8P1ZpPf40', choices=[Choice(delta=ChoiceDelta(content=None, function_call=None, refusal=None, role=None, tool_calls=[ChoiceDeltaToolCall(index=0, id=None, function=ChoiceDeltaToolCallFunction(arguments='Brazil', name=None), type=None)]), finish_reason=None, index=0, logprobs=None, content_filter_results={})], created=1723196674, model='gpt-35-turbo', object='chat.completion.chunk', service_tier=None, system_fingerprint='fp_811936bd4f', usage=None)\n",
      "content='' role='assistant' tool_calls=[OpenAIToolCallPart(id=None, type=None, function=OpenaiFunctionCallPart(arguments='Brazil', name=None))]\n",
      "-----\n",
      "ChatCompletionChunk(id='chatcmpl-9uGSgpTVoHYlSiiZhrWT8P1ZpPf40', choices=[Choice(delta=ChoiceDelta(content=None, function_call=None, refusal=None, role=None, tool_calls=[ChoiceDeltaToolCall(index=0, id=None, function=ChoiceDeltaToolCallFunction(arguments='\"}', name=None), type=None)]), finish_reason=None, index=0, logprobs=None, content_filter_results={})], created=1723196674, model='gpt-35-turbo', object='chat.completion.chunk', service_tier=None, system_fingerprint='fp_811936bd4f', usage=None)\n",
      "content='' role='assistant' tool_calls=[OpenAIToolCallPart(id=None, type=None, function=OpenaiFunctionCallPart(arguments='\"}', name=None))]\n",
      "-----\n",
      "ChatCompletionChunk(id='chatcmpl-9uGSgpTVoHYlSiiZhrWT8P1ZpPf40', choices=[Choice(delta=ChoiceDelta(content=None, function_call=None, refusal=None, role=None, tool_calls=None), finish_reason='tool_calls', index=0, logprobs=None, content_filter_results={})], created=1723196674, model='gpt-35-turbo', object='chat.completion.chunk', service_tier=None, system_fingerprint='fp_811936bd4f', usage=None)\n",
      "content='' role='assistant' tool_calls=None\n",
      "-----\n"
     ]
    }
   ],
   "source": [
    "# chat completion, stream, with function call\n",
    "chat_completion_stream = llm.chat_completion_stream(\n",
    "    messages=[\n",
    "        ChatCompletionMessage(**{'role': 'system', 'content': 'you are an AI assistant that answer only with function calls, nothing else. Always use the tools, do not answer without the tools.'}),\n",
    "        ChatCompletionMessage(**{'role': 'user', 'content': 'What is the capital of brasil?'}),\n",
    "    ],\n",
    "    tool_definitions = openai_function_to_tool.generate_definitions(semantic_kernel_v0_to_openai_function.generate_definitions([(PluginCapital(), \"PluginCapital\")])),\n",
    ")\n",
    "for chunk in chat_completion_stream:\n",
    "    if len(chunk.choices) > 0:\n",
    "        #print(chunk.choices[0].message.content, end='')\n",
    "        print(chunk.choices[0].message, end='\\n-----\\n')"
   ]
  },
  {
   "cell_type": "code",
   "execution_count": 4,
   "id": "7cccd57f-604b-4da1-aa60-140f3653131d",
   "metadata": {},
   "outputs": [
    {
     "name": "stdout",
     "output_type": "stream",
     "text": [
      "ChatCompletion(id='chatcmpl-9uGWZWX1vZR7OsWk8RJKPiQvWRrwY', choices=[Choice(finish_reason='stop', index=0, logprobs=None, message=ChatCompletionMessage(content=None, refusal=None, role='assistant', function_call=None, tool_calls=[ChatCompletionMessageToolCall(id='call_iv7p19OxQcAR4IvxZNUMnAQq', function=Function(arguments='{\"country\":\"Brazil\"}', name='PluginCapital_get_capital'), type='function')]), content_filter_results={})], created=1723196915, model='gpt-35-turbo', object='chat.completion', service_tier=None, system_fingerprint='fp_811936bd4f', usage=CompletionUsage(completion_tokens=15, prompt_tokens=232, total_tokens=247), prompt_filter_results=[{'prompt_index': 0, 'content_filter_results': {'hate': {'filtered': False, 'severity': 'safe'}, 'jailbreak': {'filtered': False, 'detected': False}, 'self_harm': {'filtered': False, 'severity': 'safe'}, 'sexual': {'filtered': False, 'severity': 'safe'}, 'violence': {'filtered': False, 'severity': 'safe'}}}])\n",
      "None\n",
      "----\n",
      "{'id': 'call_iv7p19OxQcAR4IvxZNUMnAQq', 'type': 'function', 'function': {'arguments': '{\"country\":\"Brazil\"}', 'name': 'PluginCapital_get_capital'}}\n"
     ]
    }
   ],
   "source": [
    "# chat completion, normal, async\n",
    "chat_completion = await llm.chat_completion_async(\n",
    "    messages=[\n",
    "        ChatCompletionMessage(**{'role': 'system', 'content': 'you are an AI assistant that answer only with function calls, nothing else. Always use the tools, do not answer without the tools.'}),\n",
    "        ChatCompletionMessage(**{'role': 'user', 'content': 'What is the capital of brasil?'}),\n",
    "    ],\n",
    "    tool_definitions = openai_function_to_tool.generate_definitions(semantic_kernel_v0_to_openai_function.generate_definitions([(PluginCapital(), \"PluginCapital\")])),\n",
    ")\n",
    "print(chat_completion.choices[0].message.content)\n",
    "print('----')\n",
    "print(chat_completion.choices[0].message.tool_calls[0].dict())"
   ]
  },
  {
   "cell_type": "code",
   "execution_count": 5,
   "id": "332cdc60-bbff-488e-8cda-b940eed452b5",
   "metadata": {},
   "outputs": [
    {
     "name": "stdout",
     "output_type": "stream",
     "text": [
      "ChatCompletionChunk(id='chatcmpl-9uGWqFtkdH62t9hUqYMezueUCTnlu', choices=[Choice(delta=ChoiceDelta(content=None, function_call=None, refusal=None, role='assistant', tool_calls=[ChoiceDeltaToolCall(index=0, id='call_s6U4Y6T1fasS1RvvypfC7gfQ', function=ChoiceDeltaToolCallFunction(arguments='', name='PluginCapital_get_capital'), type='function')]), finish_reason=None, index=0, logprobs=None, content_filter_results={})], created=1723196932, model='gpt-35-turbo', object='chat.completion.chunk', service_tier=None, system_fingerprint='fp_811936bd4f', usage=None)\n",
      "content='' role='assistant' tool_calls=[OpenAIToolCallPart(id='call_s6U4Y6T1fasS1RvvypfC7gfQ', type='function', function=OpenaiFunctionCallPart(arguments='', name='PluginCapital_get_capital'))]\n",
      "-----\n",
      "ChatCompletionChunk(id='chatcmpl-9uGWqFtkdH62t9hUqYMezueUCTnlu', choices=[Choice(delta=ChoiceDelta(content=None, function_call=None, refusal=None, role=None, tool_calls=[ChoiceDeltaToolCall(index=0, id=None, function=ChoiceDeltaToolCallFunction(arguments='{\"', name=None), type=None)]), finish_reason=None, index=0, logprobs=None, content_filter_results={})], created=1723196932, model='gpt-35-turbo', object='chat.completion.chunk', service_tier=None, system_fingerprint='fp_811936bd4f', usage=None)\n",
      "content='' role='assistant' tool_calls=[OpenAIToolCallPart(id=None, type=None, function=OpenaiFunctionCallPart(arguments='{\"', name=None))]\n",
      "-----\n",
      "ChatCompletionChunk(id='chatcmpl-9uGWqFtkdH62t9hUqYMezueUCTnlu', choices=[Choice(delta=ChoiceDelta(content=None, function_call=None, refusal=None, role=None, tool_calls=[ChoiceDeltaToolCall(index=0, id=None, function=ChoiceDeltaToolCallFunction(arguments='country', name=None), type=None)]), finish_reason=None, index=0, logprobs=None, content_filter_results={})], created=1723196932, model='gpt-35-turbo', object='chat.completion.chunk', service_tier=None, system_fingerprint='fp_811936bd4f', usage=None)\n",
      "content='' role='assistant' tool_calls=[OpenAIToolCallPart(id=None, type=None, function=OpenaiFunctionCallPart(arguments='country', name=None))]\n",
      "-----\n",
      "ChatCompletionChunk(id='chatcmpl-9uGWqFtkdH62t9hUqYMezueUCTnlu', choices=[Choice(delta=ChoiceDelta(content=None, function_call=None, refusal=None, role=None, tool_calls=[ChoiceDeltaToolCall(index=0, id=None, function=ChoiceDeltaToolCallFunction(arguments='\":\"', name=None), type=None)]), finish_reason=None, index=0, logprobs=None, content_filter_results={})], created=1723196932, model='gpt-35-turbo', object='chat.completion.chunk', service_tier=None, system_fingerprint='fp_811936bd4f', usage=None)\n",
      "content='' role='assistant' tool_calls=[OpenAIToolCallPart(id=None, type=None, function=OpenaiFunctionCallPart(arguments='\":\"', name=None))]\n",
      "-----\n",
      "ChatCompletionChunk(id='chatcmpl-9uGWqFtkdH62t9hUqYMezueUCTnlu', choices=[Choice(delta=ChoiceDelta(content=None, function_call=None, refusal=None, role=None, tool_calls=[ChoiceDeltaToolCall(index=0, id=None, function=ChoiceDeltaToolCallFunction(arguments='Brazil', name=None), type=None)]), finish_reason=None, index=0, logprobs=None, content_filter_results={})], created=1723196932, model='gpt-35-turbo', object='chat.completion.chunk', service_tier=None, system_fingerprint='fp_811936bd4f', usage=None)\n",
      "content='' role='assistant' tool_calls=[OpenAIToolCallPart(id=None, type=None, function=OpenaiFunctionCallPart(arguments='Brazil', name=None))]\n",
      "-----\n",
      "ChatCompletionChunk(id='chatcmpl-9uGWqFtkdH62t9hUqYMezueUCTnlu', choices=[Choice(delta=ChoiceDelta(content=None, function_call=None, refusal=None, role=None, tool_calls=[ChoiceDeltaToolCall(index=0, id=None, function=ChoiceDeltaToolCallFunction(arguments='\"}', name=None), type=None)]), finish_reason=None, index=0, logprobs=None, content_filter_results={})], created=1723196932, model='gpt-35-turbo', object='chat.completion.chunk', service_tier=None, system_fingerprint='fp_811936bd4f', usage=None)\n",
      "content='' role='assistant' tool_calls=[OpenAIToolCallPart(id=None, type=None, function=OpenaiFunctionCallPart(arguments='\"}', name=None))]\n",
      "-----\n",
      "ChatCompletionChunk(id='chatcmpl-9uGWqFtkdH62t9hUqYMezueUCTnlu', choices=[Choice(delta=ChoiceDelta(content=None, function_call=None, refusal=None, role=None, tool_calls=None), finish_reason='tool_calls', index=0, logprobs=None, content_filter_results={})], created=1723196932, model='gpt-35-turbo', object='chat.completion.chunk', service_tier=None, system_fingerprint='fp_811936bd4f', usage=None)\n",
      "content='' role='assistant' tool_calls=None\n",
      "-----\n"
     ]
    }
   ],
   "source": [
    "# chat completion, stream, async\n",
    "chat_completion_stream = llm.chat_completion_stream_async(\n",
    "    messages=[\n",
    "        ChatCompletionMessage(**{'role': 'system', 'content': 'you are an AI assistant that answer only with function calls, nothing else. Always use the tools, do not answer without the tools.'}),\n",
    "        ChatCompletionMessage(**{'role': 'user', 'content': 'What is the capital of brasil?'}),\n",
    "    ],\n",
    "    tool_definitions = openai_function_to_tool.generate_definitions(semantic_kernel_v0_to_openai_function.generate_definitions([(PluginCapital(), \"PluginCapital\")])),\n",
    ")\n",
    "async for chunk in chat_completion_stream:\n",
    "    if len(chunk.choices) > 0:\n",
    "        #print(chunk.choices[0].message.content, end='')\n",
    "        print(chunk.choices[0].message, end='\\n-----\\n')"
   ]
  },
  {
   "cell_type": "code",
   "execution_count": null,
   "id": "f71c0d72-2044-45c4-92b0-282c7031b1e4",
   "metadata": {},
   "outputs": [],
   "source": []
  },
  {
   "cell_type": "code",
   "execution_count": null,
   "id": "584d31fa-7837-4761-96ce-581f6ff6877b",
   "metadata": {},
   "outputs": [],
   "source": []
  },
  {
   "cell_type": "code",
   "execution_count": null,
   "id": "4a64720c-9b65-4a9f-bb53-f6c76caa21b9",
   "metadata": {},
   "outputs": [],
   "source": []
  },
  {
   "cell_type": "code",
   "execution_count": null,
   "id": "a2631d6c-416b-4fdc-baaf-0c71a655a798",
   "metadata": {},
   "outputs": [],
   "source": [
    "import os\n",
    "from openai import AzureOpenAI\n",
    "    \n",
    "client = AzureOpenAI(\n",
    "    api_key=os.getenv(\"AZURE_OPENAI_KEY\"),  \n",
    "    api_version=\"2024-05-01-preview\",\n",
    "    azure_endpoint=os.getenv(\"AZURE_OPENAI_ENDPOINT\")\n",
    ")"
   ]
  },
  {
   "cell_type": "code",
   "execution_count": null,
   "id": "55932dc7-3f09-4463-a1ab-01bb4d5c4479",
   "metadata": {},
   "outputs": [],
   "source": [
    "chat_completion = await client.chat.completions.create(\n",
    "    model=os.getenv(\"AZURE_OPENAI_DEPLOYMENT_NAME_CHAT\"),\n",
    "    messages= [\n",
    "    {\n",
    "      \"role\": \"user\",\n",
    "      \"content\": \"What are the differences between Azure Machine Learning and Azure AI services?\"\n",
    "    }],\n",
    "    max_tokens=800,\n",
    "    temperature=0.7,\n",
    "    top_p=0.95,\n",
    "    frequency_penalty=0,\n",
    "    presence_penalty=0,\n",
    "    stop=None,\n",
    "    stream=False\n",
    ")\n",
    "print(type(chat_completion))\n",
    "#print(chat_completion_stream.to_dict().keys())\n",
    "#print(chat_completion_stream.to_json())"
   ]
  },
  {
   "cell_type": "code",
   "execution_count": null,
   "id": "332374a9-c1c8-4d27-a208-087ab12a4f27",
   "metadata": {},
   "outputs": [],
   "source": [
    "chat_completion.to_json()"
   ]
  },
  {
   "cell_type": "code",
   "execution_count": null,
   "id": "53575421-59f8-470a-a185-904aa66a97b9",
   "metadata": {},
   "outputs": [],
   "source": [
    "print(type(chat_completion))\n"
   ]
  },
  {
   "cell_type": "code",
   "execution_count": null,
   "id": "d70528ed-6a69-44ca-b6cb-80704efafb1d",
   "metadata": {},
   "outputs": [],
   "source": [
    "dir(chat_completion_stream)"
   ]
  },
  {
   "cell_type": "code",
   "execution_count": null,
   "id": "c38dbaea-f638-4aac-a1ca-9a9a29fa44f4",
   "metadata": {},
   "outputs": [],
   "source": [
    "chat_completion_stream.to_json()"
   ]
  },
  {
   "cell_type": "code",
   "execution_count": null,
   "id": "a6269a18-49bf-4488-a095-02af2bd73d62",
   "metadata": {},
   "outputs": [],
   "source": [
    "print(type(chat_completion_stream))\n",
    "#print(chat_completion_stream.to_dict().keys())\n",
    "#print(chat_completion_stream.to_json())"
   ]
  },
  {
   "cell_type": "code",
   "execution_count": null,
   "id": "e37e2b75-6c55-4fba-80c3-e7e2873a1c4c",
   "metadata": {},
   "outputs": [],
   "source": [
    "chat_completion_stream = client.chat.completions.create(\n",
    "    model=os.getenv(\"AZURE_OPENAI_DEPLOYMENT_NAME_CHAT\"),\n",
    "    messages= [\n",
    "    {\n",
    "      \"role\": \"user\",\n",
    "      \"content\": \"What are the differences between Azure Machine Learning and Azure AI services?\"\n",
    "    }],\n",
    "    max_tokens=800,\n",
    "    temperature=0.7,\n",
    "    top_p=0.95,\n",
    "    frequency_penalty=0,\n",
    "    presence_penalty=0,\n",
    "    stop=None,\n",
    "    stream=True\n",
    ")\n",
    "print(type(chat_completion_stream))\n",
    "#print(chat_completion_stream.to_dict().keys())\n",
    "#print(chat_completion_stream.to_json())"
   ]
  },
  {
   "cell_type": "code",
   "execution_count": null,
   "id": "272d1f88-29a7-4720-83d3-d19993bbd9ce",
   "metadata": {},
   "outputs": [],
   "source": [
    "type(chat_completion_stream._iterator)"
   ]
  },
  {
   "cell_type": "code",
   "execution_count": null,
   "id": "ea7efb62-f37d-40a1-970d-2e0e1eb9d8a1",
   "metadata": {},
   "outputs": [],
   "source": [
    "chunk = chat_completion_stream.__next__()"
   ]
  },
  {
   "cell_type": "code",
   "execution_count": null,
   "id": "acbb49de-a553-485f-a50f-ebe8de5ad28f",
   "metadata": {},
   "outputs": [],
   "source": [
    "type(chunk)"
   ]
  },
  {
   "cell_type": "code",
   "execution_count": null,
   "id": "226e0799-de16-47a0-85da-5c67137dab08",
   "metadata": {},
   "outputs": [],
   "source": [
    "chunk.dict()"
   ]
  },
  {
   "cell_type": "code",
   "execution_count": null,
   "id": "c621a5bd-0e3b-4662-84aa-208ea2011393",
   "metadata": {},
   "outputs": [],
   "source": [
    "chunk.choices[0].delta.dict()"
   ]
  },
  {
   "cell_type": "code",
   "execution_count": null,
   "id": "41c605c3-b29c-45c5-bd1d-a6a7162d9e9d",
   "metadata": {},
   "outputs": [],
   "source": [
    "ChatCompletion(**chunk.dict())"
   ]
  },
  {
   "cell_type": "code",
   "execution_count": null,
   "id": "253cade1-da04-442f-86d3-f1e834c87a2b",
   "metadata": {},
   "outputs": [],
   "source": [
    "dir(chat_completion_stream)"
   ]
  },
  {
   "cell_type": "code",
   "execution_count": null,
   "id": "26184f27-03f6-4e2c-aea1-566ae31519fb",
   "metadata": {},
   "outputs": [],
   "source": [
    "print(chat_completion_stream.to_dict().keys())"
   ]
  },
  {
   "cell_type": "code",
   "execution_count": null,
   "id": "5e3339b5-e98c-45cb-a5fc-9314cac112d8",
   "metadata": {},
   "outputs": [],
   "source": [
    "ChatCompletion(**chat_completion.dict()).dict()"
   ]
  },
  {
   "cell_type": "code",
   "execution_count": null,
   "id": "da323a59-705c-4257-bdc6-a9a4d7a93608",
   "metadata": {},
   "outputs": [],
   "source": []
  },
  {
   "cell_type": "code",
   "execution_count": null,
   "id": "a71c5444-74e9-4609-a98a-7b70c89132c5",
   "metadata": {},
   "outputs": [],
   "source": []
  },
  {
   "cell_type": "code",
   "execution_count": null,
   "id": "87d1ef5a-8ad6-4798-ac5a-0e46d94a6b95",
   "metadata": {},
   "outputs": [],
   "source": []
  },
  {
   "cell_type": "code",
   "execution_count": null,
   "id": "86eba949-089f-4cff-9eea-6e1d14a7ff0a",
   "metadata": {},
   "outputs": [],
   "source": []
  },
  {
   "cell_type": "code",
   "execution_count": null,
   "id": "e01c1c42-5578-48c7-80eb-c7bf1a9dd00d",
   "metadata": {},
   "outputs": [],
   "source": []
  },
  {
   "cell_type": "code",
   "execution_count": null,
   "id": "d4cf7f88-b0a7-44eb-8959-6aebbc622ed1",
   "metadata": {},
   "outputs": [],
   "source": []
  },
  {
   "cell_type": "code",
   "execution_count": null,
   "id": "fd46da31-8b97-4915-8889-d707d905f9ac",
   "metadata": {},
   "outputs": [],
   "source": []
  }
 ],
 "metadata": {
  "kernelspec": {
   "display_name": "Python 3 (ipykernel)",
   "language": "python",
   "name": "python3"
  },
  "language_info": {
   "codemirror_mode": {
    "name": "ipython",
    "version": 3
   },
   "file_extension": ".py",
   "mimetype": "text/x-python",
   "name": "python",
   "nbconvert_exporter": "python",
   "pygments_lexer": "ipython3",
   "version": "3.10.12"
  }
 },
 "nbformat": 4,
 "nbformat_minor": 5
}
