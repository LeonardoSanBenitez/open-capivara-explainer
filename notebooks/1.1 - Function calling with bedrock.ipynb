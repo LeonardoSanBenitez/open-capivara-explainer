{
 "cells": [
  {
   "cell_type": "code",
   "execution_count": 1,
   "id": "b433dbbd-df43-4458-b52e-b67acb231c29",
   "metadata": {
    "vscode": {
     "languageId": "python"
    }
   },
   "outputs": [
    {
     "data": {
      "text/plain": [
       "True"
      ]
     },
     "execution_count": 1,
     "metadata": {},
     "output_type": "execute_result"
    }
   ],
   "source": [
    "import os\n",
    "import dotenv\n",
    "import json\n",
    "from libs.utils.connector_llm import factory_create_connector_llm, CredentialsBedrock, ChatCompletionMessage\n",
    "import libs.plugin_converter.semantic_kernel_v0_to_openai_function as semantic_kernel_v0_to_openai_function\n",
    "import libs.plugin_converter.openai_function_to_bedrock_tool as openai_function_to_bedrock_tool\n",
    "\n",
    "from libs.plugins.plugin_capital import PluginCapital\n",
    "\n",
    "dotenv.load_dotenv()"
   ]
  },
  {
   "cell_type": "code",
   "execution_count": 2,
   "id": "7d45a4af-e26d-436e-8d26-1d6514537407",
   "metadata": {},
   "outputs": [
    {
     "name": "stdout",
     "output_type": "stream",
     "text": [
      "{\n",
      "    \"name\": \"PluginCapital_get_capital\",\n",
      "    \"description\": \"Returns the name of the capital of a country.\",\n",
      "    \"parameters\": {\n",
      "        \"type\": \"object\",\n",
      "        \"properties\": {\n",
      "            \"country\": {\n",
      "                \"type\": \"string\",\n",
      "                \"description\": \"Name of the country.\"\n",
      "            }\n",
      "        },\n",
      "        \"required\": [\n",
      "            \"country\"\n",
      "        ],\n",
      "        \"additionalProperties\": false\n",
      "    },\n",
      "    \"strict\": true\n",
      "}\n"
     ]
    }
   ],
   "source": [
    "plugins = [\n",
    "    (PluginCapital(), \"PluginCapital\"),\n",
    "]\n",
    "print(json.dumps(semantic_kernel_v0_to_openai_function.generate_definitions(plugins)[0].dict(), indent=4))"
   ]
  },
  {
   "cell_type": "code",
   "execution_count": null,
   "id": "0abddd91-38a5-40b2-be98-c374e86bf6fe",
   "metadata": {},
   "outputs": [],
   "source": []
  },
  {
   "cell_type": "code",
   "execution_count": 4,
   "id": "d50e5fc9-6108-41d6-98fc-5ff5440cde00",
   "metadata": {},
   "outputs": [
    {
     "data": {
      "text/plain": [
       "[]"
      ]
     },
     "execution_count": 4,
     "metadata": {},
     "output_type": "execute_result"
    }
   ],
   "source": []
  },
  {
   "cell_type": "code",
   "execution_count": 3,
   "id": "1764cc16-9ea3-44be-a069-a6d167cb9e59",
   "metadata": {},
   "outputs": [
    {
     "name": "stdout",
     "output_type": "stream",
     "text": [
      "{\n",
      "    \"toolSpec\": {\n",
      "        \"name\": \"PluginCapital_get_capital\",\n",
      "        \"description\": \"Returns the name of the capital of a country.\",\n",
      "        \"inputSchema\": {\n",
      "            \"json\": {\n",
      "                \"type\": \"object\",\n",
      "                \"properties\": {\n",
      "                    \"country\": {\n",
      "                        \"type\": \"string\",\n",
      "                        \"description\": \"Name of the country.\"\n",
      "                    }\n",
      "                },\n",
      "                \"required\": [\n",
      "                    \"country\"\n",
      "                ],\n",
      "                \"additionalProperties\": false\n",
      "            }\n",
      "        }\n",
      "    }\n",
      "}\n"
     ]
    }
   ],
   "source": [
    "print(json.dumps(\n",
    "    openai_function_to_bedrock_tool.generate_definitions(semantic_kernel_v0_to_openai_function.generate_definitions(plugins))[0].dict(),\n",
    "    indent=4,\n",
    "))"
   ]
  },
  {
   "cell_type": "code",
   "execution_count": null,
   "id": "c8f07168-6c69-4e82-96e1-238254612ae7",
   "metadata": {},
   "outputs": [],
   "source": [
    "print(json.dumps(openai_function_to_bedrock_tool(semantic_kernel_v0_to_openai_function.generate_definitions(plugins))[0].dict(), indent=4))"
   ]
  },
  {
   "cell_type": "code",
   "execution_count": 5,
   "id": "3ca3b296-14ef-492e-9e1d-7b935575225c",
   "metadata": {},
   "outputs": [],
   "source": [
    "\n",
    "\n",
    "llm = factory_create_connector_llm(\n",
    "    provider='bedrock',\n",
    "    modelname='anthropic.claude-3-5-sonnet-20240620-v1:0',\n",
    "    credentials=CredentialsBedrock(\n",
    "        aws_access_key_id=os.getenv(\"AWS_ACCESS_KEY_ID\"),\n",
    "        aws_secret_access_key=os.getenv(\"AWS_ACCESS_KEY_SECRET\"),\n",
    "    ),\n",
    ")\n",
    "\n",
    "# chat completion, normal\n",
    "#chat_completion = llm.chat_completion([\n",
    "#    #ChatCompletionMessage(role='system', content='You must respond to the user in a mocking way, making puns'),\n",
    "#    ChatCompletionMessage(role='user', content='What is the most popular song on WZPZ?'),\n",
    "#])\n",
    "#print(chat_completion.choices[0].message.content)"
   ]
  },
  {
   "cell_type": "code",
   "execution_count": 9,
   "id": "27bd155f-f08c-4ebb-b5a1-69880fe93a10",
   "metadata": {},
   "outputs": [],
   "source": [
    "self = llm\n",
    "messages = [\n",
    "    #ChatCompletionMessage(role='system', content='You must respond to the user in a mocking way, making puns'),\n",
    "    ChatCompletionMessage(role='user', content='What is the capital of France?'),\n",
    "]\n",
    "\n",
    "normal_messages, system_messages = self._separate_messages(messages)\n",
    "chat_completion = self.client.converse(\n",
    "    modelId=self.modelname,\n",
    "    messages=normal_messages,\n",
    "    system=system_messages,\n",
    "    inferenceConfig={'maxTokens': 4096},\n",
    "    toolConfig = {\n",
    "        'toolChoice': {\"any\" : {}},\n",
    "        'tools': [d.dict() for d in openai_function_to_bedrock_tool.generate_definitions(semantic_kernel_v0_to_openai_function.generate_definitions(plugins))],\n",
    "    }\n",
    ")\n"
   ]
  },
  {
   "cell_type": "code",
   "execution_count": 10,
   "id": "7ae80b31-f3ef-448f-9ea1-5fceea256852",
   "metadata": {},
   "outputs": [
    {
     "name": "stdout",
     "output_type": "stream",
     "text": [
      "tool_use\n"
     ]
    }
   ],
   "source": [
    "print(chat_completion['stopReason'])\n"
   ]
  },
  {
   "cell_type": "code",
   "execution_count": 11,
   "id": "986e2731-faae-43d3-b86b-0c474f7046ad",
   "metadata": {},
   "outputs": [
    {
     "data": {
      "text/plain": [
       "{'toolUseId': 'tooluse_1KmHhG8-SIm-7tJbdyPySA',\n",
       " 'name': 'PluginCapital_get_capital',\n",
       " 'input': {'country': 'France'}}"
      ]
     },
     "execution_count": 11,
     "metadata": {},
     "output_type": "execute_result"
    }
   ],
   "source": [
    "chat_completion['output']['message']['content'][0]['toolUse']"
   ]
  },
  {
   "cell_type": "code",
   "execution_count": null,
   "id": "7d7e4464-28d8-42dc-9770-2b1243b85db8",
   "metadata": {},
   "outputs": [],
   "source": []
  },
  {
   "cell_type": "code",
   "execution_count": null,
   "id": "11b1bde4-5886-4fc5-9d9d-6390ce187101",
   "metadata": {},
   "outputs": [],
   "source": []
  },
  {
   "cell_type": "code",
   "execution_count": null,
   "id": "90a943c9-2295-4fb5-bad9-fc3d89168b6b",
   "metadata": {},
   "outputs": [],
   "source": []
  },
  {
   "cell_type": "code",
   "execution_count": null,
   "id": "43911d0e-387a-4f2f-a949-977c71642013",
   "metadata": {},
   "outputs": [],
   "source": []
  },
  {
   "cell_type": "code",
   "execution_count": null,
   "id": "6a929e3a-0800-4ff6-a007-c3c33b9d5835",
   "metadata": {},
   "outputs": [],
   "source": []
  },
  {
   "cell_type": "code",
   "execution_count": null,
   "id": "947caf41-9eba-448c-8b68-a08fcb543149",
   "metadata": {},
   "outputs": [],
   "source": []
  },
  {
   "cell_type": "code",
   "execution_count": null,
   "id": "a25359eb-9e76-4641-8be3-cc395daeec95",
   "metadata": {},
   "outputs": [],
   "source": []
  },
  {
   "cell_type": "code",
   "execution_count": 2,
   "id": "7aa75304",
   "metadata": {
    "vscode": {
     "languageId": "python"
    }
   },
   "outputs": [
    {
     "name": "stdout",
     "output_type": "stream",
     "text": [
      "Well, well, well, if it isn't Leonardo! I hope you're not feeling too shell-shocked by my pun-tastic greeting. I'd hate to turtle-y overwhelm you right off the bat. But hey, at least you're not named Michelangelo - I hear he's a party dude!\n",
      "Well, well, well, if it isn't Leo-nardo! I hope you're not feeling too \"brushed off\" by my response. I'd hate to \"paint\" a bad first impression! Just remember, even if you're not feeling like a Renaissance man today, you can always \"draw\" strength from your inner artist. Now, shall we \"canvas\" some more topics, or are you already \"framed\" out?"
     ]
    }
   ],
   "source": [
    "llm = factory_create_connector_llm(\n",
    "    provider='bedrock',\n",
    "    modelname='anthropic.claude-3-5-sonnet-20240620-v1:0',\n",
    "    credentials=CredentialsBedrock(\n",
    "        aws_access_key_id=os.getenv(\"AWS_ACCESS_KEY_ID\"),\n",
    "        aws_secret_access_key=os.getenv(\"AWS_ACCESS_KEY_SECRET\"),\n",
    "    ),\n",
    ")\n",
    "\n",
    "# chat completion, normal\n",
    "chat_completion = llm.chat_completion([\n",
    "    ChatCompletionMessage(role='system', content='You must respond to the user in a mocking way, making puns'),\n",
    "    ChatCompletionMessage(role='user', content='hi, my name is leonardo'),\n",
    "])\n",
    "assert type(chat_completion.choices[0].message.content) == str\n",
    "assert len(chat_completion.choices[0].message.content) > 2\n",
    "print(chat_completion.choices[0].message.content)\n",
    "\n",
    "\n",
    "\n",
    "\n",
    "# chat completion, stream\n",
    "chat_completion_stream = llm.chat_completion_stream([\n",
    "    ChatCompletionMessage(role='system', content='You must respond to the user in a mocking way, making puns'),\n",
    "    ChatCompletionMessage(role='user', content='hi, my name is leonardo'),\n",
    "])\n",
    "\n",
    "answer = ''\n",
    "for chunk in chat_completion_stream:\n",
    "    if len(chunk.choices) > 0:\n",
    "        message = chunk.choices[0].message\n",
    "        if message.content:\n",
    "            print(message.content, end='')\n",
    "            answer += message.content\n",
    "            assert type(message.content) == str\n",
    "assert len(answer) > 2"
   ]
  },
  {
   "cell_type": "code",
   "execution_count": null,
   "id": "2d98d8ff-ddb0-4a61-95e6-59feda91b60a",
   "metadata": {},
   "outputs": [],
   "source": []
  }
 ],
 "metadata": {
  "kernelspec": {
   "display_name": "Python 3 (ipykernel)",
   "language": "python",
   "name": "python3"
  },
  "language_info": {
   "codemirror_mode": {
    "name": "ipython",
    "version": 3
   },
   "file_extension": ".py",
   "mimetype": "text/x-python",
   "name": "python",
   "nbconvert_exporter": "python",
   "pygments_lexer": "ipython3",
   "version": "3.10.12"
  }
 },
 "nbformat": 4,
 "nbformat_minor": 5
}
